{
 "cells": [
  {
   "cell_type": "code",
   "execution_count": null,
   "metadata": {},
   "outputs": [],
   "source": [
    "num = int(input())\n",
    "if num%2 == 0:\n",
    "    print(\"Even\")\n",
    "else:\n",
    "    print(\"Odd\")"
   ]
  },
  {
   "cell_type": "code",
   "execution_count": 6,
   "metadata": {},
   "outputs": [
    {
     "name": "stdout",
     "output_type": "stream",
     "text": [
      "18\n",
      "*****\n",
      " ***\n",
      "  *\n",
      " ***\n",
      "*****\n",
      "0\n"
     ]
    }
   ],
   "source": [
    "input_ = input().split()\n",
    "num = int(input_[0])\n",
    "fuhao = input_[1]\n",
    "\n",
    "num = num - 1\n",
    "if num == 0:\n",
    "  print(fuhao)\n",
    "  print('0')\n",
    "else:\n",
    "  \n",
    "  \n",
    "  c = int(a/2)\n",
    "  for i in range(c, 0, -1):\n",
    "    print(' '*(c-i), end='')\n",
    "    print(fuhao*(i*2+1))\n",
    "  print(' '*c, end='')\n",
    "  print(fuhao)\n",
    "  for i in range(1, c+1):\n",
    "    print(' '*(c-i), end='')\n",
    "    print(fuhao*(i*2+1))\n",
    "  print(b)\n"
   ]
  },
  {
   "cell_type": "code",
   "execution_count": 10,
   "metadata": {},
   "outputs": [
    {
     "name": "stdout",
     "output_type": "stream",
     "text": [
      "   \n",
      "\n",
      "  *\n",
      "\n",
      " * *\n",
      "\n",
      "*   *\n",
      "\n",
      " * *\n",
      "\n",
      "  *\n",
      "\n"
     ]
    }
   ],
   "source": [
    "rows = int(input())\n",
    "if rows%2 == 0:\n",
    "  print(\"Error\")\n",
    "else:\n",
    "  rows = int((rows+1)/2)\n",
    "  for i in range(rows):#变量i控制行数\n",
    "      for j in range(rows - i):#(1,rows-i)\n",
    "          print(\" \",end='')\n",
    "          j += 1\n",
    "      for k in range(2 * i - 1):#(1,2*i)\n",
    "          if k == 0 or k == 2 * i - 2:\n",
    "              print(\"*\",end='')\n",
    "          else:\n",
    "              print(\" \",end='')\n",
    "          k += 1\n",
    "      print(\"\\n\")\n",
    "      i += 1\n",
    "      #菱形的下半部分\n",
    "  for i in range(rows):\n",
    "      for j in range(i):#(1,rows-i)\n",
    "          print(\" \",end='')\n",
    "          j += 1\n",
    "      for k in range(2 * (rows - i) - 1):#(1,2*i)\n",
    "          if k == 0 or k == 2 * (rows - i) - 2:\n",
    "              print(\"*\",end='')\n",
    "          else:\n",
    "              print(\" \",end='')\n",
    "          k += 1\n",
    "      print(\"\\n\")\n",
    "      i += 1"
   ]
  },
  {
   "cell_type": "markdown",
   "metadata": {},
   "source": [
    "# 数字螺旋方阵"
   ]
  },
  {
   "cell_type": "code",
   "execution_count": 11,
   "metadata": {},
   "outputs": [
    {
     "name": "stdout",
     "output_type": "stream",
     "text": [
      "  25  24  23  22  21\n",
      "  10   9   8   7  20\n",
      "  11   2   1   6  19\n",
      "  12   3   4   5  18\n",
      "  13  14  15  16  17\n",
      "  36  35  34  33  32  31\n",
      "  17  16  15  14  13  30\n",
      "  18   5   4   3  12  29\n",
      "  19   6   1   2  11  28\n",
      "  20   7   8   9  10  27\n",
      "  21  22  23  24  25  26\n"
     ]
    }
   ],
   "source": [
    "sss = int(input())\n",
    "nums = []\n",
    "for s in range(sss):\n",
    "  nums.append(int(input()))\n",
    "  \n",
    "def genM(num):\n",
    "  initM = [[0 for i in range(num)] for j in range(num)]\n",
    "  c = num*num+1\n",
    "  k = 0\n",
    "  l = num-1\n",
    "  while(k<=l):\n",
    "    for j in range(k, l+1):\n",
    "      c -= 1\n",
    "      initM[k][j] = c\n",
    "    for i in range(k+1,l+1):\n",
    "      c -= 1\n",
    "      initM[i][l] = c\n",
    "    for j in range(l-1, k-1, -1):\n",
    "      c -= 1\n",
    "      initM[l][j] = c\n",
    "    for i in range(l-1, k, -1):\n",
    "      c -= 1\n",
    "      initM[i][k] = c\n",
    "    k += 1\n",
    "    l -= 1\n",
    "  return initM\n",
    "\n",
    "def print_arr(arr):\n",
    "  l = len(arr)\n",
    "  for i in range(l):\n",
    "    for j in range(l):\n",
    "      print(\"{0: >4}\".format(arr[i][j]),end='')\n",
    "    print()\n",
    "\n",
    "for num in nums:\n",
    "  print_arr(genM(num))"
   ]
  },
  {
   "cell_type": "code",
   "execution_count": 15,
   "metadata": {},
   "outputs": [
    {
     "name": "stdout",
     "output_type": "stream",
     "text": [
      "welcome are You\n"
     ]
    }
   ],
   "source": [
    "nums = int(input())\n",
    "ss = []\n",
    "for i in range(nums):\n",
    "  ss.append(input())\n",
    "  \n",
    "for s in ss:\n",
    "  for index,w in enumerate(s.split()):\n",
    "    if index != 0:\n",
    "      print(end=' ')\n",
    "    print(w[::-1],end='')\n",
    "  print()"
   ]
  },
  {
   "cell_type": "code",
   "execution_count": null,
   "metadata": {},
   "outputs": [],
   "source": [
    "nums = int(input())\n",
    "ss = []\n",
    "for n in range(nums):\n",
    "  input()\n",
    "  ss.append([int(i) for i in input().split()])\n",
    "  \n",
    "\n",
    "for s in ss:\n",
    "  if len(s) == 1 or len(s) == 2:\n",
    "    print(0)\n",
    "    continue\n",
    "  c = 0\n",
    "  for i in range(1, len(s)-1):\n",
    "    # 取中间的数，判断前面后面一个数总3个是否形成褶子\n",
    "    if s[i-1] >= s[i] and s[i] >= s[i+1]:\n",
    "      continue\n",
    "    if s[i-1] <= s[i] and s[i] <= s[i+1]:\n",
    "      continue\n",
    "    c += 1\n",
    "  print(c)"
   ]
  },
  {
   "cell_type": "code",
   "execution_count": 18,
   "metadata": {},
   "outputs": [
    {
     "name": "stdout",
     "output_type": "stream",
     "text": [
      "I Like Acm\n",
      "I Want To Get Accepted\n"
     ]
    }
   ],
   "source": [
    "data = []\n",
    "while(1):\n",
    "    s = input()\n",
    "    if s == '':\n",
    "        break\n",
    "    data.append(s)\n",
    "\n",
    "for s in data:\n",
    "    print(s.title())"
   ]
  },
  {
   "cell_type": "code",
   "execution_count": null,
   "metadata": {},
   "outputs": [],
   "source": [
    "data = []\n",
    "while(1):\n",
    "  try:\n",
    "    s = input()\n",
    "  except:\n",
    "    break\n",
    "  data.append(s)\n",
    "\n",
    "for s in data:\n",
    "  print(s.title())"
   ]
  },
  {
   "cell_type": "code",
   "execution_count": 20,
   "metadata": {},
   "outputs": [
    {
     "name": "stdout",
     "output_type": "stream",
     "text": [
      "Programming\n",
      "I\n"
     ]
    }
   ],
   "source": [
    "line = input()\n",
    "min_l = 100\n",
    "min_index = -1\n",
    "max_l = 0\n",
    "max_index = -1\n",
    "for index,l in enumerate(line.split()):\n",
    "  if len(l) < min_l:\n",
    "    min_l = len(l)\n",
    "    min_index = index\n",
    "  if len(l) > max_l:\n",
    "    max_l = len(l)\n",
    "    max_index = index\n",
    "\n",
    "print((line.split())[max_index])\n",
    "print((line.split())[min_index])"
   ]
  },
  {
   "cell_type": "code",
   "execution_count": 27,
   "metadata": {},
   "outputs": [
    {
     "name": "stdout",
     "output_type": "stream",
     "text": [
      "4 1 8\n"
     ]
    }
   ],
   "source": [
    "num = int(input())\n",
    "data = []\n",
    "for i in range(num):\n",
    "  data.append([int(j) for j in input().split()])\n",
    "# data = [[11,3,5,6,9],[12,4,7,8,10],[10,5,6,9,11],[8,6,4,7,2],[15,10,11,20,25]]\n",
    "# num= 5\n",
    "\n",
    "flag = 0\n",
    "for ll in data:\n",
    "  a = max(ll)\n",
    "  b = ll.index(a)\n",
    "  c = min([data[i][b] for i in range(len(data))])\n",
    "  if a == c:\n",
    "    d = [data[i][b] for i in range(len(data))].index(c)\n",
    "    print('%s %s %s' % (d+1, b+1, a))\n",
    "    flag = 1\n",
    "    break\n",
    "if flag == 0:\n",
    "  print('not found')\n",
    "    \n",
    "    "
   ]
  },
  {
   "cell_type": "code",
   "execution_count": null,
   "metadata": {},
   "outputs": [],
   "source": [
    "num = int(input())\n",
    "data = []\n",
    "for i in range(num):\n",
    "  data.append([int(j) for j in input().split()])\n",
    "  \n",
    "for i in range(num):\n",
    "  for j in range(num):\n",
    "    if j == 0:\n",
    "      print(data[j][i],end='')\n",
    "    else:\n",
    "      print(' %s' % data[j][i],end='')\n",
    "  print()\n",
    "      "
   ]
  },
  {
   "cell_type": "code",
   "execution_count": null,
   "metadata": {},
   "outputs": [],
   "source": [
    "a = input()\n",
    "nums = [int(i) for i in input().split() if int(i) > 0]\n",
    "if len(nums) == 0:\n",
    "  print(\"not found\")\n",
    "else:\n",
    "  print(min(nums))"
   ]
  },
  {
   "cell_type": "code",
   "execution_count": 30,
   "metadata": {},
   "outputs": [
    {
     "name": "stdout",
     "output_type": "stream",
     "text": [
      "2\n"
     ]
    }
   ],
   "source": [
    "nums = input().split()\n",
    "m = int(nums[0])\n",
    "n = int(nums[1])\n",
    "c = 0\n",
    "for i in range(m, n):\n",
    "  s = 0\n",
    "  for j in range(1,i):\n",
    "    if i%j == 0:\n",
    "      s += j\n",
    "  if s == i:\n",
    "    c+=1\n",
    "    \n",
    "print(c)"
   ]
  },
  {
   "cell_type": "code",
   "execution_count": 5,
   "metadata": {},
   "outputs": [
    {
     "name": "stdout",
     "output_type": "stream",
     "text": [
      "1 2 3 4 5 6 7 8 9\n",
      "a 9\n",
      " 8\n",
      " 7\n",
      " 0\n"
     ]
    }
   ],
   "source": [
    "num1 = int(input())\n",
    "data1 = [int(j) for j in input().split()]\n",
    "num2 = int(input())\n",
    "\n",
    "data2 = [int(j) for j in input().split()]\n",
    "    \n",
    "data1.sort()\n",
    "for index,i in enumerate(data1):\n",
    "  if index == 0:\n",
    "    print(i, end='')\n",
    "    continue\n",
    "  print(' %s' % i, end='') \n",
    "\n",
    "print()\n",
    "for index,i in enumerate(data2):\n",
    "  try:\n",
    "    a = data1.index(i)+1\n",
    "  except:\n",
    "    a = 0\n",
    "  if index == 0:\n",
    "    print(a, end='')\n",
    "    continue\n",
    "  \n",
    "  print(' %s' % a, end='')\n"
   ]
  },
  {
   "cell_type": "code",
   "execution_count": 2,
   "metadata": {},
   "outputs": [
    {
     "name": "stdout",
     "output_type": "stream",
     "text": [
      "nineteen\n"
     ]
    }
   ],
   "source": [
    "num_map = [\n",
    "  \"zero\",\n",
    "  \"one\",\n",
    "  \"two\",\n",
    "  \"three\",\n",
    "  \"four\",\n",
    "  \"five\",\n",
    "  \"six\",\n",
    "  \"seven\",\n",
    "  \"eight\",\n",
    "  \"nine\",\n",
    "  \"ten\",\n",
    "  \"eleven\",\n",
    "  \"twelve\",\n",
    "  \"thirteen\",\n",
    "  \"fourteen\",\n",
    "  \"fifteen\",\n",
    "  \"sixteen\",\n",
    "  \"seventeen\",\n",
    "  \"eighteen\",\n",
    "  \"nineteen\",\n",
    "  \"twenty\"\n",
    "]\n",
    "nums = []\n",
    "while(1):\n",
    "  try:\n",
    "    num = (input().split()[:2]) \n",
    "  except:\n",
    "    break\n",
    "  nums.append(num)\n",
    "  \n",
    "for num in nums:\n",
    "  try:\n",
    "    a, b = num[0], num[1]\n",
    "    print(num_map[num_map.index(a) + num_map.index(b)])\n",
    "  except:\n",
    "    continue\n",
    "  "
   ]
  },
  {
   "cell_type": "code",
   "execution_count": null,
   "metadata": {},
   "outputs": [],
   "source": [
    "w = int((input().split())[1])\n",
    "data = [int(i) for i in input().split()]\n",
    "curr = []\n",
    "result = []\n",
    "for d in data:\n",
    "  curr.append(d)\n",
    "  a = int(len(curr)*w/100)\n",
    "  b = max(1, a)\n",
    "  curr.sort(reverse=True)\n",
    "  result.append(curr[len(curr)-(b-1)])\n",
    "  \n",
    "for index, i in enumerate(result):\n",
    "  if index == 0:\n",
    "    print(i, end='')\n",
    "  else:\n",
    "    print(\" %s\" % i, end='')\n",
    "  "
   ]
  },
  {
   "cell_type": "code",
   "execution_count": null,
   "metadata": {},
   "outputs": [],
   "source": [
    "import bisect\n",
    "\n",
    "w = int((input().split())[1])\n",
    "data = [int(i) for i in input().split()]\n",
    "curr = []\n",
    "result = []\n",
    "\n",
    "for d in data:\n",
    "  bisect.insort(curr, d)\n",
    "  a = int(len(curr)*w/100)\n",
    "  b = max(1, a)\n",
    "  result.append(curr[len(curr)-(b)])\n",
    "  \n",
    "for index, i in enumerate(result):\n",
    "  if index == 0:\n",
    "    print(i, end='')\n",
    "  else:\n",
    "    print(\" %s\" % i, end='')"
   ]
  },
  {
   "cell_type": "code",
   "execution_count": null,
   "metadata": {},
   "outputs": [],
   "source": [
    "n = int(input())\n",
    "data = []\n",
    "for i in range(n):\n",
    "  data.append(input())\n",
    "  \n",
    "s = data[0]\n",
    "for d in data[1:]:\n",
    "  s = s+d\n",
    "\n",
    "print(s)\n",
    "\n",
    "    \n",
    "    "
   ]
  },
  {
   "cell_type": "code",
   "execution_count": 5,
   "metadata": {},
   "outputs": [
    {
     "name": "stdout",
     "output_type": "stream",
     "text": [
      "****************************************\n",
      "t:  0\n",
      "a:  0\n",
      "s:  2\n",
      "-----\n",
      "t:  1\n",
      "a:  0\n",
      "s:  1\n",
      "t:  1\n",
      "a:  1\n",
      "s:  3\n",
      "-----\n",
      "t:  0\n",
      "a:  0\n",
      "s:  3\n",
      "-----\n",
      "t:  0\n",
      "a:  1\n",
      "s:  4\n",
      "t:  1\n",
      "a:  1\n",
      "s:  5\n",
      "-----\n",
      "5\n",
      "****************************************\n",
      "5\n",
      "****************************************\n",
      "5\n"
     ]
    }
   ],
   "source": [
    "nums = input().split()\n",
    "a = int(nums[0])\n",
    "b = int(nums[1])\n",
    "score = [int(i) for i in input().split()]\n",
    "answer = [int(i) for i in input().split()]\n",
    "for i in range(a):\n",
    "  su = 0\n",
    "  test = [int(i) for i in input().split()]\n",
    "  for t,a,s in zip(test,answer,score):\n",
    "    if t == a:\n",
    "      su += s\n",
    "  print(su)"
   ]
  },
  {
   "cell_type": "code",
   "execution_count": null,
   "metadata": {},
   "outputs": [],
   "source": [
    "# python3\n",
    "class Solution:\n",
    "    def isSub(self, p1, p2):\n",
    "        if not p2:\n",
    "            return True\n",
    "        if not p1:\n",
    "            return False\n",
    "        return p1.val == p2.val and self.isSub(p1.left, p2.left) and self.isSub(p1.right, p2.right)\n",
    "\n",
    "    def HasSubtree(self, p1, p2):\n",
    "        if not p1 or not p2:\n",
    "            return False\n",
    "        return self.isSub(p1, p2) or self.HasSubtree(p1.left, p2) or self.HasSubtree(p1.right, p2)\n"
   ]
  },
  {
   "cell_type": "code",
   "execution_count": 7,
   "metadata": {},
   "outputs": [
    {
     "data": {
      "text/plain": [
       "1"
      ]
     },
     "execution_count": 7,
     "metadata": {},
     "output_type": "execute_result"
    }
   ],
   "source": [
    "a = [1, 2, 3]\n",
    "b = [1, 2, 3]\n",
    "c= {}\n",
    "a.count(1)\n"
   ]
  },
  {
   "cell_type": "code",
   "execution_count": 6,
   "metadata": {},
   "outputs": [
    {
     "ename": "TypeError",
     "evalue": "descriptor 'add' for 'set' objects doesn't apply to a 'int' object",
     "output_type": "error",
     "traceback": [
      "\u001b[1;31m---------------------------------------------------------------------------\u001b[0m",
      "\u001b[1;31mTypeError\u001b[0m                                 Traceback (most recent call last)",
      "\u001b[1;32m~\\AppData\\Local\\Temp/ipykernel_5916/325308638.py\u001b[0m in \u001b[0;36m<module>\u001b[1;34m\u001b[0m\n\u001b[0;32m      1\u001b[0m \u001b[0md\u001b[0m\u001b[1;33m=\u001b[0m \u001b[0mset\u001b[0m\u001b[1;33m\u001b[0m\u001b[1;33m\u001b[0m\u001b[0m\n\u001b[1;32m----> 2\u001b[1;33m \u001b[0md\u001b[0m\u001b[1;33m.\u001b[0m\u001b[0madd\u001b[0m\u001b[1;33m(\u001b[0m\u001b[1;36m1\u001b[0m\u001b[1;33m)\u001b[0m\u001b[1;33m\u001b[0m\u001b[1;33m\u001b[0m\u001b[0m\n\u001b[0m\u001b[0;32m      3\u001b[0m \u001b[0md\u001b[0m\u001b[1;33m\u001b[0m\u001b[1;33m\u001b[0m\u001b[0m\n",
      "\u001b[1;31mTypeError\u001b[0m: descriptor 'add' for 'set' objects doesn't apply to a 'int' object"
     ]
    }
   ],
   "source": [
    "d= set()\n",
    "d.add(1)\n",
    "d"
   ]
  },
  {
   "cell_type": "code",
   "execution_count": 10,
   "metadata": {},
   "outputs": [
    {
     "name": "stdout",
     "output_type": "stream",
     "text": [
      "[1, 'a', 2, 3]\n"
     ]
    }
   ],
   "source": [
    "a =  [1,2,3]\n",
    "a.insert(1,'a')\n",
    "print(a)"
   ]
  },
  {
   "cell_type": "code",
   "execution_count": 12,
   "metadata": {},
   "outputs": [
    {
     "data": {
      "text/plain": [
       "'abc'"
      ]
     },
     "execution_count": 12,
     "metadata": {},
     "output_type": "execute_result"
    }
   ],
   "source": [
    "'abc'."
   ]
  },
  {
   "cell_type": "code",
   "execution_count": 22,
   "metadata": {},
   "outputs": [
    {
     "data": {
      "text/plain": [
       "[1, 2, 3, 4]"
      ]
     },
     "execution_count": 22,
     "metadata": {},
     "output_type": "execute_result"
    }
   ],
   "source": [
    "a = [1,2,3,4]\n",
    "a[:2]\n",
    "a"
   ]
  },
  {
   "cell_type": "code",
   "execution_count": null,
   "metadata": {},
   "outputs": [],
   "source": []
  }
 ],
 "metadata": {
  "interpreter": {
   "hash": "483e81938f0d6022abef9dd89bf9a734254e81cfb1939fea0aab950c80bc2f57"
  },
  "kernelspec": {
   "display_name": "Python 3.8.5 64-bit ('base': conda)",
   "language": "python",
   "name": "python3"
  },
  "language_info": {
   "codemirror_mode": {
    "name": "ipython",
    "version": 3
   },
   "file_extension": ".py",
   "mimetype": "text/x-python",
   "name": "python",
   "nbconvert_exporter": "python",
   "pygments_lexer": "ipython3",
   "version": "3.8.5"
  },
  "orig_nbformat": 4
 },
 "nbformat": 4,
 "nbformat_minor": 2
}
