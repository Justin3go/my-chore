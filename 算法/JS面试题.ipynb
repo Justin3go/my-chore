{
 "cells": [
  {
   "cell_type": "markdown",
   "metadata": {},
   "source": [
    "## instance"
   ]
  },
  {
   "cell_type": "code",
   "execution_count": null,
   "metadata": {},
   "outputs": [],
   "source": [
    "function myInstance(left, right) {\n",
    "  let proto = Object.getPrototypeOf(left);\n",
    "  let prototype = right.prototype;\n",
    "  while (true) {\n",
    "    if (!proto) return false;\n",
    "    if (proto === prototype) return true;\n",
    "    proto = Object.getPrototypeOf(proto);\n",
    "  }\n",
    "}"
   ]
  },
  {
   "cell_type": "markdown",
   "metadata": {},
   "source": [
    "## 0.1+0.2!=0.3"
   ]
  },
  {
   "cell_type": "code",
   "execution_count": 3,
   "metadata": {},
   "outputs": [
    {
     "data": {
      "text/plain": [
       "true"
      ]
     },
     "execution_count": 3,
     "metadata": {},
     "output_type": "execute_result"
    }
   ],
   "source": [
    "0.1 + 0.2 - 0.3 < Number.EPSILON"
   ]
  },
  {
   "cell_type": "markdown",
   "metadata": {},
   "source": [
    "## new"
   ]
  },
  {
   "cell_type": "code",
   "execution_count": null,
   "metadata": {},
   "outputs": [],
   "source": [
    "function objectFactory() {\n",
    "  let obj = new Object();\n",
    "  let Constructor = [].shift.call(arguments);\n",
    "  obj.__proto__ = Constructor.prototype;\n",
    "  let ret = Constructor.apply(obj, arguments);\n",
    "  return typeof ret === 'object' ? ret || obj : obj;\n",
    "};"
   ]
  },
  {
   "cell_type": "markdown",
   "metadata": {},
   "source": [
    "## Ajax"
   ]
  },
  {
   "cell_type": "code",
   "execution_count": null,
   "metadata": {},
   "outputs": [],
   "source": [
    "{\n",
    "  const XMLHttpRequest = require('xhr2');\n",
    "  let server_url = 'http://justin3go.cc:8000/api/v1/docs/search';\n",
    "  let xhr = new XMLHttpRequest();\n",
    "  xhr.open('GET',server_url);\n",
    "  xhr.onreadystatechange = function(){\n",
    "    if(this.readyState !== 4)return;\n",
    "    if(this.status === 200){\n",
    "      // handle(this.response);\n",
    "    }else{\n",
    "      console.error(this.statusText);\n",
    "    }\n",
    "  }\n",
    "  xhr.onerror = function(){\n",
    "    console.error(this.statusText);\n",
    "  }\n",
    "  xhr.responseType = 'json';\n",
    "  xhr.setRequestHeader('Header', 'application/json')\n",
    "  xhr.send('q=python&p=1')\n",
    "}"
   ]
  },
  {
   "cell_type": "markdown",
   "metadata": {},
   "source": [
    "## 使用promise封装Ajax"
   ]
  },
  {
   "cell_type": "code",
   "execution_count": null,
   "metadata": {},
   "outputs": [],
   "source": [
    "{\n",
    "  const XMLHttpRequest = require('xhr2');\n",
    "\n",
    "  function getJson(url, params) {\n",
    "    let promise = new Promise((reslove, reject)=>{\n",
    "      let xhr = new XMLHttpRequest();\n",
    "      xhr.open('GET', url);\n",
    "      xhr.onreadystatechange = function(){\n",
    "        if(this.readyState !== 4)return;\n",
    "        if(this.status === 200){\n",
    "          reslove(this.response)\n",
    "        }else{\n",
    "          reject(this.statusText)\n",
    "        }\n",
    "      }\n",
    "      xhr.onerror = function(){\n",
    "        reject(this.statusText)\n",
    "      }\n",
    "      xhr.responseType = 'json';\n",
    "      xhr.setRequestHeader('Header', 'application/json');\n",
    "      xhr.send(params)\n",
    "    })\n",
    "    return promise;\n",
    "  }\n",
    "}"
   ]
  },
  {
   "cell_type": "markdown",
   "metadata": {},
   "source": [
    "## call,apply,bind"
   ]
  },
  {
   "cell_type": "code",
   "execution_count": null,
   "metadata": {},
   "outputs": [],
   "source": [
    "Function.prototype.myCall = function (context) {\n",
    "  if (typeof this !== 'function') {\n",
    "    console.error('type error');\n",
    "  }\n",
    "  let args = [...arguments].slice(1),\n",
    "    res = null;\n",
    "  context = context || window;\n",
    "  context.fn = this;\n",
    "  res = context.fn(...args);\n",
    "  delete context.fn;\n",
    "  return res;\n",
    "}"
   ]
  },
  {
   "cell_type": "code",
   "execution_count": null,
   "metadata": {},
   "outputs": [],
   "source": [
    "Function.prototype.myApply = function(context) {\n",
    "  // 判断调用对象是否为函数\n",
    "  if (typeof this !== \"function\") {\n",
    "    throw new TypeError(\"Error\");\n",
    "  }\n",
    "  let result = null;\n",
    "  // 判断 context 是否存在，如果未传入则为 window\n",
    "  context = context || window;\n",
    "  // 将函数设为对象的方法\n",
    "  context.fn = this;\n",
    "  // 调用方法\n",
    "  if (arguments[1]) {\n",
    "    result = context.fn(...arguments[1]);\n",
    "  } else {\n",
    "    result = context.fn();\n",
    "  }\n",
    "  // 将属性删除\n",
    "  delete context.fn;\n",
    "  return result;\n",
    "};"
   ]
  },
  {
   "cell_type": "code",
   "execution_count": null,
   "metadata": {},
   "outputs": [],
   "source": [
    "Function.prototype.myBind = function(context) {\n",
    "  // 判断调用对象是否为函数\n",
    "  if (typeof this !== \"function\") {\n",
    "    throw new TypeError(\"Error\");\n",
    "  }\n",
    "  // 获取参数\n",
    "  var args = [...arguments].slice(1),\n",
    "    fn = this;\n",
    "  return function Fn() {\n",
    "    // 根据调用方式，传入不同绑定值\n",
    "    return fn.apply(\n",
    "      this instanceof Fn ? this : context, // new该函数的话使this的优先级更高\n",
    "      args.concat(...arguments)\n",
    "    );\n",
    "  };\n",
    "};"
   ]
  },
  {
   "cell_type": "markdown",
   "metadata": {},
   "source": [
    "## 判断是否为数组的几种方式"
   ]
  },
  {
   "cell_type": "code",
   "execution_count": 8,
   "metadata": {},
   "outputs": [
    {
     "name": "stdout",
     "output_type": "stream",
     "text": [
      "true\n",
      "true\n",
      "true\n",
      "true\n",
      "true\n"
     ]
    }
   ],
   "source": [
    "{\n",
    "  let a = [1, 2, 3]\n",
    "  // 一般来说至少记住前三种\n",
    "  console.log(a instanceof Array);\n",
    "  console.log(Array.isArray(a));\n",
    "  console.log(Object.prototype.toString.call(a).slice(8,-1) === 'Array');\n",
    "  console.log(a.__proto__ === Array.prototype);\n",
    "  console.log(Array.prototype.isPrototypeOf(a));\n",
    "}"
   ]
  },
  {
   "cell_type": "markdown",
   "metadata": {},
   "source": [
    "## null"
   ]
  },
  {
   "cell_type": "code",
   "execution_count": 2,
   "metadata": {},
   "outputs": [
    {
     "name": "stdout",
     "output_type": "stream",
     "text": [
      "false\n",
      "true\n",
      "object\n",
      "function\n"
     ]
    }
   ],
   "source": [
    "console.log(null === undefined);\n",
    "console.log(null == undefined);\n",
    "console.log(typeof null);  // 但同时null也是基本数据类型的一种\n",
    "console.log(typeof function(){;});  // function不是基本数据类型"
   ]
  },
  {
   "cell_type": "markdown",
   "metadata": {},
   "source": [
    "## 判断是否为NAN"
   ]
  },
  {
   "cell_type": "code",
   "execution_count": 20,
   "metadata": {},
   "outputs": [
    {
     "name": "stdout",
     "output_type": "stream",
     "text": [
      "true\n",
      "true\n"
     ]
    }
   ],
   "source": [
    "{\n",
    "  let a = NaN;\n",
    "\n",
    "  console.log(Number.isNaN(a));  // 与全局的isNaN方法相比这个不会进行类型转换，一般用这个\n",
    "  console.log(!(a == a));  // 利用NAN不等于自身这个特性，其它的没这个特性\n",
    "}"
   ]
  },
  {
   "cell_type": "markdown",
   "metadata": {},
   "source": [
    "## promises.all"
   ]
  },
  {
   "cell_type": "code",
   "execution_count": null,
   "metadata": {},
   "outputs": [],
   "source": [
    "Promise.all = function(promiseArr){\n",
    "  let index = 0,result = [];\n",
    "  return new Promise((resolve, reject)=>{\n",
    "    promiseArr.forEach((p, i, arr) => {\n",
    "      Promise.resolve(p).then(val =>{  // 这个peomise.reslove空包装有什么好处吗,解决这一种情况：传入的是普通值：7\n",
    "        index++;\n",
    "        result[i] = val;\n",
    "        if(index === promiseArr.length){\n",
    "          resolve(result);\n",
    "        }\n",
    "      },err=>{\n",
    "        reject(err);\n",
    "      })\n",
    "    });\n",
    "  })\n",
    "}"
   ]
  },
  {
   "cell_type": "markdown",
   "metadata": {},
   "source": [
    "## promises.race"
   ]
  },
  {
   "cell_type": "code",
   "execution_count": null,
   "metadata": {},
   "outputs": [],
   "source": [
    "Promise.race = function(promiseArr) {\n",
    "  return new Promise((resolve, reject) => {\n",
    "      promiseArr.forEach(p => {\n",
    "          Promise.resolve(p).then(val => {\n",
    "              resolve(val)\n",
    "          }, err => {\n",
    "              reject(err)\n",
    "          })\n",
    "      })\n",
    "  })\n",
    "}"
   ]
  },
  {
   "cell_type": "markdown",
   "metadata": {},
   "source": [
    "## 防抖"
   ]
  },
  {
   "cell_type": "code",
   "execution_count": null,
   "metadata": {},
   "outputs": [],
   "source": [
    "function debounce(fn, wait) {\n",
    "  var timer = null;  // 这里的关键就在于需要使用一个闭包来存储这个timer计时器\n",
    "\n",
    "  return function() {\n",
    "    var context = this,\n",
    "      args = [...arguments];\n",
    "\n",
    "    // 如果此时存在定时器的话，则取消之前的定时器重新记时\n",
    "    if (timer) {\n",
    "      clearTimeout(timer);\n",
    "      timer = null;\n",
    "    }\n",
    "\n",
    "    // 设置定时器，使事件间隔指定事件后执行\n",
    "    timer = setTimeout(() => {\n",
    "      fn.apply(context, args);\n",
    "    }, wait);\n",
    "  };\n",
    "}"
   ]
  },
  {
   "cell_type": "markdown",
   "metadata": {},
   "source": [
    "## 节流"
   ]
  },
  {
   "cell_type": "code",
   "execution_count": null,
   "metadata": {},
   "outputs": [],
   "source": [
    "// 定时器版\n",
    "function throttle (fun, wait){\n",
    "  let timeout = null\n",
    "  return function(){\n",
    "    let context = this\n",
    "    let args = [...arguments]\n",
    "    if(!timeout){\n",
    "      timeout = setTimeout(() => {\n",
    "        fun.apply(context, args)\n",
    "        timeout = null \n",
    "      }, wait)\n",
    "    }\n",
    "  }\n",
    "}"
   ]
  },
  {
   "cell_type": "markdown",
   "metadata": {},
   "source": [
    "## 懒加载的实现"
   ]
  },
  {
   "cell_type": "code",
   "execution_count": null,
   "metadata": {},
   "outputs": [],
   "source": [
    "{/* <div class=\"container\">\n",
    "     <img src=\"loading.gif\"  data-src=\"pic.png\">\n",
    "     <img src=\"loading.gif\"  data-src=\"pic.png\">\n",
    "     <img src=\"loading.gif\"  data-src=\"pic.png\">\n",
    "     <img src=\"loading.gif\"  data-src=\"pic.png\">\n",
    "     <img src=\"loading.gif\"  data-src=\"pic.png\">\n",
    "     <img src=\"loading.gif\"  data-src=\"pic.png\">\n",
    "</div>\n",
    "<script> */}\n",
    "var imgs = document.querySelectorAll('img');\n",
    "function lozyLoad() {\n",
    "\tvar scrollTop = document.body.scrollTop || document.documentElement.scrollTop;\n",
    "\tvar winHeight = window.innerHeight;\n",
    "\tfor (var i = 0; i < imgs.length; i++) {\n",
    "\t\tif (imgs[i].offsetTop < scrollTop + winHeight) {\n",
    "\t\t\timgs[i].src = imgs[i].getAttribute('data-src');\n",
    "\t\t}\n",
    "\t}\n",
    "}\n",
    "window.onscroll = lozyLoad();\n",
    "// </script>"
   ]
  },
  {
   "cell_type": "markdown",
   "metadata": {},
   "source": [
    "## JSONP实现跨域"
   ]
  },
  {
   "cell_type": "code",
   "execution_count": null,
   "metadata": {},
   "outputs": [],
   "source": [
    "{/* <script> */}\n",
    "    var script = document.createElement('script');\n",
    "    script.type = 'text/javascript';\n",
    "    // 传参一个回调函数名给后端，方便后端返回时执行这个在前端定义的回调函数\n",
    "    script.src = 'http://www.domain2.com:8080/login?user=admin&callback=handleCallback';\n",
    "    document.head.appendChild(script);\n",
    "    // 回调执行函数\n",
    "    function handleCallback(res) {\n",
    "        alert(JSON.stringify(res));\n",
    "    }\n",
    "//  </script>"
   ]
  },
  {
   "cell_type": "markdown",
   "metadata": {},
   "source": [
    "## 函数柯里化"
   ]
  },
  {
   "cell_type": "code",
   "execution_count": 1,
   "metadata": {},
   "outputs": [],
   "source": [
    "function curry(fn) {\n",
    "  let judge = (...args) => {\n",
    "      if (args.length == fn.length) return fn(...args)\n",
    "      return (...arg) => judge(...args, ...arg)\n",
    "  }\n",
    "  return judge\n",
    "}\n",
    "// 先调用addCurry(1), judge会搜集其参数，但不执行fn，然后依次调用(addCurry(1))(2)...直到搜集的参数达到add参数的个数"
   ]
  },
  {
   "cell_type": "code",
   "execution_count": 2,
   "metadata": {},
   "outputs": [
    {
     "data": {
      "text/plain": [
       "6"
      ]
     },
     "execution_count": 2,
     "metadata": {},
     "output_type": "execute_result"
    }
   ],
   "source": [
    "function add(a, b, c) {\n",
    "  return a + b + c\n",
    "}\n",
    "add(1, 2, 3)\n",
    "let addCurry = curry(add)\n",
    "addCurry(1)(2)(3)"
   ]
  },
  {
   "cell_type": "code",
   "execution_count": null,
   "metadata": {},
   "outputs": [],
   "source": []
  }
 ],
 "metadata": {
  "kernelspec": {
   "display_name": "JavaScript (Node.js)",
   "language": "javascript",
   "name": "javascript"
  },
  "language_info": {
   "file_extension": ".js",
   "mimetype": "application/javascript",
   "name": "javascript",
   "version": "16.13.0"
  },
  "orig_nbformat": 4
 },
 "nbformat": 4,
 "nbformat_minor": 2
}
