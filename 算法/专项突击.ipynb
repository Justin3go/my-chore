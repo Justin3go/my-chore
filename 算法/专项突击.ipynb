{
 "cells": [
  {
   "cell_type": "markdown",
   "metadata": {},
   "source": [
    "## 剑指 Offer II 001. 整数除法"
   ]
  },
  {
   "cell_type": "markdown",
   "metadata": {},
   "source": [
    "### 简述\n",
    "只能通过减法和位运算实现除法"
   ]
  },
  {
   "cell_type": "markdown",
   "metadata": {},
   "source": [
    "### 题解1\n",
    "每一次都减去除数，然后计数器加一"
   ]
  },
  {
   "cell_type": "code",
   "execution_count": 18,
   "metadata": {},
   "outputs": [],
   "source": [
    "/**\n",
    " * @param {number} a\n",
    " * @param {number} b\n",
    " * @return {number}\n",
    " */\n",
    "var divide = function (a, b) {\n",
    "  const MAX = Math.pow(2, 31) - 1, MIN = -Math.pow(2, 31)\n",
    "  if (a == MIN && b == -1) return MAX\n",
    "  if (a == MIN && b == 1) return MIN\n",
    "\n",
    "  // 异或操作\n",
    "  const sign = (a > 0) ^ (b > 0)\n",
    "  a = Math.abs(a), b = Math.abs(b)\n",
    "  let n = 0\n",
    "  // 当a小于b时就不会执行，所以相当于就向下取整了\n",
    "  while (a >= b) {\n",
    "    a -= b\n",
    "    n++\n",
    "  }\n",
    "  return sign ? -n : n\n",
    "};"
   ]
  },
  {
   "cell_type": "markdown",
   "metadata": {},
   "source": [
    "### 测试1"
   ]
  },
  {
   "cell_type": "code",
   "execution_count": 19,
   "metadata": {},
   "outputs": [
    {
     "name": "stdout",
     "output_type": "stream",
     "text": [
      "2550\n",
      "1\n"
     ]
    }
   ],
   "source": [
    "{\n",
    "  let start = Date.now();\n",
    "  let result = divide(5100,2);\n",
    "  let end = Date.now();\n",
    "  console.log(result);\n",
    "  console.log(end-start);\n",
    "}\n",
    "// 时间复杂度O(n)\n",
    "// 空间复杂度O(1)"
   ]
  },
  {
   "cell_type": "markdown",
   "metadata": {},
   "source": [
    "### 题解2\n",
    "使用计算机理解的除法运算--位运算实现"
   ]
  },
  {
   "cell_type": "code",
   "execution_count": 20,
   "metadata": {},
   "outputs": [],
   "source": [
    "/**\n",
    " * @param {number} a\n",
    " * @param {number} b\n",
    " * @return {number}\n",
    " */\n",
    " var divide = function(a, b) {\n",
    "  const MAX = Math.pow(2, 31) - 1, MIN = -Math.pow(2, 31)\n",
    "  if (a == MIN && b == -1) return MAX\n",
    "  if (a == MIN && b == 1) return MIN\n",
    "\n",
    "  const sign = (a > 0) ^ (b > 0)\n",
    "  a = Math.abs(a), b = Math.abs(b)         \n",
    "  let n = 0\n",
    "  // 变化的部分\n",
    "  for (let i = 31; i >= 0; i--) {\n",
    "    // a >>> i >= b 由 a >= b << i 转化而来，为了防止 b << i 容易超出范围\n",
    "      if(a >>> i >= b) {\n",
    "        // console.log(`a: ${a}, b: ${b}, i: ${i}`);\n",
    "        // 和减法一样，看有几个b而已，不过通过位运算直接减去整数个b了而已(<<i)\n",
    "          a -= b << i\n",
    "          n += 1 << i\n",
    "      }\n",
    "  }\n",
    "  return sign ? -n : n\n",
    "};"
   ]
  },
  {
   "cell_type": "markdown",
   "metadata": {},
   "source": [
    "### 测试2"
   ]
  },
  {
   "cell_type": "code",
   "execution_count": 21,
   "metadata": {},
   "outputs": [
    {
     "data": {
      "text/plain": [
       "2"
      ]
     },
     "execution_count": 21,
     "metadata": {},
     "output_type": "execute_result"
    }
   ],
   "source": [
    "{\n",
    "  divide(13,6)\n",
    "}"
   ]
  },
  {
   "cell_type": "markdown",
   "metadata": {},
   "source": [
    "### 笔记"
   ]
  },
  {
   "cell_type": "markdown",
   "metadata": {},
   "source": [
    "+ 为什么时间复杂度从O(n)降到了O(1)\n",
    "  + 题解2最多循环31次是固定的，无论你的数有多大，所以是常数阶；\n",
    "  + 而题解1的解法时间复杂度与最后的商有关，商为多少就循环了多少次，所以为线性阶；\n",
    "+ 位运算是如何实现除法的\n",
    "  + 大致思路和减法一样\n",
    "  + 不过通过移位可以直接判断2^i个b是否存在于a中\n"
   ]
  },
  {
   "cell_type": "markdown",
   "metadata": {},
   "source": [
    "## 剑指 Offer II 002. 二进制加法"
   ]
  },
  {
   "cell_type": "markdown",
   "metadata": {},
   "source": [
    "### 简述\n",
    "定两个 01 字符串 a 和 b ，请计算它们的和，并以二进制字符串的形式输出"
   ]
  },
  {
   "cell_type": "markdown",
   "metadata": {},
   "source": [
    "### 题解1(错误)--大数未通过"
   ]
  },
  {
   "cell_type": "code",
   "execution_count": 22,
   "metadata": {},
   "outputs": [],
   "source": [
    "/**\n",
    " * @param {string} a\n",
    " * @param {string} b\n",
    " * @return {string}\n",
    " */\n",
    "var addBinary = function (a, b) {\n",
    "  let result = Number.parseInt(a,2) + Number.parseInt(b,2);\n",
    "  return result.toString(2)\n",
    "};"
   ]
  },
  {
   "cell_type": "markdown",
   "metadata": {},
   "source": [
    "### 测试1"
   ]
  },
  {
   "cell_type": "code",
   "execution_count": 23,
   "metadata": {},
   "outputs": [
    {
     "data": {
      "text/plain": [
       "'101'"
      ]
     },
     "execution_count": 23,
     "metadata": {},
     "output_type": "execute_result"
    }
   ],
   "source": [
    "addBinary('11', '10')"
   ]
  },
  {
   "cell_type": "markdown",
   "metadata": {},
   "source": [
    "### 题解2"
   ]
  },
  {
   "cell_type": "code",
   "execution_count": 24,
   "metadata": {},
   "outputs": [],
   "source": [
    "/**\n",
    " * @param {string} a\n",
    " * @param {string} b\n",
    " * @return {string}\n",
    " */\n",
    "var addBinary = function (a, b) {\n",
    "  let result = '';\n",
    "  let len = Math.max(a.length, b.length);\n",
    "  let flag = 0;  // 进位标志\n",
    "  let value1, value2;\n",
    "  // 缺位填充为0\n",
    "  if (a.length < len) {\n",
    "    value1 = '0'.repeat(len - a.length) + a;\n",
    "    value2 = b;\n",
    "    console.log(\"value1: \", value1);\n",
    "  } else if (b.length < len) {\n",
    "    value1 = a;\n",
    "    value2 = '0'.repeat(len - b.length) + b;\n",
    "    console.log(\"value2: \", value2);\n",
    "  }else{\n",
    "    value1 = a;\n",
    "    value2 = b;\n",
    "  }\n",
    "\n",
    "  for (let i = len - 1; i >= 0; i--) {\n",
    "    let sum = Number.parseInt(value1[i], 10) + Number.parseInt(value2[i], 10) + flag;\n",
    "    console.log(`${value1[i]}+${value2[i]}=${sum}`);\n",
    "    if (sum >= 2) {\n",
    "      flag = 1;\n",
    "      sum -= 2;\n",
    "    } else {\n",
    "      flag = 0;\n",
    "    }\n",
    "    result = sum + result;\n",
    "  }\n",
    "  if (flag == 1) {\n",
    "    result = '1' + result;\n",
    "  }\n",
    "  return result;\n",
    "};\n",
    "// 时间复杂度：O(n)"
   ]
  },
  {
   "cell_type": "markdown",
   "metadata": {},
   "source": [
    "### 测试2"
   ]
  },
  {
   "cell_type": "code",
   "execution_count": 25,
   "metadata": {},
   "outputs": [
    {
     "name": "stdout",
     "output_type": "stream",
     "text": [
      "value1:  001\n",
      "1+1=2\n",
      "0+1=2\n",
      "0+1=2\n",
      "1000\n"
     ]
    }
   ],
   "source": [
    "{\n",
    "  console.log(addBinary('1','111'));\n",
    "}"
   ]
  },
  {
   "cell_type": "markdown",
   "metadata": {},
   "source": [
    "### 优秀解法"
   ]
  },
  {
   "cell_type": "code",
   "execution_count": 26,
   "metadata": {},
   "outputs": [],
   "source": [
    "/**\n",
    " * @param {string} a\n",
    " * @param {string} b\n",
    " * @return {string}\n",
    " */\n",
    " var addBinary = function (a, b) {\n",
    "  let result = \"\";\n",
    "  let i = a.length - 1;\n",
    "  let j = b.length - 1;\n",
    "  // 进位值\n",
    "  let carry = 0;\n",
    "  // 从右向左进行加法运算\n",
    "  while (i >= 0 || j >= 0) {\n",
    "    let digitA = i >= 0 ? a.charAt(i--) - \"0\" : 0;\n",
    "    let digitB = j >= 0 ? b.charAt(j--) - \"0\" : 0;\n",
    "    let sum = digitA + digitB + carry;\n",
    "    // 当和大于2时，则进位为1且当前位为0\n",
    "    if (sum >= 2) {\n",
    "      carry = 1;\n",
    "      sum -= 2;\n",
    "    } else {\n",
    "      carry = 0;\n",
    "    }\n",
    "    result = sum + result;\n",
    "  }\n",
    "  // 两个字符串都加完之后进位值为1，则在结果前面加上进位值\n",
    "  if (carry == 1) {\n",
    "    result = \"1\" + result;\n",
    "  }\n",
    "  return result;\n",
    "};"
   ]
  },
  {
   "cell_type": "markdown",
   "metadata": {},
   "source": [
    "### 笔记"
   ]
  },
  {
   "cell_type": "markdown",
   "metadata": {},
   "source": [
    "+ 简略写法\n",
    "  + 填充0,没必要\n",
    "  + "
   ]
  },
  {
   "cell_type": "code",
   "execution_count": 27,
   "metadata": {},
   "outputs": [
    {
     "name": "stdout",
     "output_type": "stream",
     "text": [
      "number\n"
     ]
    }
   ],
   "source": [
    "{\n",
    "  console.log(typeof ('2'-'0'));\n",
    "}"
   ]
  },
  {
   "cell_type": "markdown",
   "metadata": {},
   "source": [
    "## 剑指 Offer II 003. 前 n 个数字二进制中 1 的个数"
   ]
  },
  {
   "cell_type": "markdown",
   "metadata": {},
   "source": [
    "### 简述\n",
    "给定一个非负整数 n ，请计算 0 到 n 之间的每个数字的二进制表示中 1 的个数，并输出一个数组。"
   ]
  },
  {
   "cell_type": "markdown",
   "metadata": {},
   "source": [
    "### 题解1"
   ]
  },
  {
   "cell_type": "code",
   "execution_count": 28,
   "metadata": {},
   "outputs": [],
   "source": [
    "/**\n",
    " * @param {number} n\n",
    " * @return {number[]}\n",
    " */\n",
    "var countBits = function (n) {\n",
    "  let result = [];\n",
    "  for (let i = 0; i <= n; i++) {\n",
    "    let bitNum = i.toString(2);\n",
    "    let count = (bitNum.match(/1/g) || []).length;\n",
    "    result.push(count)\n",
    "  }\n",
    "  return result;\n",
    "};"
   ]
  },
  {
   "cell_type": "markdown",
   "metadata": {},
   "source": [
    "### 测试1"
   ]
  },
  {
   "cell_type": "code",
   "execution_count": 29,
   "metadata": {},
   "outputs": [
    {
     "name": "stdout",
     "output_type": "stream",
     "text": [
      "[ 0, 1, 1, 2, 1, 2 ]\n"
     ]
    }
   ],
   "source": [
    "{\n",
    "  console.log(countBits(5));\n",
    "}"
   ]
  },
  {
   "cell_type": "markdown",
   "metadata": {},
   "source": [
    "### 题解2(位运算)"
   ]
  },
  {
   "cell_type": "code",
   "execution_count": 30,
   "metadata": {},
   "outputs": [],
   "source": [
    "// 利用i&(i-1)将最右边的1变为0\n",
    "/**\n",
    " * @param {number} n\n",
    " * @return {number[]}\n",
    " */\n",
    " var countBits = function (n) {\n",
    "  let res = new Array(n + 1).fill(0);\n",
    "  for (let i = 0; i <= n; i++) {\n",
    "    let j = i;\n",
    "    while (j != 0) {\n",
    "      j = j & (j - 1);\n",
    "      res[i]++;\n",
    "    }\n",
    "  }\n",
    "  return res;\n",
    "};"
   ]
  },
  {
   "cell_type": "code",
   "execution_count": 31,
   "metadata": {},
   "outputs": [
    {
     "name": "stdout",
     "output_type": "stream",
     "text": [
      "101\n",
      "100\n"
     ]
    }
   ],
   "source": [
    "console.log((5).toString(2));\n",
    "console.log(((5)&(4)).toString(2));"
   ]
  },
  {
   "cell_type": "markdown",
   "metadata": {},
   "source": [
    "## 剑指 Offer II 004. 只出现一次的数字 "
   ]
  },
  {
   "cell_type": "markdown",
   "metadata": {},
   "source": [
    "### 简述\n",
    "给你一个整数数组 nums ，除某个元素仅出现 一次 外，其余每个元素都恰出现 三次 。请你找出并返回那个只出现了一次的元素。"
   ]
  },
  {
   "cell_type": "markdown",
   "metadata": {},
   "source": [
    "### 题解1(使用额外空间)"
   ]
  },
  {
   "cell_type": "code",
   "execution_count": 32,
   "metadata": {},
   "outputs": [],
   "source": [
    "/**\n",
    " * @param {number[]} nums\n",
    " * @return {number}\n",
    " */\n",
    "var singleNumber = function (nums) {\n",
    "  let map = new Map();\n",
    "  for (let num of nums) {\n",
    "    if (!map.has(num)){\n",
    "      map.set(num, 1)\n",
    "    }else{\n",
    "      map.set(num, map.get(num)+1)\n",
    "    }\n",
    "  }\n",
    "  for (let [key, value] of map){\n",
    "    if (value == 1){\n",
    "      return key;\n",
    "    }\n",
    "  }\n",
    "};"
   ]
  },
  {
   "cell_type": "markdown",
   "metadata": {},
   "source": [
    "### 测试1"
   ]
  },
  {
   "cell_type": "code",
   "execution_count": 33,
   "metadata": {},
   "outputs": [
    {
     "name": "stdout",
     "output_type": "stream",
     "text": [
      "100\n"
     ]
    }
   ],
   "source": [
    "{\n",
    "  console.log(singleNumber([0,1,0,1,0,1,100]));\n",
    "}"
   ]
  },
  {
   "cell_type": "markdown",
   "metadata": {},
   "source": [
    "### 题解2(不使用额外空间，时间也保持线性阶)"
   ]
  },
  {
   "cell_type": "markdown",
   "metadata": {},
   "source": [
    "考虑数字的二进制形式，对于出现三次的数字，各 二进制位 出现的次数都是 33 的倍数。\n",
    "\n",
    "因此，统计所有数字的各二进制位中 11 的出现次数，并对 33 求余，结果则为只出现一次的数字。\n"
   ]
  },
  {
   "cell_type": "code",
   "execution_count": 34,
   "metadata": {},
   "outputs": [],
   "source": [
    "/**\n",
    " * @param {number[]} nums\n",
    " * @return {number}\n",
    " */\n",
    " var singleNumber = function (nums) {\n",
    "  let ones = 0, twos = 0;\n",
    "  for (let num of nums){\n",
    "    // 位运算\n",
    "    ones = ones ^ num & ~twos;\n",
    "    twos = twos ^ num & ~ones;\n",
    "  }\n",
    "  return ones;\n",
    "};\n",
    "// 对3取余之后只有3种状态(one,two两位表示这3位)"
   ]
  },
  {
   "cell_type": "markdown",
   "metadata": {},
   "source": [
    "### 测试2"
   ]
  },
  {
   "cell_type": "code",
   "execution_count": 35,
   "metadata": {},
   "outputs": [
    {
     "name": "stdout",
     "output_type": "stream",
     "text": [
      "100\n"
     ]
    }
   ],
   "source": [
    "{\n",
    "  console.log(singleNumber([0,1,0,1,0,1,100]));\n",
    "}"
   ]
  },
  {
   "cell_type": "markdown",
   "metadata": {},
   "source": [
    "### 补充"
   ]
  },
  {
   "cell_type": "code",
   "execution_count": 36,
   "metadata": {},
   "outputs": [
    {
     "ename": "ReferenceError",
     "evalue": "one is not defined",
     "output_type": "error",
     "traceback": [
      "evalmachine.<anonymous>:2",
      "one = one ^ num & ~two;",
      "^",
      "",
      "ReferenceError: one is not defined",
      "    at evalmachine.<anonymous>:2:1",
      "    at Script.runInThisContext (node:vm:129:12)",
      "    at Object.runInThisContext (node:vm:305:38)",
      "    at run ([eval]:1054:15)",
      "    at onRunRequest ([eval]:888:18)",
      "    at onMessage ([eval]:848:13)",
      "    at process.emit (node:events:390:28)",
      "    at emit (node:internal/child_process:917:12)",
      "    at processTicksAndRejections (node:internal/process/task_queues:84:21)"
     ]
    }
   ],
   "source": [
    "// 这里只考虑一位时(位运算1位与多位是一样的)\n",
    "one = one ^ num & ~two;\n",
    "two = two ^ num & ~one;\n",
    "// 等价于\n",
    "if (two == 0) {\n",
    "  if (n == 0)\n",
    "    one = one\n",
    "  if (n == 1)\n",
    "    one = ~one\n",
    "}\n",
    "if (two == 1)\n",
    "  one = 0\n",
    "// 就是维护这样一个规则：00->01->10->00..."
   ]
  },
  {
   "cell_type": "markdown",
   "metadata": {},
   "source": [
    "## 剑指 Offer II 005. 单词长度的最大乘积"
   ]
  },
  {
   "cell_type": "markdown",
   "metadata": {},
   "source": [
    "### 简述\n",
    "给定一个字符串数组 words，请计算当两个字符串 words[i] 和 words[j] 不包含相同字符时，它们长度的乘积的最大值。假设字符串中只包含英语的小写字母。如果没有不包含相同字符的一对字符串，返回 0。"
   ]
  },
  {
   "cell_type": "markdown",
   "metadata": {},
   "source": [
    "### 题解1"
   ]
  },
  {
   "cell_type": "code",
   "execution_count": null,
   "metadata": {},
   "outputs": [],
   "source": [
    "/**\n",
    " * @param {string[]} words\n",
    " * @return {number}\n",
    " */\n",
    "var maxProduct = function (words) {\n",
    "  let bitWords = initWrod(words);\n",
    "  let MAX_VALUE = 0;\n",
    "  // 暴力比较\n",
    "  for (let i = 0; i < words.length; i++) {\n",
    "    for (let j = i + 1; j < words.length; j++) {\n",
    "      // 利用位运算判断是否有字符相等\n",
    "      if (!(bitWords[i] & bitWords[j])) { \n",
    "        let CUR_VALUE = (words[i]).length * (words[j]).length;\n",
    "        if(CUR_VALUE > MAX_VALUE){\n",
    "          MAX_VALUE = CUR_VALUE;\n",
    "        }\n",
    "      }\n",
    "    }\n",
    "  }\n",
    "  return MAX_VALUE;\n",
    "};\n",
    "\n",
    "var initWrod = function (words) {\n",
    "  let result = [];\n",
    "  for (let word of words) {\n",
    "    let M = new Array(26).fill(0);\n",
    "    for (let w of word) {\n",
    "      M[122 - w.charCodeAt(0)] = '1';\n",
    "    }\n",
    "    result.push(Number.parseInt(M.join(''), 2));\n",
    "    // result.push(M.join(''));\n",
    "  }\n",
    "  return result;\n",
    "}"
   ]
  },
  {
   "cell_type": "markdown",
   "metadata": {},
   "source": [
    "### 测试1"
   ]
  },
  {
   "cell_type": "code",
   "execution_count": null,
   "metadata": {},
   "outputs": [
    {
     "name": "stdout",
     "output_type": "stream",
     "text": [
      "undefined\n"
     ]
    },
    {
     "data": {
      "text/plain": [
       "[\n",
       "   1,  3,  7, 8,\n",
       "  12, 14, 15\n",
       "]"
      ]
     },
     "execution_count": 75,
     "metadata": {},
     "output_type": "execute_result"
    }
   ],
   "source": [
    "{\n",
    "  words = [\"a\", \"ab\", \"abc\", \"d\", \"cd\", \"bcd\", \"abcd\"]\n",
    "  console.log((initWrod(words)[0]).length);\n",
    "  initWrod(words);\n",
    "}"
   ]
  },
  {
   "cell_type": "code",
   "execution_count": null,
   "metadata": {},
   "outputs": [
    {
     "data": {
      "text/plain": [
       "4"
      ]
     },
     "execution_count": 76,
     "metadata": {},
     "output_type": "execute_result"
    }
   ],
   "source": [
    "{\n",
    "  words = [\"a\", \"ab\", \"abc\", \"d\", \"cd\", \"bcd\", \"abcd\"]\n",
    "  maxProduct(words)\n",
    "}"
   ]
  },
  {
   "cell_type": "markdown",
   "metadata": {},
   "source": [
    "### 笔记\n",
    "在单词比较中使用位运算提高性能"
   ]
  },
  {
   "cell_type": "markdown",
   "metadata": {},
   "source": [
    "## 剑指 Offer II 006. 排序数组中两个数字之和"
   ]
  },
  {
   "cell_type": "markdown",
   "metadata": {},
   "source": [
    "### 简述\n",
    "给定一个已按照 升序排列  的整数数组 numbers ，请你从数组中找出两个数满足相加之和等于目标数 target \n",
    "\n",
    "假设数组中存在且只存在一对符合条件的数字，同时一个数字不能使用两次。\n",
    "\n",
    "numbers 按 递增顺序 排列"
   ]
  },
  {
   "cell_type": "markdown",
   "metadata": {},
   "source": [
    "### 题解1"
   ]
  },
  {
   "cell_type": "code",
   "execution_count": null,
   "metadata": {},
   "outputs": [],
   "source": [
    "/**\n",
    " * @param {number[]} numbers\n",
    " * @param {number} target\n",
    " * @return {number[]}\n",
    " */\n",
    "var twoSum = function (numbers, target) {\n",
    "  let i = 0, j = numbers.length-1;\n",
    "  while(i <= j){\n",
    "    let sum = numbers[i] + numbers[j];\n",
    "    if(sum > target){\n",
    "      j--;\n",
    "      continue;\n",
    "    }\n",
    "    if(sum < target){\n",
    "      i++;\n",
    "      continue;\n",
    "    }\n",
    "    if(sum == target){\n",
    "      return [i, j];\n",
    "    }\n",
    "  }\n",
    "};\n",
    "// 双指针法"
   ]
  },
  {
   "cell_type": "markdown",
   "metadata": {},
   "source": [
    "### 测试1"
   ]
  },
  {
   "cell_type": "code",
   "execution_count": null,
   "metadata": {},
   "outputs": [
    {
     "name": "stdout",
     "output_type": "stream",
     "text": [
      "[ 1, 3 ]\n"
     ]
    }
   ],
   "source": [
    "{\n",
    "  console.log(twoSum([1,2,4,6,10], 8));\n",
    "}"
   ]
  },
  {
   "cell_type": "markdown",
   "metadata": {},
   "source": [
    "## 剑指 Offer II 007. 数组中和为 0 的三个数"
   ]
  },
  {
   "cell_type": "markdown",
   "metadata": {},
   "source": [
    "### 简述\n",
    "给定一个包含 n 个整数的数组 nums，判断 nums 中是否存在三个元素 a ，b ，c ，使得 a + b + c = 0 ？请找出所有和为 0 且 不重复 的三元组。\n"
   ]
  },
  {
   "cell_type": "markdown",
   "metadata": {},
   "source": [
    "### 题解1(错误)\n",
    "这个解法双指针移动始终无法保证全部解法"
   ]
  },
  {
   "cell_type": "code",
   "execution_count": null,
   "metadata": {},
   "outputs": [],
   "source": [
    "/**\n",
    " * @param {number[]} nums\n",
    " * @return {number[][]}\n",
    " */\n",
    "var threeSum = function (nums) {\n",
    "  let result = []\n",
    "  let left = 0, right = nums.length - 1;\n",
    "  nums.sort((a,b)=>a-b);\n",
    "  console.log(nums);\n",
    "  label: while(left<right){\n",
    "    let sum = nums[left] + nums[right];\n",
    "    if(sum >= 0){\n",
    "      for (let p = left + 1; p < right; p++){\n",
    "        if(sum + nums[p] == 0){\n",
    "          let ele = [nums[left], nums[p], nums[right]]\n",
    "          if(!isIn(ele, result)){\n",
    "            result.push(ele);\n",
    "          }\n",
    "          // left++;\n",
    "          right--;\n",
    "          continue label;\n",
    "        }\n",
    "        else if(sum + nums[p] > 0){\n",
    "          right--;\n",
    "          continue label;\n",
    "        }\n",
    "        // 小于0就继续循环\n",
    "      }\n",
    "      right--;\n",
    "      continue label;\n",
    "    }\n",
    "    else{\n",
    "      for (let p = right - 1; p > left; p--){\n",
    "        if(sum + nums[p] == 0){\n",
    "          let ele = [nums[left], nums[p], nums[right]]\n",
    "          if(!isIn(ele, result)){\n",
    "            result.push(ele);\n",
    "          }\n",
    "          // left++;\n",
    "          right--;\n",
    "          continue label;\n",
    "        }\n",
    "        else if(sum + nums[p] < 0){\n",
    "          left++;\n",
    "          continue label;\n",
    "        }\n",
    "        // 大于0就继续循环\n",
    "      }\n",
    "      left++;\n",
    "      continue label;\n",
    "    }\n",
    "  }\n",
    "  return result;\n",
    "};\n",
    "\n",
    "var compareArray = function(a1, a2) {\n",
    "  if (a1 === a2) return true;\n",
    "  if ((!a1 && a2) || (a1 && ! a2)) return false;\n",
    "  if (a1.length !== a2.length) return false;\n",
    "  for (var i = 0, n = a1.length; i < n; i++) {\n",
    "      if (a1[i] !== a2[i]) return false;\n",
    "  }\n",
    "  return true;\n",
    "}\n",
    "\n",
    "var isIn = function(ele, arr){\n",
    "  for(let o of arr){\n",
    "    if(compareArray(ele, o)){\n",
    "      return true;\n",
    "    }\n",
    "  }\n",
    "  return false;\n",
    "}\n",
    "\n"
   ]
  },
  {
   "cell_type": "markdown",
   "metadata": {},
   "source": [
    "### 测试1"
   ]
  },
  {
   "cell_type": "code",
   "execution_count": null,
   "metadata": {},
   "outputs": [
    {
     "name": "stdout",
     "output_type": "stream",
     "text": [
      "[ -2, -1, 0, 1, 2, 3 ]\n",
      "[ [ -2, -1, 3 ], [ -2, 0, 2 ], [ -1, 0, 1 ] ]\n"
     ]
    }
   ],
   "source": [
    "{\n",
    "  console.log(threeSum([3,0,-2,-1,1,2]));\n",
    "}"
   ]
  },
  {
   "cell_type": "markdown",
   "metadata": {},
   "source": [
    "### 题解2(暴力超出时间限制)"
   ]
  },
  {
   "cell_type": "code",
   "execution_count": null,
   "metadata": {},
   "outputs": [],
   "source": [
    "/**\n",
    " * @param {number[]} nums\n",
    " * @return {number[][]}\n",
    " */\n",
    "var threeSum = function (nums) {\n",
    "  let result = [];\n",
    "  nums.sort((a,b)=>a-b);\n",
    "  for (let i = 0; i < nums.length; i++) {\n",
    "    for (let j = i + 1; j < nums.length; j++) {\n",
    "      for (let k = j + 1; k < nums.length; k++) {\n",
    "        if (nums[i] + nums[j] + nums[k] == 0) {\n",
    "          let ele = [nums[i], nums[j], nums[k]]\n",
    "          if (!isIn(ele, result)) {\n",
    "            result.push(ele);\n",
    "          }\n",
    "        }\n",
    "      }\n",
    "    }\n",
    "  }\n",
    "  return result;\n",
    "};\n",
    "\n",
    "var compareArray = function (a1, a2) {\n",
    "  if (a1 === a2) return true;\n",
    "  if ((!a1 && a2) || (a1 && !a2)) return false;\n",
    "  if (a1.length !== a2.length) return false;\n",
    "  for (var i = 0, n = a1.length; i < n; i++) {\n",
    "    if (a1[i] !== a2[i]) return false;\n",
    "  }\n",
    "  return true;\n",
    "}\n",
    "\n",
    "var isIn = function (ele, arr) {\n",
    "  for (let o of arr) {\n",
    "    if (compareArray(ele, o)) {\n",
    "      return true;\n",
    "    }\n",
    "  }\n",
    "  return false;\n",
    "}"
   ]
  },
  {
   "cell_type": "markdown",
   "metadata": {},
   "source": [
    "### 测试2"
   ]
  },
  {
   "cell_type": "code",
   "execution_count": null,
   "metadata": {},
   "outputs": [
    {
     "name": "stdout",
     "output_type": "stream",
     "text": [
      "[ [ -1, 0, 1 ], [ -1, 2, -1 ], [ 0, 1, -1 ] ]\n"
     ]
    }
   ],
   "source": [
    "{\n",
    "  console.log(threeSum([-1,0,1,2,-1,-4]));\n",
    "}"
   ]
  },
  {
   "cell_type": "markdown",
   "metadata": {},
   "source": [
    "### 题解3"
   ]
  },
  {
   "cell_type": "code",
   "execution_count": null,
   "metadata": {},
   "outputs": [],
   "source": [
    "/**\n",
    " * @param {number[]} nums\n",
    " * @return {number[][]}\n",
    " */\n",
    "var threeSum = function (nums) {\n",
    "  nums.sort((a,b)=>a-b);\n",
    "  let result = [];\n",
    "  for(let i = 0; i < nums.length; i++){\n",
    "    let left = 0, right = nums.length-1;\n",
    "    while(left<right){\n",
    "      if(left == i){\n",
    "        left++;\n",
    "        continue;\n",
    "      };\n",
    "      if(right == i){\n",
    "        right--;\n",
    "        continue;\n",
    "      }\n",
    "      let sum = nums[i] + nums[left] + nums[right];\n",
    "      // console.log(`i:${i}, left:${left}, right:${right}, sum:${sum}`);\n",
    "      if(sum > 0){\n",
    "        right--;\n",
    "        continue;\n",
    "      }\n",
    "      if(sum < 0){\n",
    "        left++;\n",
    "        continue;\n",
    "      }\n",
    "      if(sum == 0){\n",
    "        let ele = [nums[i], nums[left], nums[right]].sort((a,b)=>a-b);\n",
    "        if (!isIn(ele, result)) {\n",
    "          result.push(ele);\n",
    "        }\n",
    "        left++;\n",
    "        right--;\n",
    "        continue;\n",
    "      }\n",
    "\n",
    "    }\n",
    "  }\n",
    "  return result;\n",
    "};\n",
    "\n",
    "var compareArray = function (a1, a2) {\n",
    "  if (a1 === a2) return true;\n",
    "  if ((!a1 && a2) || (a1 && !a2)) return false;\n",
    "  if (a1.length !== a2.length) return false;\n",
    "  for (var i = 0, n = a1.length; i < n; i++) {\n",
    "    if (a1[i] !== a2[i]) return false;\n",
    "  }\n",
    "  return true;\n",
    "}\n",
    "\n",
    "var isIn = function (ele, arr) {\n",
    "  for (let o of arr) {\n",
    "    if (compareArray(ele, o)) {\n",
    "      return true;\n",
    "    }\n",
    "  }\n",
    "  return false;\n",
    "}"
   ]
  },
  {
   "cell_type": "markdown",
   "metadata": {},
   "source": [
    "### 测试3"
   ]
  },
  {
   "cell_type": "code",
   "execution_count": null,
   "metadata": {},
   "outputs": [
    {
     "name": "stdout",
     "output_type": "stream",
     "text": [
      "[ [ -1, -1, 2 ], [ -1, 0, 1 ] ]\n"
     ]
    }
   ],
   "source": [
    "{\n",
    "  console.log(threeSum([-1,0,1,2,-1,-4]));\n",
    "}"
   ]
  },
  {
   "cell_type": "markdown",
   "metadata": {},
   "source": [
    "### 笔记"
   ]
  },
  {
   "cell_type": "markdown",
   "metadata": {},
   "source": [
    "+ 题解1与题解3双指针的区别\n",
    "  + 题解1的双指针是固定双指针，然后移动另一个变量-->比较复杂\n",
    "  + 题解3的双指针是固定另一个变量，然后动双指针-->通过"
   ]
  },
  {
   "cell_type": "markdown",
   "metadata": {},
   "source": [
    "## 剑指 Offer II 008. 和大于等于 target 的最短子数组"
   ]
  },
  {
   "cell_type": "markdown",
   "metadata": {},
   "source": [
    "### 简述\n",
    "给定一个含有 n 个正整数的数组和一个正整数 target 。\n",
    "\n",
    "找出该数组中满足其和 ≥ target 的长度最小的 连续子数组 [numsl, numsl+1, ..., numsr-1, numsr] ，并返回其长度。如果不存在符合条件的子数组，返回 0 。"
   ]
  },
  {
   "cell_type": "markdown",
   "metadata": {},
   "source": [
    "### 题解1"
   ]
  },
  {
   "cell_type": "code",
   "execution_count": null,
   "metadata": {},
   "outputs": [],
   "source": [
    "// 小于target就循环移动右边窗口，刚好越过后，就移动左边窗口一格\n",
    "/**\n",
    " * @param {number} target\n",
    " * @param {number[]} nums\n",
    " * @return {number}\n",
    " */\n",
    "var minSubArrayLen = function (target, nums) {\n",
    "  let result = [];\n",
    "  let left = 0, right = 1;\n",
    "  while (left < nums.length) {\n",
    "    let sub_arr = nums.slice(left, right)\n",
    "    let sum;\n",
    "    if (sub_arr.length != 0) {\n",
    "      sum = sub_arr.reduce(\n",
    "        (prev, cur, index, array) => prev + cur\n",
    "      );\n",
    "    }else{\n",
    "      sum = -1;\n",
    "    }\n",
    "    // console.log(`-------sum: ${sum}-------`);\n",
    "    if (sum >= target) {\n",
    "      // console.log(`len:${right - left}, arr:${nums.slice(left, right)}`);\n",
    "      result.push(right - left);\n",
    "      left++;\n",
    "    } else {\n",
    "      right++;\n",
    "      // 最后的边界情况\n",
    "      if (right > nums.length) {\n",
    "        left++;\n",
    "        right--;\n",
    "      }\n",
    "    }\n",
    "  }\n",
    "  // console.log(result);\n",
    "  if (result.length == 0) {\n",
    "    return 0;\n",
    "  } else {\n",
    "    return Math.min(...result)\n",
    "  }\n",
    "};"
   ]
  },
  {
   "cell_type": "markdown",
   "metadata": {},
   "source": [
    "### 测试1"
   ]
  },
  {
   "cell_type": "code",
   "execution_count": null,
   "metadata": {},
   "outputs": [
    {
     "name": "stdout",
     "output_type": "stream",
     "text": [
      "[ 4, 4, 3, 3, 2 ]\n",
      "2\n"
     ]
    }
   ],
   "source": [
    "{\n",
    "  console.log(minSubArrayLen(7, [2,3,1,2,4,3]));\n",
    "}"
   ]
  },
  {
   "cell_type": "markdown",
   "metadata": {},
   "source": [
    "### 优秀解法(基本思路一致，但效率较高)"
   ]
  },
  {
   "cell_type": "code",
   "execution_count": null,
   "metadata": {},
   "outputs": [],
   "source": [
    "/**\n",
    " * @param {number} target\n",
    " * @param {number[]} nums\n",
    " * @return {number}\n",
    " */\n",
    " var minSubArrayLen = function(target, nums) {\n",
    "  let left = 0,\n",
    "    sum = 0;\n",
    "  let minLength = Number.MAX_VALUE;\n",
    "  for (let right = 0; right < nums.length; right++) {\n",
    "    // 由于数组中的所有数字都是正整数，因此在子数组中添加新的数字能得到更大的子数组之和\n",
    "    sum += nums[right];\n",
    "    // sum>=target 已经是找到了可行解了\n",
    "    while (left <= right && sum >= target) {\n",
    "      //  移动左边界，在可行解里面寻找最优解\n",
    "      minLength = Math.min(minLength, right - left + 1);\n",
    "      sum -= nums[left++];\n",
    "    }\n",
    "  }\n",
    "  return minLength == Number.MAX_VALUE ? 0 : minLength;\n",
    "};"
   ]
  },
  {
   "cell_type": "markdown",
   "metadata": {},
   "source": [
    "### 笔记"
   ]
  },
  {
   "cell_type": "markdown",
   "metadata": {},
   "source": [
    "+ 为什么后一种解法效率较高\n",
    "  + 他是累加求和，而我是每次切分之后再求和\n",
    "  + 他如果没找到可行解是不会执行中间那层循环的，他思路很明确，先找到可行解，再找到最优解"
   ]
  },
  {
   "cell_type": "markdown",
   "metadata": {},
   "source": [
    "## 剑指 Offer II 009. 乘积小于 K 的子数组"
   ]
  },
  {
   "cell_type": "markdown",
   "metadata": {},
   "source": [
    "### 简述\n",
    "给定一个正整数数组 nums和整数 k ，请找出该数组内乘积小于 k 的连续的子数组的个数。"
   ]
  },
  {
   "cell_type": "markdown",
   "metadata": {},
   "source": [
    "### 题解1\n",
    "这里是由底向上，可以试下由上向下，因为一个大的数组其中包含的小数组肯定也是结果，所以不用再继续计算了，只需要返回其连续的排列-->但是初始计算就需要计算所有数字的乘积，更不划算！"
   ]
  },
  {
   "cell_type": "code",
   "execution_count": null,
   "metadata": {},
   "outputs": [],
   "source": [
    "/**\n",
    " * @param {number[]} nums\n",
    " * @param {number} k\n",
    " * @return {number}\n",
    " */\n",
    " var numSubarrayProductLessThanK = function(nums, k) {\n",
    "  let result = 0;\n",
    "  for (let i = 0; i < nums.length; i++){\n",
    "    // console.log('*'.repeat(100));\n",
    "    let pre = 1;\n",
    "    for (let j = i; j < nums.length; j++){\n",
    "      // 这里明显每次都重复计算了，需要优化(已优化)\n",
    "      // console.log(\"PRE:\",pre);\n",
    "      pre *= nums[j];\n",
    "      // console.log(`i:${i}, j:${j}, arr:${nums.slice(i,j+1)}, pre:${pre}`);\n",
    "      if(pre >= k){\n",
    "        // console.log('-----',pre);\n",
    "        break;\n",
    "      }else{\n",
    "        // console.log('result++',pre);\n",
    "        result++;\n",
    "      }\n",
    "    }\n",
    "  }\n",
    "  return result;\n",
    "};"
   ]
  },
  {
   "cell_type": "markdown",
   "metadata": {},
   "source": [
    "### 测试1"
   ]
  },
  {
   "cell_type": "code",
   "execution_count": null,
   "metadata": {},
   "outputs": [
    {
     "name": "stdout",
     "output_type": "stream",
     "text": [
      "8\n"
     ]
    }
   ],
   "source": [
    "{\n",
    "  console.log(numSubarrayProductLessThanK([10,5,2,6], 100));\n",
    "}"
   ]
  },
  {
   "cell_type": "markdown",
   "metadata": {},
   "source": [
    "### 优秀解法"
   ]
  },
  {
   "cell_type": "code",
   "execution_count": null,
   "metadata": {},
   "outputs": [],
   "source": [
    "/**\n",
    " * @param {number[]} nums\n",
    " * @param {number} k\n",
    " * @return {number}\n",
    " */\n",
    " var numSubarrayProductLessThanK = function(nums, k) {\n",
    "  let product = 1;\n",
    "  let left = 0,\n",
    "    count = 0;\n",
    "  for (let right = 0; right < nums.length; right++) {\n",
    "    product *= nums[right];\n",
    "    while (left <= right && product >= k) {\n",
    "      product /= nums[left++];\n",
    "      // 这里移动左边只需要除一下就可以了，而我是重新计算的\n",
    "    }\n",
    "    count += right >= left ? right - left + 1 : 0;\n",
    "  }\n",
    "  return count;\n",
    "};"
   ]
  },
  {
   "cell_type": "markdown",
   "metadata": {},
   "source": [
    "### 测试2"
   ]
  },
  {
   "cell_type": "code",
   "execution_count": null,
   "metadata": {},
   "outputs": [],
   "source": [
    "{\n",
    "  console.log(numSubarrayProductLessThanK([10,5,2,6], 100));\n",
    "}"
   ]
  },
  {
   "cell_type": "markdown",
   "metadata": {},
   "source": [
    "## 剑指 Offer II 010. 和为 k 的子数组"
   ]
  },
  {
   "cell_type": "markdown",
   "metadata": {},
   "source": [
    "### 简述\n",
    "给定一个整数数组和一个整数 k ，请找到该数组中和为 k 的连续子数组的个数。\n",
    "\n",
    "(注意这里和前面一道题的区别比较重要的一点就是前面的是正整数数组而这里有可能为负数)"
   ]
  },
  {
   "cell_type": "markdown",
   "metadata": {},
   "source": [
    "### 题解1(错误解法)"
   ]
  },
  {
   "cell_type": "code",
   "execution_count": null,
   "metadata": {},
   "outputs": [],
   "source": [
    "/**\n",
    " * @param {number[]} nums\n",
    " * @param {number} k\n",
    " * @return {number}\n",
    " */\n",
    "var subarraySum = function (nums, k) {\n",
    "  let left = 0;\n",
    "  let sum = 0, count = 0;\n",
    "  for (let right = 0; right < nums.length; right++) {\n",
    "    sum += nums[right];\n",
    "    console.log(`---right:${right},sum:${sum}`);\n",
    "    // 这里不能用sum大于来判断是否合适，因为有可能前面的都是负数；\n",
    "    while(left < right && sum > k){\n",
    "      sum -= nums[left++];\n",
    "      console.log(`while-left++: ${left}, sum: ${sum}`);\n",
    "    }\n",
    "    if(sum == k){\n",
    "      count++;\n",
    "      sum -= nums[left++];\n",
    "      console.log(`count: ${count},left++: ${left}`);\n",
    "      continue;\n",
    "    }\n",
    "  }\n",
    "  return count;\n",
    "};"
   ]
  },
  {
   "cell_type": "markdown",
   "metadata": {},
   "source": [
    "### 测试1"
   ]
  },
  {
   "cell_type": "code",
   "execution_count": null,
   "metadata": {},
   "outputs": [
    {
     "name": "stdout",
     "output_type": "stream",
     "text": [
      "---right:0,sum:0-1,-1,1\n",
      "0\n"
     ]
    }
   ],
   "source": [
    "{\n",
    "  console.log(subarraySum([[-1,-1,1]],0));\n",
    "}"
   ]
  },
  {
   "cell_type": "markdown",
   "metadata": {},
   "source": [
    "### 题解2(优秀解法--使用前缀和)-->非常牛逼\n",
    "\n",
    "因为有负数，所以不能使用滑动窗口\n",
    "\n",
    "甚至还有能前面子数组满足，后面一串的加起来为0，再加上前面的子数组也满足"
   ]
  },
  {
   "cell_type": "code",
   "execution_count": null,
   "metadata": {},
   "outputs": [],
   "source": [
    "/**\n",
    " * @param {number[]} nums\n",
    " * @param {number} k\n",
    " * @return {number}\n",
    " */\n",
    " var subarraySum = function (nums, k) {\n",
    "  let n = nums.length;\n",
    "  let preSum = new Map();\n",
    "  // base case\n",
    "  preSum.set(0, 1);\n",
    "  let res = 0,\n",
    "    sum_i = 0;\n",
    "  for (let i = 0; i < n; i++) {\n",
    "    sum_i += nums[i];\n",
    "    let sum_j = sum_i - k;  // k = sum_i-sum_j-->判断是否满足\n",
    "    if (preSum.has(sum_j)) {\n",
    "      res += preSum.get(sum_j);\n",
    "    }\n",
    "    preSum.set(sum_i, (preSum.get(sum_i) || 0) + 1);\n",
    "  }\n",
    "  return res;\n",
    "};\n",
    "\n",
    "/*\n",
    "我们之前知道区间和的公式等于k = sum[j] - sum[i - 1], 我们通过简单的移项可以得出这个公式sum[i - 1] = sum[j] - k。\n",
    "我们在遍历nums时，可以获得当前的前缀和，当前的前缀和减去k，可以得到我们需要找的另一个前缀和的大小，如果hash之中有记录，\n",
    "我们只需要获取hash中的记录，就可以知道有多少区间和等于k了。\n",
    "*/"
   ]
  },
  {
   "cell_type": "code",
   "execution_count": null,
   "metadata": {},
   "outputs": [
    {
     "name": "stdout",
     "output_type": "stream",
     "text": [
      "1\n"
     ]
    }
   ],
   "source": [
    "{\n",
    "  console.log(subarraySum([-1,-1,1],0));\n",
    "}"
   ]
  },
  {
   "cell_type": "markdown",
   "metadata": {},
   "source": [
    "### 笔记"
   ]
  },
  {
   "cell_type": "markdown",
   "metadata": {},
   "source": [
    "+ 需要了解前缀和的用法及使用场景\n",
    "+ 以及是如何使用哈希算法来优化前缀和的时间复杂度\n",
    "+ [链接](https://juejin.cn/post/6944913393627168798)"
   ]
  },
  {
   "cell_type": "markdown",
   "metadata": {},
   "source": [
    "## 剑指 Offer II 011. 0 和 1 个数相同的子数组"
   ]
  },
  {
   "cell_type": "markdown",
   "metadata": {},
   "source": [
    "### 简述\n",
    "给定一个二进制数组 nums , 找到含有相同数量的 0 和 1 的最长连续子数组，并返回该子数组的长度。"
   ]
  },
  {
   "cell_type": "code",
   "execution_count": null,
   "metadata": {},
   "outputs": [],
   "source": [
    "// 这道题和上面一道题差不多，所以可以直接复用上面的代码，小改一下，map中的值变为了数组长度\n",
    "/**\n",
    " * @param {number[]} nums\n",
    " * @return {number}\n",
    " */\n",
    "var findMaxLength = function (nums) {\n",
    "  let n = nums.length;\n",
    "  let preSum = new Map();\n",
    "  // base case\n",
    "  preSum.set(0, 0);\n",
    "  let res = 0,\n",
    "    sum_i = 0;\n",
    "  for (let i = 0; i < n; i++) {\n",
    "    sum_i += nums[i]===0?-1:1;  // 将0转换为-1进行求和\n",
    "    let sum_j = sum_i;  // sum_i-sum_j=0-->判断是否满足\n",
    "    if (preSum.has(sum_j)) {\n",
    "      let cur_len = i + 1 - preSum.get(sum_j)\n",
    "      res = res>cur_len?res:cur_len;\n",
    "      // 有的话就不更新map，因为越到后面长度越长，更新必然会使对应的值变大，\n",
    "      // 之后计算的话cur_len会减去这个值就越小，小的不需要，因为找的是最长连续子数组\n",
    "    }else{ \n",
    "      preSum.set(sum_i, i+1);\n",
    "    }\n",
    "  }\n",
    "  return res;\n",
    "};"
   ]
  },
  {
   "cell_type": "markdown",
   "metadata": {},
   "source": [
    "### 测试1"
   ]
  },
  {
   "cell_type": "code",
   "execution_count": null,
   "metadata": {},
   "outputs": [
    {
     "name": "stdout",
     "output_type": "stream",
     "text": [
      "2\n"
     ]
    }
   ],
   "source": [
    "{\n",
    "  console.log(findMaxLength([0,1,0]));\n",
    "}"
   ]
  },
  {
   "cell_type": "markdown",
   "metadata": {},
   "source": [
    "## 剑指 Offer II 012. 左右两边子数组的和相等"
   ]
  },
  {
   "cell_type": "markdown",
   "metadata": {},
   "source": [
    "### 简述\n",
    "给你一个整数数组 nums ，请计算数组的 中心下标 。\n",
    "\n",
    "数组 中心下标 是数组的一个下标，其左侧所有元素相加的和等于右侧所有元素相加的和。\n",
    "\n",
    "如果中心下标位于数组最左端，那么左侧数之和视为 0 ，因为在下标的左侧不存在元素。这一点对于中心下标位于数组最右端同样适用。\n",
    "\n",
    "如果数组有多个中心下标，应该返回 最靠近左边 的那一个。如果数组不存在中心下标，返回 -1 。\n"
   ]
  },
  {
   "cell_type": "markdown",
   "metadata": {},
   "source": [
    "### 题解1"
   ]
  },
  {
   "cell_type": "code",
   "execution_count": null,
   "metadata": {},
   "outputs": [],
   "source": [
    "/**\n",
    " * @param {number[]} nums\n",
    " * @return {number}\n",
    " */\n",
    "var pivotIndex = function (nums) {\n",
    "  let sum_i = 0,\n",
    "    sum_j = nums.reduce((acr, cur) => acr + cur)\n",
    "  for(let i = 0; i < nums.length; i++){\n",
    "    sum_j -= nums[i]\n",
    "    if(sum_j === sum_i){\n",
    "      return i\n",
    "    }\n",
    "    sum_i += nums[i]\n",
    "  }\n",
    "  return -1\n",
    "};"
   ]
  },
  {
   "cell_type": "markdown",
   "metadata": {},
   "source": [
    "### 测试1"
   ]
  },
  {
   "cell_type": "code",
   "execution_count": null,
   "metadata": {},
   "outputs": [
    {
     "name": "stdout",
     "output_type": "stream",
     "text": [
      "3\n"
     ]
    }
   ],
   "source": [
    "{\n",
    "  console.log(pivotIndex([1,7,3,6,5,6]));\n",
    "}"
   ]
  },
  {
   "cell_type": "markdown",
   "metadata": {},
   "source": [
    "## 剑指 Offer II 013. 二维子矩阵的和"
   ]
  },
  {
   "cell_type": "markdown",
   "metadata": {},
   "source": [
    "### 简述\n",
    "给定一个二维矩阵 matrix，以下类型的多个请求：\n",
    "\n",
    "计算其子矩形范围内元素的总和，该子矩阵的左上角为 (row1, col1) ，右下角为 (row2, col2) 。\n",
    "实现 NumMatrix 类：\n",
    "\n",
    "NumMatrix(int[][] matrix) 给定整数矩阵 matrix 进行初始化\n",
    "int sumRegion(int row1, int col1, int row2, int col2) 返回左上角 (row1, col1) 、右下角 (row2, col2) 的子矩阵的元素总和。"
   ]
  },
  {
   "cell_type": "markdown",
   "metadata": {},
   "source": [
    "### 题解1"
   ]
  },
  {
   "cell_type": "code",
   "execution_count": null,
   "metadata": {},
   "outputs": [
    {
     "data": {
      "text/plain": [
       "[Function (anonymous)]"
      ]
     },
     "execution_count": 13,
     "metadata": {},
     "output_type": "execute_result"
    }
   ],
   "source": [
    "/**\n",
    " * @param {number[][]} matrix\n",
    " */\n",
    " var NumMatrix = function(matrix) {\n",
    "  // 原矩阵\n",
    "  this.matrix = matrix\n",
    "  // 前缀和矩阵\n",
    "  this.preSum = null\n",
    "\n",
    "  if (matrix.length === 0 || matrix[0].length === 0) {\n",
    "      return\n",
    "  }\n",
    "  \n",
    "  // 构建前缀和矩阵\n",
    "  this.preSum = []\n",
    "  for (let i = 0; i < this.matrix.length; i++) {\n",
    "      this.preSum.push([])\n",
    "  }\n",
    "  for (let i = 0; i < this.matrix.length; i++) {\n",
    "      for (let j = 0; j < this.matrix[0].length; j++) {\n",
    "          // 大矩形分为小矩形拼凑加减\n",
    "          if (i == 0 && j == 0) {\n",
    "              this.preSum[i][j] = this.matrix[i][j]\n",
    "          } else if (i == 0) {\n",
    "              this.preSum[i][j] = this.preSum[i][j - 1] + this.matrix[i][j]\n",
    "          } else if (j == 0) {\n",
    "              this.preSum[i][j] = this.preSum[i - 1][j] + this.matrix[i][j]\n",
    "          } else {\n",
    "              this.preSum[i][j] = this.preSum[i - 1][j] + this.preSum[i][j - 1] + this.matrix[i][j] - this.preSum[i - 1][j - 1]\n",
    "          }\n",
    "      }\n",
    "  }\n",
    "  // 前缀和矩阵额外添加一行一列，方便后续计算\n",
    "  // 添加一列\n",
    "  for (let i = 0; i < this.preSum.length; i++) {\n",
    "      this.preSum[i].unshift(0)\n",
    "  }\n",
    "  // 添加一行\n",
    "  this.preSum.unshift(new Array(this.preSum[0].length).fill(0))\n",
    "};\n",
    "\n",
    "/** \n",
    "* @param {number} row1 \n",
    "* @param {number} col1 \n",
    "* @param {number} row2 \n",
    "* @param {number} col2\n",
    "* @return {number}\n",
    "*/\n",
    "NumMatrix.prototype.sumRegion = function(row1, col1, row2, col2) {\n",
    "  if (this.preSum) {\n",
    "      return this.preSum[row2 + 1][col2 + 1] + this.preSum[row1][col1] - this.preSum[row2 + 1][col1] - this.preSum[row1][col2 + 1]\n",
    "  }\n",
    "  return null\n",
    "};\n",
    "\n",
    "/**\n",
    "* Your NumMatrix object will be instantiated and called as such:\n",
    "* var obj = new NumMatrix(matrix)\n",
    "* var param_1 = obj.sumRegion(row1,col1,row2,col2)\n",
    "*/\n"
   ]
  },
  {
   "cell_type": "markdown",
   "metadata": {},
   "source": [
    "### 测试1"
   ]
  },
  {
   "cell_type": "code",
   "execution_count": null,
   "metadata": {},
   "outputs": [
    {
     "name": "stdout",
     "output_type": "stream",
     "text": [
      "8\n"
     ]
    }
   ],
   "source": [
    "{\n",
    "  var obj = new NumMatrix([[3,0,1,4,2],[5,6,3,2,1],[1,2,0,1,5],[4,1,0,1,7],[1,0,3,0,5]])\n",
    "  var param_1 = obj.sumRegion(2,1,4,3)\n",
    "  console.log(param_1);\n",
    "}"
   ]
  },
  {
   "cell_type": "code",
   "execution_count": null,
   "metadata": {},
   "outputs": [
    {
     "name": "stdout",
     "output_type": "stream",
     "text": [
      "5\n"
     ]
    }
   ],
   "source": [
    "{\n",
    "  let test = [[3, 0, 1, 4, 2], [5, 6, 3, 2, 1], [1, 2, 0, 1, 5], [4, 1, 0, 1, 7]]\n",
    "  console.log((test[0]).length);\n",
    "}"
   ]
  },
  {
   "cell_type": "markdown",
   "metadata": {},
   "source": [
    "### 笔记\n",
    "+ 前缀和的关键之一就是需要找到求其中子数组的公式"
   ]
  },
  {
   "cell_type": "markdown",
   "metadata": {},
   "source": [
    "## 剑指 Offer II 014. 字符串中的变位词"
   ]
  },
  {
   "cell_type": "markdown",
   "metadata": {},
   "source": [
    "### 简述\n",
    "给定两个字符串 s1 和 s2，写一个函数来判断 s2 是否包含 s1 的某个变位词。\n",
    "\n",
    "换句话说，第一个字符串的排列之一是第二个字符串的 子串 。"
   ]
  },
  {
   "cell_type": "markdown",
   "metadata": {},
   "source": [
    "### 题解1(官方解法)\n",
    "由于变位词不会改变字符串中每个字符的个数，所以只有当两个字符串每个字符的个数均相等时，一个字符串才是另一个字符串的变位词。\n",
    "\n",
    "根据这一性质，记 s_1s 的长度为 nn，我们可以遍历 s_2s 中的每个长度为 nn 的子串，判断子串和 s_1s 中每个字符的个数是否相等，若相等则说明该子串是 s_1s 的一个变位词。\n",
    "\n",
    "使用两个数组 \\textit{cnt}_1cnt  和 \\textit{cnt}_2cnt ，\\textit{cnt}_1cnt 统计 s_1s 中各个字符的个数，\\textit{cnt}_2cnt 统计当前遍历的子串中各个字符的个数。\n",
    "\n",
    "由于需要遍历的子串长度均为 nn，我们可以使用一个固定长度为 nn 的滑动窗口来维护 \\textit{cnt}_2cnt ：滑动窗口每向右滑动一次，就多统计一次进入窗口的字符，少统计一次离开窗口的字符。然后，判断 \\textit{cnt}_1cnt 是否与 \\textit{cnt}_2cnt 相等，若相等则意味着 s_1s 的变位词之一是 s_2s 的子串。\n"
   ]
  },
  {
   "cell_type": "code",
   "execution_count": null,
   "metadata": {},
   "outputs": [],
   "source": [
    "/**\n",
    " * @param {string} s1\n",
    " * @param {string} s2\n",
    " * @return {boolean}\n",
    " */\n",
    " var checkInclusion = function(s1, s2) {\n",
    "  // 检查长度相等的子串的不同字母数量是否相同\n",
    "  const n = s1.length, m = s2.length;\n",
    "  if (n > m) {\n",
    "      return false;\n",
    "  }\n",
    "  // initial\n",
    "  const cnt1 = new Array(26).fill(0);\n",
    "  const cnt2 = new Array(26).fill(0);\n",
    "  for (let i = 0; i < n; ++i) {\n",
    "      ++cnt1[s1[i].charCodeAt() - 'a'.charCodeAt()];\n",
    "      ++cnt2[s2[i].charCodeAt() - 'a'.charCodeAt()];\n",
    "  }\n",
    "  // 转换成字符串进行比较，最开始就是卡在这一步，嫌数组比较复杂度太高\n",
    "  if (cnt1.toString() === cnt2.toString()) {\n",
    "      return true;\n",
    "  }\n",
    "  // 滑动\n",
    "  for (let i = n; i < m; ++i) {\n",
    "      // 滑动窗口每向右滑动一次，就多统计一次进入窗口的字符，少统计一次离开窗口的字符\n",
    "      ++cnt2[s2[i].charCodeAt() - 'a'.charCodeAt()];\n",
    "      --cnt2[s2[i - n].charCodeAt() - 'a'.charCodeAt()];\n",
    "      if (cnt1.toString() === cnt2.toString()) {\n",
    "          return true;\n",
    "      }\n",
    "  }\n",
    "  return false;\n",
    "};"
   ]
  },
  {
   "cell_type": "code",
   "execution_count": null,
   "metadata": {},
   "outputs": [],
   "source": [
    "// 使用diff变量进行优化，注意到每次窗口滑动时，只统计了一进一出两个字符，却比较了整个cnt1与cnt2数组\n",
    "// diff用来记录cnt1cnt2的不同值的个数，diff为零就表示这两个相等\n",
    "var checkInclusion = function(s1, s2) {\n",
    "  const n = s1.length, m = s2.length;\n",
    "  if (n > m) {\n",
    "      return false;\n",
    "  }\n",
    "  const cnt = new Array(26).fill(0);\n",
    "  for (let i = 0; i < n; ++i) {\n",
    "      --cnt[s1[i].charCodeAt() - 'a'.charCodeAt()];\n",
    "      ++cnt[s2[i].charCodeAt() - 'a'.charCodeAt()];\n",
    "  }\n",
    "  let diff = 0;\n",
    "  for (const c of cnt) {\n",
    "      if (c !== 0) {\n",
    "          ++diff;\n",
    "      }\n",
    "  }\n",
    "  if (diff == 0) {\n",
    "      return true;\n",
    "  }\n",
    "  for (let i = n; i < m; ++i) {\n",
    "      // x,y为一进一出字符\n",
    "      const x = s2[i].charCodeAt() - 'a'.charCodeAt(), y = s2[i - n].charCodeAt() - 'a'.charCodeAt();\n",
    "      console.log(cnt);\n",
    "      if (x == y) {\n",
    "          continue;\n",
    "      }\n",
    "      if (cnt[x] == 0) {\n",
    "          ++diff;\n",
    "      }\n",
    "      ++cnt[x];\n",
    "      if (cnt[x] == 0) {\n",
    "          --diff;\n",
    "      }\n",
    "      \n",
    "      if (cnt[y] == 0) {\n",
    "          ++diff;\n",
    "      }\n",
    "      --cnt[y];\n",
    "      if (cnt[y] == 0) {\n",
    "          --diff;\n",
    "      }\n",
    "      if (diff == 0) {\n",
    "          return true;\n",
    "      }\n",
    "  }\n",
    "  return false;\n",
    "};"
   ]
  },
  {
   "cell_type": "markdown",
   "metadata": {},
   "source": [
    "## 剑指 Offer II 015. 字符串中的所有变位词"
   ]
  },
  {
   "cell_type": "markdown",
   "metadata": {},
   "source": [
    "### 简介\n",
    "给定两个字符串 s 和 p，找到 s 中所有 p 的 变位词 的子串，返回这些子串的起始索引。不考虑答案输出的顺序。\n",
    "\n",
    "变位词 指字母相同，但排列不同的字符串。"
   ]
  },
  {
   "cell_type": "markdown",
   "metadata": {},
   "source": [
    "### 题解1"
   ]
  },
  {
   "cell_type": "code",
   "execution_count": null,
   "metadata": {},
   "outputs": [],
   "source": [
    "// 和问题14解法1基本一致\n",
    "/**\n",
    " * @param {string} s\n",
    " * @param {string} p\n",
    " * @return {number[]}\n",
    " */\n",
    "var findAnagrams = function (s, p) {\n",
    "  // 检查长度相等的子串的不同字母数量是否相同\n",
    "  const n = p.length, m = s.length;\n",
    "  let res = [];\n",
    "  if (n > m) {\n",
    "      return res;\n",
    "  }\n",
    "  // initial\n",
    "  const cnt1 = new Array(26).fill(0);\n",
    "  const cnt2 = new Array(26).fill(0);\n",
    "  for (let i = 0; i < n; ++i) {\n",
    "      ++cnt1[p[i].charCodeAt() - 'a'.charCodeAt()];\n",
    "      ++cnt2[s[i].charCodeAt() - 'a'.charCodeAt()];\n",
    "  }\n",
    "  // 转换成字符串进行比较，最开始就是卡在这一步，嫌数组比较复杂度太高\n",
    "  if (cnt1.toString() === cnt2.toString()) {\n",
    "      res.push(0)\n",
    "  }\n",
    "  // 滑动\n",
    "  for (let i = n; i < m; ++i) {\n",
    "      // 滑动窗口每向右滑动一次，就多统计一次进入窗口的字符，少统计一次离开窗口的字符\n",
    "      ++cnt2[s[i].charCodeAt() - 'a'.charCodeAt()];\n",
    "      --cnt2[s[i - n].charCodeAt() - 'a'.charCodeAt()];\n",
    "      if (cnt1.toString() === cnt2.toString()) {\n",
    "          res.push(i-n+1)\n",
    "      }\n",
    "  }\n",
    "  return res;\n",
    "};"
   ]
  },
  {
   "cell_type": "markdown",
   "metadata": {},
   "source": [
    "### 测试1"
   ]
  },
  {
   "cell_type": "code",
   "execution_count": null,
   "metadata": {},
   "outputs": [
    {
     "name": "stdout",
     "output_type": "stream",
     "text": [
      "[ 0, 1, 2 ]\n",
      "[ 0, 6 ]\n"
     ]
    }
   ],
   "source": [
    "{\n",
    "  console.log(findAnagrams(\"abab\", \"ab\"));\n",
    "  console.log(findAnagrams(\"cbaebabacd\", \"abc\"));\n",
    "}"
   ]
  },
  {
   "cell_type": "markdown",
   "metadata": {},
   "source": [
    "## 剑指 Offer II 016. 不含重复字符的最长子字符串"
   ]
  },
  {
   "cell_type": "markdown",
   "metadata": {},
   "source": [
    "### 简述\n",
    "给定一个字符串 s ，请你找出其中不含有重复字符的 最长连续子字符串 的长度。"
   ]
  },
  {
   "cell_type": "markdown",
   "metadata": {},
   "source": [
    "### 题解1"
   ]
  },
  {
   "cell_type": "code",
   "execution_count": null,
   "metadata": {},
   "outputs": [],
   "source": [
    "/**\n",
    " * @param {string} s\n",
    " * @return {number}\n",
    " */\n",
    "var lengthOfLongestSubstring = function (s) {\n",
    "  let STR = [];  // 这里用字符串来替换的话会较慢，javascrip赋值字符串会销毁再new一个对象\n",
    "  let MAX_LEN = 0;\n",
    "  let right = 0;\n",
    "  while (right < s.length) {\n",
    "    let curValue = s[right];\n",
    "    let index = STR.indexOf(curValue);\n",
    "    STR.push(curValue);\n",
    "    if (index !== -1) {\n",
    "      STR.splice(0, index+1);\n",
    "    }\n",
    "    MAX_LEN = STR.length>MAX_LEN?STR.length:MAX_LEN;\n",
    "    right++;\n",
    "  };\n",
    "  return MAX_LEN\n",
    "};"
   ]
  },
  {
   "cell_type": "markdown",
   "metadata": {},
   "source": [
    "### 测试1"
   ]
  },
  {
   "cell_type": "code",
   "execution_count": null,
   "metadata": {},
   "outputs": [
    {
     "name": "stdout",
     "output_type": "stream",
     "text": [
      "3\n",
      "1\n",
      "3\n"
     ]
    }
   ],
   "source": [
    "{\n",
    "  console.log(lengthOfLongestSubstring(\"abcabcbb\"));  // 3\n",
    "  console.log(lengthOfLongestSubstring(\"bbbbb\"));  // 1\n",
    "  console.log(lengthOfLongestSubstring(\"pwwkew\"));  // 3\n",
    "}"
   ]
  },
  {
   "cell_type": "markdown",
   "metadata": {},
   "source": [
    "## 剑指 Offer II 017. 含有所有字符的最短字符串(failed)"
   ]
  },
  {
   "cell_type": "markdown",
   "metadata": {},
   "source": [
    "### 简述\n",
    "给定两个字符串 s 和 t 。返回 s 中包含 t 的所有字符的最短子字符串。如果 s 中不存在符合条件的子字符串，则返回空字符串 \"\" 。\n",
    "\n",
    "如果 s 中存在多个符合条件的子字符串，返回任意一个。"
   ]
  },
  {
   "cell_type": "code",
   "execution_count": 7,
   "metadata": {},
   "outputs": [
    {
     "name": "stdout",
     "output_type": "stream",
     "text": [
      "[ 'b', 2 ]\n"
     ]
    },
    {
     "data": {
      "text/plain": [
       "Map(3) { 'b' => 2, 'c' => 3, 'a' => 4 }"
      ]
     },
     "execution_count": 7,
     "metadata": {},
     "output_type": "execute_result"
    }
   ],
   "source": [
    "{\n",
    "  // 测试map是有顺序的\n",
    "  let test = new Map();\n",
    "  test.set('a',1);\n",
    "  test.set('b',2);\n",
    "  test.set('c',3);\n",
    "  // 这一步可以移动键值到map的最后\n",
    "  test.delete('a');\n",
    "  test.set('a',4);\n",
    "  // 取第一个元素\n",
    "  console.log(test.entries().next().value)\n",
    "  test\n",
    "}"
   ]
  },
  {
   "cell_type": "markdown",
   "metadata": {},
   "source": [
    "### 题解1(错误：map键对重复字符无法处理)"
   ]
  },
  {
   "cell_type": "code",
   "execution_count": 37,
   "metadata": {},
   "outputs": [],
   "source": [
    "/**\n",
    " * @param {string} s\n",
    " * @param {string} t\n",
    " * @return {string}\n",
    " */\n",
    "var minWindow = function (s, t) {\n",
    "  if(s.length < t.length){  // s=\"a\",t=\"aa\"这类情况\n",
    "    return \"\"\n",
    "  }\n",
    "  const mapT = new Map();\n",
    "  let MIN_LEN = Number.MAX_VALUE,\n",
    "    MIN_LEN_LEFT = 0,\n",
    "    MIN_LEN_RIGHT = 0,\n",
    "    lPos = 0;\n",
    "    \n",
    "  for (let c of t) {\n",
    "    mapT.set(c, -1);\n",
    "  };\n",
    "\n",
    "  for (let i = 0; i < s.length; i++) {\n",
    "    if (mapT.has(s[i])) {\n",
    "      mapT.delete(s[i]);\n",
    "      mapT.set(s[i], i);\n",
    "      lPos = mapT.values().next().value;  // 取第一组的值\n",
    "      if (lPos !== -1) { // 说明已经全部包含\n",
    "        let curLen = i - lPos;\n",
    "        if (curLen < MIN_LEN) {\n",
    "          MIN_LEN = curLen;\n",
    "          MIN_LEN_LEFT = lPos;\n",
    "          MIN_LEN_RIGHT = i+1;\n",
    "        }\n",
    "\n",
    "      }\n",
    "    }\n",
    "  }\n",
    "  return s.substring(MIN_LEN_LEFT, MIN_LEN_RIGHT);\n",
    "};"
   ]
  },
  {
   "cell_type": "markdown",
   "metadata": {},
   "source": [
    "### 测试1"
   ]
  },
  {
   "cell_type": "code",
   "execution_count": 39,
   "metadata": {},
   "outputs": [
    {
     "name": "stdout",
     "output_type": "stream",
     "text": [
      "BANC\n",
      "BANC\n",
      "a\n",
      "\n",
      "a\n"
     ]
    }
   ],
   "source": [
    "{\n",
    "  console.log(minWindow(\"ADOBECODEBANC\", \"ABC\"));\n",
    "  console.log(minWindow(\"ADOBECODEBANC\", \"ABCC\"));\n",
    "  console.log(minWindow(\"a\", \"a\"));\n",
    "  console.log(minWindow(\"a\", \"aa\"));\n",
    "  console.log(minWindow(\"aa\", \"aa\"));\n",
    "  // 不符合题意中的：注意： 对于 t 中重复字符，我们寻找的子字符串中该字符数量必须不少于 t 中该字符数量。\n",
    "}"
   ]
  },
  {
   "cell_type": "markdown",
   "metadata": {},
   "source": [
    "### 题解2"
   ]
  },
  {
   "cell_type": "code",
   "execution_count": null,
   "metadata": {},
   "outputs": [],
   "source": [
    "/**\n",
    " * @param {string} s\n",
    " * @param {string} t\n",
    " * @return {string}\n",
    " */\n",
    " var minWindow = function (s, t) {\n",
    "   // 这里之所以不使用Map结构而是obj因为Map好像不能Map[key].push(oneValue)\n",
    "  const mapT = {};\n",
    "  let MIN_LEN = 0, rPos = 0, lPos = 0;\n",
    "  for (let c of t) {\n",
    "    mapT[c] = [];\n",
    "  };\n",
    "  for (let i = 0; i < s.length; i++){\n",
    "    if(s[i] in mapT){\n",
    "      (mapT[s[i]]).push(i)\n",
    "    }\n",
    "  };\n",
    "  console.log(mapT);\n",
    "  \n",
    "};"
   ]
  },
  {
   "cell_type": "code",
   "execution_count": null,
   "metadata": {},
   "outputs": [
    {
     "name": "stdout",
     "output_type": "stream",
     "text": [
      "{ A: [ 0, 10 ], B: [ 3, 9 ], C: [ 5, 12 ] }\n"
     ]
    }
   ],
   "source": [
    "{\n",
    "  console.log(minWindow(\"ADOBECODEBANC\", \"ABC\"));\n",
    "}"
   ]
  },
  {
   "cell_type": "markdown",
   "metadata": {},
   "source": [
    "## 剑指 Offer II 018. 有效的回文"
   ]
  },
  {
   "cell_type": "markdown",
   "metadata": {},
   "source": [
    "### 简述\n",
    "给定一个字符串 s ，验证 s 是否是 回文串 ，只考虑字母和数字字符，可以忽略字母的大小写。\n",
    "\n",
    "本题中，将空字符串定义为有效的 回文串 。"
   ]
  },
  {
   "cell_type": "markdown",
   "metadata": {},
   "source": [
    "### 题解1"
   ]
  },
  {
   "cell_type": "code",
   "execution_count": 43,
   "metadata": {},
   "outputs": [
    {
     "name": "stdout",
     "output_type": "stream",
     "text": [
      "cdbbdbsbzaaa\n"
     ]
    }
   ],
   "source": [
    "{\n",
    "  // 测试正则\n",
    "  let src = \"23523523cdbb 1231324 d bsbz AAA2342352\"\n",
    "  let test = src.replace(/[^a-zA-Z]/g, '').toLowerCase();\n",
    "  console.log(test);\n",
    "}\n"
   ]
  },
  {
   "cell_type": "code",
   "execution_count": 52,
   "metadata": {},
   "outputs": [],
   "source": [
    "/**\n",
    " * @param {string} s\n",
    " * @return {boolean}\n",
    " */\n",
    "var isPalindrome = function (s) {\n",
    "  let clearedStr = s.replace(/[^a-zA-Z0-9]/g, '').toLowerCase()\n",
    "  return clearedStr == clearedStr.split('').reverse().join('')\n",
    "};"
   ]
  },
  {
   "cell_type": "markdown",
   "metadata": {},
   "source": [
    "### 测试1"
   ]
  },
  {
   "cell_type": "code",
   "execution_count": 54,
   "metadata": {},
   "outputs": [
    {
     "name": "stdout",
     "output_type": "stream",
     "text": [
      "true\n"
     ]
    }
   ],
   "source": [
    "{\n",
    "  console.log(isPalindrome(\"A man, a plan, a canal: Panama\"));\n",
    "}"
   ]
  },
  {
   "cell_type": "markdown",
   "metadata": {},
   "source": [
    "## 剑指 Offer II 019. 最多删除一个字符得到回文"
   ]
  },
  {
   "cell_type": "markdown",
   "metadata": {},
   "source": [
    "### 简述\n",
    "给定一个非空字符串 s，请判断如果 最多 从字符串中删除一个字符能否得到一个回文字符串。"
   ]
  },
  {
   "cell_type": "markdown",
   "metadata": {},
   "source": [
    "### 题解1"
   ]
  },
  {
   "cell_type": "code",
   "execution_count": 71,
   "metadata": {},
   "outputs": [],
   "source": [
    "// 使用上一题的代码, 不过不用提取和小写，因为传入的全是字符\n",
    "/**\n",
    " * @param {string} s\n",
    " * @return {boolean}\n",
    " */\n",
    "var isPalindrome = function (s) {\n",
    "  return s == s.split('').reverse().join('')\n",
    "};\n",
    "\n",
    "/**\n",
    " * @param {string} s\n",
    " * @return {boolean}\n",
    " */\n",
    "var validPalindrome = function (s) {\n",
    "  let left = 0, right = s.length - 1;\n",
    "  while (left <= right) {\n",
    "    if (s[left] === s[right]) {\n",
    "      left++;\n",
    "      right--;\n",
    "    } else {  // \n",
    "      return isPalindrome(s.substring(left + 1, right + 1)) ||\n",
    "        isPalindrome(s.substring(left, right))\n",
    "    }\n",
    "  }\n",
    "  return true\n",
    "}\n",
    "// 140ms 5%"
   ]
  },
  {
   "cell_type": "markdown",
   "metadata": {},
   "source": [
    "### 测试1"
   ]
  },
  {
   "cell_type": "code",
   "execution_count": 72,
   "metadata": {},
   "outputs": [
    {
     "name": "stdout",
     "output_type": "stream",
     "text": [
      "true\n",
      "true\n",
      "false\n",
      "true\n",
      "false\n"
     ]
    }
   ],
   "source": [
    "{\n",
    "  console.log(validPalindrome(\"aba\")); // t\n",
    "  console.log(validPalindrome(\"abca\"));  // t\n",
    "  console.log(validPalindrome(\"abc\"));  // f\n",
    "  console.log(validPalindrome(\"lcuucul\"));  // t \n",
    "  console.log(validPalindrome(\"atbbga\"));  // f\n",
    "}"
   ]
  },
  {
   "cell_type": "markdown",
   "metadata": {},
   "source": [
    "### 优秀解法(68ms << 140ms)"
   ]
  },
  {
   "cell_type": "code",
   "execution_count": null,
   "metadata": {},
   "outputs": [],
   "source": [
    "// 思路是一样的，不过不用切割字符串，用的api也少些\n",
    "const isPalindrome = (s, start, end) => {\n",
    "  while (start < end) {\n",
    "    if (s.charAt(start) != s.charAt(end)) {\n",
    "      break;\n",
    "    }\n",
    "    start++;\n",
    "    end--;\n",
    "  }\n",
    "  return start >= end;\n",
    "};\n",
    "/**\n",
    " * @param {string} s\n",
    " * @return {boolean}\n",
    " */\n",
    "var validPalindrome = function (s) {\n",
    "  let start = 0,\n",
    "    end = s.length - 1;\n",
    "  // 从字符串的两端开始向里逐步比较两个字符串是不是相同\n",
    "  for (; start < s.length / 2; ++start, --end) {\n",
    "    // 如果相同则继续向里移动指针比较里面的两个字符\n",
    "    if (s.charAt(start) != s.charAt(end)) {\n",
    "      break;\n",
    "    }\n",
    "  }\n",
    "  // 如果不相同，在删除一个字符之后再比较其它的字符就能够形成一个回文，\n",
    "  // 由于事先不知道应该删除两个不同字符中的哪一个，因此两个字符都进行尝试\n",
    "  return (\n",
    "    start == s.length / 2 ||\n",
    "    isPalindrome(s, start, end - 1) ||\n",
    "    isPalindrome(s, start + 1, end)\n",
    "  );\n",
    "};"
   ]
  },
  {
   "cell_type": "markdown",
   "metadata": {},
   "source": [
    "## 剑指 Offer II 020. 回文子字符串的个数"
   ]
  },
  {
   "cell_type": "markdown",
   "metadata": {},
   "source": [
    "### 简述\n",
    "给定一个字符串 s ，请计算这个字符串中有多少个回文子字符串。\n",
    "\n",
    "具有不同开始位置或结束位置的子串，即使是由相同的字符组成，也会被视作不同的子串。"
   ]
  },
  {
   "cell_type": "markdown",
   "metadata": {},
   "source": [
    "### 题解1(错误--aba这类情况指针移动不对)"
   ]
  },
  {
   "cell_type": "code",
   "execution_count": 94,
   "metadata": {},
   "outputs": [],
   "source": [
    "var isPalindrome = (s, start, end) => {\n",
    "  while (start < end) {\n",
    "    if (s.charAt(start) != s.charAt(end)) {\n",
    "      break;\n",
    "    }\n",
    "    start++;\n",
    "    end--;\n",
    "  }\n",
    "  return start >= end;\n",
    "};\n",
    "\n",
    "/**\n",
    " * @param {string} s\n",
    " * @return {number}\n",
    " */\n",
    "var countSubstrings = function (s) {\n",
    "  let left = 0, right = 0, count = 0;\n",
    "  while(left < s.length){\n",
    "    let isP = isPalindrome(s, left, right)\n",
    "    console.log(`${left}, ${right}, ${s.substring(left, right+1)}, ${isP}, ${count}`);\n",
    "    if(right < s.length-1){\n",
    "      if(isP){\n",
    "        // a为1，aaa为2(aaa与a)，aaaaa为3(aaaaa,aaa,a)\n",
    "        count += Number.parseInt((right-left+2)/2);  \n",
    "        right++;\n",
    "      }else{\n",
    "        left++;\n",
    "      }\n",
    "    }else{\n",
    "      if(isP){\n",
    "        count += Number.parseInt((right-left+2)/2);\n",
    "      }\n",
    "      left++;\n",
    "    }\n",
    "  }\n",
    "  return count;\n",
    "}; "
   ]
  },
  {
   "cell_type": "markdown",
   "metadata": {},
   "source": [
    "### 测试1"
   ]
  },
  {
   "cell_type": "code",
   "execution_count": 96,
   "metadata": {},
   "outputs": [
    {
     "name": "stdout",
     "output_type": "stream",
     "text": [
      "0, 0, a, true, 0\n",
      "0, 1, ab, false, 1\n",
      "1, 1, b, true, 1\n",
      "1, 2, ba, false, 2\n",
      "2, 2, a, true, 2\n",
      "------\n",
      " 3\n",
      "0, 0, a, true, 0\n",
      "0, 1, aa, true, 1\n",
      "0, 2, aaa, true, 2\n",
      "1, 2, aa, true, 4\n",
      "2, 2, a, true, 5\n",
      "------\n",
      " 6\n"
     ]
    }
   ],
   "source": [
    "{\n",
    "  console.log('------\\n',countSubstrings(\"aba\")); // 3\n",
    "  console.log('------\\n',countSubstrings(\"aaa\")); // 6\n",
    "}"
   ]
  },
  {
   "cell_type": "markdown",
   "metadata": {},
   "source": [
    "### 官方解法--中心扩展法"
   ]
  },
  {
   "cell_type": "markdown",
   "metadata": {},
   "source": [
    "- 枚举每一个可能的回文中心，然后用两个指针分别向左右两边拓展，当两个指针指向的元素相同的时候就拓展，否则停止拓展。\n",
    "\n",
    "- 我们需要考虑回文长度是奇数和偶数的两种情况。\n",
    "- 如果回文长度是奇数，那么回文中心是一个字符(r=l)；如果回文长度是偶数，那么中心是两个字符(r+1=l)。"
   ]
  },
  {
   "cell_type": "code",
   "execution_count": null,
   "metadata": {},
   "outputs": [],
   "source": [
    "var countSubstrings = function(s) {\n",
    "  const n = s.length;\n",
    "  let ans = 0;\n",
    "  // 从0到2n−2遍历i\n",
    "  for (let i = 0; i < 2 * n - 1; ++i) {\n",
    "      let l = i / 2, r = i / 2 + i % 2;\n",
    "      while (l >= 0 && r < n && s.charAt(l) == s.charAt(r)) {\n",
    "          --l;\n",
    "          ++r;\n",
    "          ++ans;\n",
    "      }\n",
    "  }\n",
    "  return ans;\n",
    "};"
   ]
  },
  {
   "cell_type": "markdown",
   "metadata": {},
   "source": [
    "### 官方解法--Manacher 算法"
   ]
  },
  {
   "cell_type": "markdown",
   "metadata": {},
   "source": [
    "+ 线性阶\n",
    "+ "
   ]
  },
  {
   "cell_type": "code",
   "execution_count": 108,
   "metadata": {},
   "outputs": [],
   "source": [
    "var countSubstrings = function (s) {\n",
    "  let n = s.length;\n",
    "  let t = ['$', '#'];\n",
    "  for (let i = 0; i < n; ++i) {\n",
    "    // 如abaa会被处理成#a#b#a#a#，保证所有找到的回文串是奇数长度\n",
    "    t.push(s.charAt(i));\n",
    "    t.push('#');\n",
    "  }\n",
    "  n = t.length;\n",
    "  t.push('!');\n",
    "  t = t.join('');\n",
    "  console.log(t);  // $#a#b#a#a#!\n",
    "\n",
    "  // 用f(i)来表示以s的第i位为回文中心，可以拓展出的最大回文半径，\n",
    "  // 那么f(i) - 1就是以i为中心的最大回文串长度 \n",
    "  const f = new Array(n);\n",
    "  let iMax = 0, // 回文右端点对应的回文中心\n",
    "    rMax = 0,  // 最大的回文的右端点\n",
    "    ans = 0;  \n",
    "  for (let i = 1; i < n; ++i) {\n",
    "    // 初始化 f[i]\n",
    "    f[i] = i <= rMax ? Math.min(rMax - i + 1, f[2 * iMax - i]) : 1;\n",
    "    let temp = f[i];  // log\n",
    "    // 中心拓展\n",
    "    // 做完初始化之后，我们可以保证此时的s[i+f(i)−1]=s[i−f(i)+1]，然后继续拓展这个区间\n",
    "    while (t.charAt(i + f[i]) == t.charAt(i - f[i])) {\n",
    "      ++f[i];\n",
    "    }\n",
    "    // 动态维护 iMax 和 rMax\n",
    "    if (i + f[i] - 1 > rMax) {\n",
    "      iMax = i;\n",
    "      rMax = i + f[i] - 1;\n",
    "    }\n",
    "    // 统计答案, 当前贡献为(f[i] - 1)/2取整\n",
    "    ans += Math.floor(f[i] / 2);\n",
    "    console.log(`${i}: ${temp}--${f[i]}, ${iMax}, ${rMax}, ${ans}`);\n",
    "  }\n",
    "  console.log(`-----------\\nf: ${f}\\n-----------`);\n",
    "  return ans;\n",
    "};"
   ]
  },
  {
   "cell_type": "code",
   "execution_count": 109,
   "metadata": {},
   "outputs": [
    {
     "name": "stdout",
     "output_type": "stream",
     "text": [
      "$#a#b#a#a#!\n",
      "1: 1--1, 1, 1, 0\n",
      "2: 1--2, 2, 3, 1\n",
      "3: 1--1, 2, 3, 1\n",
      "4: 1--4, 4, 7, 3\n",
      "5: 1--1, 4, 7, 3\n",
      "6: 2--2, 4, 7, 4\n",
      "7: 1--3, 7, 9, 5\n",
      "8: 2--2, 7, 9, 6\n",
      "9: 1--1, 7, 9, 6\n",
      "-----------\n",
      "f: ,1,2,1,4,1,2,3,2,1\n",
      "-----------\n",
      "6\n"
     ]
    }
   ],
   "source": [
    "{\n",
    "  console.log(countSubstrings(\"abaa\"));\n",
    "}"
   ]
  },
  {
   "cell_type": "markdown",
   "metadata": {},
   "source": [
    "## 剑指 Offer II 021. 删除链表的倒数第 n 个结点"
   ]
  },
  {
   "cell_type": "markdown",
   "metadata": {},
   "source": [
    "### 简述\n",
    "给定一个链表，删除链表的倒数第 n 个结点，并且返回链表的头结点。"
   ]
  },
  {
   "cell_type": "markdown",
   "metadata": {},
   "source": [
    "### 题解1"
   ]
  },
  {
   "cell_type": "code",
   "execution_count": 110,
   "metadata": {},
   "outputs": [],
   "source": [
    "function ListNode(val, next) {\n",
    "  this.val = (val === undefined ? 0 : val)\n",
    "  this.next = (next === undefined ? null : next)\n",
    "}\n",
    "/**\n",
    " * @param {ListNode} head\n",
    " * @param {number} n\n",
    " * @return {ListNode}\n",
    " */\n",
    "var removeNthFromEnd = function (head, n) {\n",
    "  let hPos = new ListNode(-1, head)  // 增加一个头节点，可以解决很多边缘情况\n",
    "  let lPos = rPos = hPos;\n",
    "  // 右指针先移动n步\n",
    "  for(let i = 0; i < n; i++){\n",
    "    rPos = rPos.next;\n",
    "  }\n",
    "  // 双指针一起移动，右指针移动到尾部时，左指针移动到待删除节点的前一个节点\n",
    "  while(rPos.next){\n",
    "    lPos = lPos.next;\n",
    "    rPos = rPos.next;\n",
    "  }\n",
    "  lPos.next = lPos.next.next;\n",
    "  return hPos.next;\n",
    "};"
   ]
  },
  {
   "cell_type": "markdown",
   "metadata": {},
   "source": [
    "## 剑指 Offer II 022. 链表中环的入口节点"
   ]
  },
  {
   "cell_type": "markdown",
   "metadata": {},
   "source": [
    "### 简述\n",
    "给定一个链表，返回链表开始入环的第一个节点。 从链表的头节点开始沿着 next 指针进入环的第一个节点为环的入口节点。如果链表无环，则返回 null。\n",
    "\n",
    "为了表示给定链表中的环，我们使用整数 pos 来表示链表尾连接到链表中的位置（索引从 0 开始）。 如果 pos 是 -1，则在该链表中没有环。注意，pos 仅仅是用于标识环的情况，并不会作为参数传递到函数中。\n"
   ]
  },
  {
   "cell_type": "markdown",
   "metadata": {},
   "source": [
    "### 题解1"
   ]
  },
  {
   "cell_type": "code",
   "execution_count": null,
   "metadata": {},
   "outputs": [],
   "source": [
    "function ListNode(val, next) {\n",
    "  this.val = (val === undefined ? 0 : val)\n",
    "  this.next = (next === undefined ? null : next)\n",
    "}\n",
    "\n",
    "/**\n",
    " * @param {ListNode} head\n",
    " * @return {ListNode}\n",
    " */\n",
    " var detectCycle = function(head) {\n",
    "  const visited = new Set();  // 将节点记住\n",
    "  while (head !== null) {\n",
    "      if (visited.has(head)) {\n",
    "          return head;\n",
    "      }\n",
    "      visited.add(head);\n",
    "      head = head.next;\n",
    "  }\n",
    "  return null;\n",
    "};"
   ]
  },
  {
   "cell_type": "markdown",
   "metadata": {},
   "source": [
    "## 剑指 Offer II 023. 两个链表的第一个重合节点"
   ]
  },
  {
   "cell_type": "markdown",
   "metadata": {},
   "source": [
    "### 简述\n",
    "给定两个单链表的头节点 headA 和 headB ，请找出并返回两个单链表相交的起始节点。如果两个链表没有交点，返回 null 。"
   ]
  },
  {
   "cell_type": "markdown",
   "metadata": {},
   "source": [
    "### 题解1--哈希集合"
   ]
  },
  {
   "cell_type": "code",
   "execution_count": null,
   "metadata": {},
   "outputs": [],
   "source": [
    "function ListNode(val, next) {\n",
    "  this.val = (val === undefined ? 0 : val)\n",
    "  this.next = (next === undefined ? null : next)\n",
    "}\n",
    "/**\n",
    " * @param {ListNode} headA\n",
    " * @param {ListNode} headB\n",
    " * @return {ListNode}\n",
    " */\n",
    " var getIntersectionNode = function(headA, headB) {\n",
    "  const visited = new Set();\n",
    "  let temp = headA;\n",
    "  while (temp !== null) {\n",
    "      visited.add(temp);\n",
    "      temp = temp.next;\n",
    "  }\n",
    "  temp = headB;\n",
    "  while (temp !== null) {\n",
    "      if (visited.has(temp)) {\n",
    "          return temp;\n",
    "      }\n",
    "      temp = temp.next;\n",
    "  }\n",
    "  return null;\n",
    "};"
   ]
  },
  {
   "cell_type": "markdown",
   "metadata": {},
   "source": [
    "### 笔记\n",
    "- 链表：不要将节点作为单独一个节点，而是后续一串节点"
   ]
  },
  {
   "cell_type": "markdown",
   "metadata": {},
   "source": [
    "### 题解2--双指针--[图解](https://leetcode-cn.com/problems/3u1WK4/solution/tu-jie-shuang-zhi-zhen-5xing-dai-ma-gao-owom2/)"
   ]
  },
  {
   "cell_type": "code",
   "execution_count": null,
   "metadata": {},
   "outputs": [],
   "source": [
    "/**\n",
    " * @param {ListNode} headA\n",
    " * @param {ListNode} headB\n",
    " * @return {ListNode}\n",
    " */\n",
    " var getIntersectionNode = function(headA, headB) {\n",
    "  let a = headA,\n",
    "    b = headB;\n",
    "  while (a != b) {\n",
    "    // a 走一步，如果走到 headA 链表末尾，转到 headB 链表\n",
    "    a = a != null ? a.next : headB;\n",
    "    // b 走一步，如果走到 headB 链表末尾，转到 headA 链表\n",
    "    b = b != null ? b.next : headA;\n",
    "  }\n",
    "  return a;\n",
    "};"
   ]
  },
  {
   "cell_type": "markdown",
   "metadata": {},
   "source": [
    "## 剑指 Offer II 024. 反转链表"
   ]
  },
  {
   "cell_type": "markdown",
   "metadata": {},
   "source": [
    "### 简述\n",
    "给定单链表的头节点 head ，请反转链表，并返回反转后的链表的头节点。"
   ]
  },
  {
   "cell_type": "markdown",
   "metadata": {},
   "source": [
    "### 题解1"
   ]
  },
  {
   "cell_type": "code",
   "execution_count": null,
   "metadata": {},
   "outputs": [],
   "source": [
    "function ListNode(val, next) {\n",
    "  this.val = (val === undefined ? 0 : val)\n",
    "  this.next = (next === undefined ? null : next)\n",
    "}\n",
    "/**\n",
    " * @param {ListNode} head\n",
    " * @return {ListNode}\n",
    " */\n",
    " var reverseList = function(head) {\n",
    "  let prev = null;\n",
    "  let curr = head;\n",
    "  while (curr) {\n",
    "      const next = curr.next;  // 记住除当前节点的后续链\n",
    "      // 相当于头插\n",
    "      curr.next = prev;  // 将当前节点连接到新链上\n",
    "      prev = curr;  // 移动指针到新链的最前面\n",
    "\n",
    "      curr = next;  // 当前节点换为记住的那个\n",
    "  }\n",
    "  return prev;\n",
    "};"
   ]
  },
  {
   "cell_type": "markdown",
   "metadata": {},
   "source": [
    "### 笔记\n",
    "- 反转链表直接遍历旧链然后头插，所以复制链表就是尾插法"
   ]
  },
  {
   "cell_type": "markdown",
   "metadata": {},
   "source": [
    "## 剑指 Offer II 025. 链表中的两数相加"
   ]
  },
  {
   "cell_type": "markdown",
   "metadata": {},
   "source": [
    "### 简述\n",
    "给定两个 非空链表 l1和 l2 来代表两个非负整数。数字最高位位于链表开始位置。它们的每个节点只存储一位数字。将这两数相加会返回一个新的链表。\n",
    "\n",
    "可以假设除了数字 0 之外，这两个数字都不会以零开头。\n"
   ]
  },
  {
   "cell_type": "markdown",
   "metadata": {},
   "source": [
    "### 题解1"
   ]
  },
  {
   "cell_type": "code",
   "execution_count": null,
   "metadata": {},
   "outputs": [],
   "source": [
    "function ListNode(val, next) {\n",
    "  this.val = (val === undefined ? 0 : val)\n",
    "  this.next = (next === undefined ? null : next)\n",
    "}\n",
    "/**\n",
    " * @param {ListNode} l1\n",
    " * @param {ListNode} l2\n",
    " * @return {ListNode}\n",
    " */\n",
    "var addTwoNumbers = function (l1, l2) {\n",
    "  let arr1 = [], arr2 = [];\n",
    "  let pos1 = l1, pos2 = l2, sum = new ListNode(-1, null);、\n",
    "  while (pos1) {  // 存\n",
    "    arr1.unshift(pos1.val);\n",
    "    pos1 = pos1.next;\n",
    "  }\n",
    "  while (pos2) {\n",
    "    arr2.unshift(pos2.val);\n",
    "    pos2 = pos2.next;\n",
    "  }\n",
    "  let i = 0, c = 0;\n",
    "  while (i < arr1.length || i < arr2.length) {\n",
    "    let val1 = i < arr1.length ? arr1[i] : 0;\n",
    "    let val2 = i < arr2.length ? arr2[i] : 0;\n",
    "    let val = val1 + val2 + c;\n",
    "    c = Number.parseInt(val / 10);\n",
    "    console.log(`i=${i}, val1=${val1}, val2=${val2}`)\n",
    "    let node = new ListNode(val % 10, sum.next);\n",
    "    sum.next = node;\n",
    "    i++;\n",
    "  }\n",
    "  if (c !== 0) {  // 最左的进位不为零时\n",
    "    let node = new ListNode(c, sum.next);\n",
    "    sum.next = node;\n",
    "  }\n",
    "  return sum.next;\n",
    "};"
   ]
  },
  {
   "cell_type": "markdown",
   "metadata": {},
   "source": [
    "## 剑指 Offer II 026. 重排链表"
   ]
  },
  {
   "cell_type": "markdown",
   "metadata": {},
   "source": [
    "### 简述\n",
    "给定一个单链表 L 的头节点 head ，单链表 L 表示为：\n",
    "\n",
    " L0 → L1 → … → Ln-1 → Ln \n",
    "请将其重新排列后变为：\n",
    "\n",
    "L0 → Ln → L1 → Ln-1 → L2 → Ln-2 → …\n",
    "\n",
    "不能只是单纯的改变节点内部的值，而是需要实际的进行节点交换。\n"
   ]
  },
  {
   "cell_type": "markdown",
   "metadata": {},
   "source": [
    "### 题解1"
   ]
  },
  {
   "cell_type": "code",
   "execution_count": null,
   "metadata": {},
   "outputs": [],
   "source": [
    "function ListNode(val, next) {\n",
    "  this.val = (val === undefined ? 0 : val)\n",
    "  this.next = (next === undefined ? null : next)\n",
    "}\n",
    "var reverseList = function (head) {\n",
    "  let prev = null;\n",
    "  let curr = head;\n",
    "  let len = 0;\n",
    "  while (curr) {\n",
    "    const next = curr.next;  // 记住除当前节点的后续链\n",
    "    // 相当于头插\n",
    "    curr.next = prev;  // 将当前节点连接到新链上\n",
    "    prev = curr;  // 移动指针到新链的最前面\n",
    "\n",
    "    curr = next;  // 当前节点换为记住的那个\n",
    "    len++;\n",
    "  }\n",
    "  return [prev, len];\n",
    "};\n",
    "/**\n",
    " * @param {ListNode} head\n",
    " * @return {void} Do not return anything, modify head in-place instead.\n",
    " */\n",
    "var reorderList = function (head) {\n",
    "  let [reHead, len] = reverseList(head);\n",
    "  let resHead = new ListNode(-1, null); // 头节点\n",
    "  let tail = resHead;  // 尾指针-->尾查法保证顺序插入\n",
    "  for (let i = 0; i < len / 2; i++) {\n",
    "    tail.next = head;\n",
    "    tail = tail.next;\n",
    "\n",
    "    tail.next = reHead;\n",
    "    tail = tail.next;\n",
    "    console.log(`i: ${i}, a: ${head.val}, b: ${reHead.val}`);\n",
    "    head = head.next;\n",
    "    reHead = reHead.next;\n",
    "  }\n",
    "  return resHead.next\n",
    "};"
   ]
  },
  {
   "cell_type": "markdown",
   "metadata": {},
   "source": [
    "### 题解2\n",
    "- 快慢指针寻找中间节点\n",
    "- 反转后半断链表\n",
    "- oneByOne归并"
   ]
  },
  {
   "cell_type": "code",
   "execution_count": null,
   "metadata": {},
   "outputs": [],
   "source": [
    "var reverseList = function (head) {\n",
    "  if (head == null || head.next == null) {\n",
    "    return head;\n",
    "  }\n",
    "  let cur = reverseList(head.next);\n",
    "  head.next.next = head;\n",
    "  head.next = null;\n",
    "  return cur;\n",
    "};\n",
    "/**\n",
    " * @param {ListNode} head\n",
    " * @return {void} Do not return anything, modify head in-place instead.\n",
    " */\n",
    "var reorderList = function(head) {\n",
    "  let dummy = new ListNode(0);\n",
    "  dummy.next = head;\n",
    "  let fast = dummy,\n",
    "    slow = dummy;\n",
    "  while (fast && fast.next) {\n",
    "    slow = slow.next;\n",
    "    fast = fast.next;\n",
    "    if (fast.next) {\n",
    "      fast = fast.next;\n",
    "    }\n",
    "  }\n",
    "  // slow指向的节点就是后半段的头节点\n",
    "  let temp = slow.next;\n",
    "  slow.next = null;\n",
    "  const link = (node1, node2, head) => {\n",
    "    let prev = head;\n",
    "    while (node1 && node2) {\n",
    "      let temp = node1.next;\n",
    "      prev.next = node1;\n",
    "      node1.next = node2;\n",
    "      prev = node2;\n",
    "      node1 = temp;\n",
    "      node2 = node2.next;\n",
    "    }\n",
    "    if (node1) {\n",
    "      prev.next = node1;\n",
    "    }\n",
    "  };\n",
    "  // 反转链表的后半段\n",
    "  link(head, reverseList(temp), dummy);\n",
    "};\n"
   ]
  },
  {
   "cell_type": "markdown",
   "metadata": {},
   "source": [
    "## 剑指 Offer II 027. 回文链表"
   ]
  },
  {
   "cell_type": "markdown",
   "metadata": {},
   "source": [
    "### 简述\n",
    "给定一个链表的 头节点 head ，请判断其是否为回文链表。\n",
    "\n",
    "如果一个链表是回文，那么链表节点序列从前往后看和从后往前看是相同的。"
   ]
  },
  {
   "cell_type": "code",
   "execution_count": null,
   "metadata": {},
   "outputs": [],
   "source": [
    "/**\n",
    " * Definition for singly-linked list.\n",
    " * function ListNode(val, next) {\n",
    " *     this.val = (val===undefined ? 0 : val)\n",
    " *     this.next = (next===undefined ? null : next)\n",
    " * }\n",
    " */\n",
    "/**\n",
    " * @param {ListNode} head\n",
    " * @return {boolean}\n",
    " */\n",
    " var isPalindrome = function(head) {\n",
    "  let reverseArr = [];\n",
    "  while(head){\n",
    "    reverseArr.unshift(head.val);\n",
    "    head = head.next                     \n",
    "  }\n",
    "  let maxI = Number.parseInt(reverseArr.length/2)\n",
    "  for(let i = 0; i < maxI; i++){\n",
    "    if(reverseArr[i] !== head.val){\n",
    "      return false;\n",
    "    }\n",
    "    head = head.next;\n",
    "  }\n",
    "  return true;\n",
    "};"
   ]
  },
  {
   "cell_type": "markdown",
   "metadata": {},
   "source": [
    "### 题解2(官方解法)\n",
    "转换为数组然后用双指针法"
   ]
  },
  {
   "cell_type": "code",
   "execution_count": null,
   "metadata": {},
   "outputs": [],
   "source": [
    "var isPalindrome = function(head) {\n",
    "  const vals = [];\n",
    "  while (head !== null) {\n",
    "      vals.push(head.val);\n",
    "      head = head.next;\n",
    "  }\n",
    "  for (let i = 0, j = vals.length - 1; i < j; ++i, --j) {\n",
    "      if (vals[i] !== vals[j]) {\n",
    "          return false;\n",
    "      }\n",
    "  }\n",
    "  return true;\n",
    "};\n"
   ]
  },
  {
   "cell_type": "markdown",
   "metadata": {},
   "source": [
    "## 剑指 Offer II 028. 展平多级双向链表"
   ]
  },
  {
   "cell_type": "markdown",
   "metadata": {},
   "source": [
    "### 简述\n",
    "给定位于列表第一级的头节点，请扁平化列表，即将这样的多级双向链表展平成普通的双向链表，使所有结点出现在单级双链表中。"
   ]
  },
  {
   "cell_type": "markdown",
   "metadata": {},
   "source": [
    "### 题解1(不知道哪错了，不太好调试)"
   ]
  },
  {
   "cell_type": "code",
   "execution_count": null,
   "metadata": {},
   "outputs": [],
   "source": [
    "function Node(val, prev, next, child) {\n",
    "  this.val = val;\n",
    "  this.prev = prev;\n",
    "  this.next = next;\n",
    "  this.child = child;\n",
    "};\n",
    "\n",
    "/**\n",
    " * @param {Node} head\n",
    " * @return {Node}\n",
    " */\n",
    "var flatten = function (head) {\n",
    "  let res = new Node(-1, null, null, null);  // 结果的头指针\n",
    "  let resPos = res\n",
    "  let stack = [];  // 存储路口\n",
    "  stack.push(head);\n",
    "  let pos = head;\n",
    "  while(stack.length !== 0){\n",
    "    pos = stack.shift();\n",
    "    while(pos.child || pos.next){\n",
    "      if(pos.child && pos.next){\n",
    "        stack.push(pos);\n",
    "        // visit\n",
    "        let newNode = new Node(pos.val, resPos, null, null);\n",
    "        resPos.next = newNode;\n",
    "        resPos = resPos.next;\n",
    "\n",
    "        pos = pos.child;\n",
    "      }else{\n",
    "        // visit\n",
    "        let newNode = new Node(pos.val, resPos, null, null);\n",
    "        resPos.next = newNode;\n",
    "        resPos = resPos.next;\n",
    "\n",
    "        pos = pos.next | pos.child;\n",
    "      }\n",
    "    }\n",
    "    // 还有最后一个节点的visit\n",
    "    let newNode = new Node(pos.val, resPos, null, null);\n",
    "    resPos.next = newNode;\n",
    "    resPos = resPos.next;\n",
    "  }\n",
    "  return res.next\n",
    "};\n"
   ]
  },
  {
   "cell_type": "markdown",
   "metadata": {},
   "source": [
    "### 题解2(官方解法--递归)"
   ]
  },
  {
   "cell_type": "code",
   "execution_count": null,
   "metadata": {},
   "outputs": [],
   "source": [
    "// 他这里没有新建节点，而是源链上断开与连接\n",
    "var flatten = function(head) {\n",
    "  const dfs = (node) => {\n",
    "      let cur = node;\n",
    "      // 记录链表的最后一个节点\n",
    "      let last = null;\n",
    "\n",
    "      while (cur) {\n",
    "          let next = cur.next;\n",
    "          //  如果有子节点，那么首先处理子节点\n",
    "          if (cur.child) {\n",
    "              const childLast = dfs(cur.child);\n",
    "\n",
    "              next = cur.next;\n",
    "              //  将 node 与 child 相连\n",
    "              cur.next = cur.child;\n",
    "              cur.child.prev = cur;\n",
    "\n",
    "              //  如果 next 不为空，就将 last 与 next 相连\n",
    "              if (next != null) {\n",
    "                  childLast.next = next;\n",
    "                  next.prev = childLast;\n",
    "              }\n",
    "\n",
    "              // 将 child 置为空\n",
    "              cur.child = null;\n",
    "              last = childLast;\n",
    "          } else {\n",
    "              last = cur;\n",
    "          }\n",
    "          cur = next;\n",
    "\n",
    "      }\n",
    "      return last;\n",
    "  }\n",
    "\n",
    "  dfs(head);\n",
    "  return head;\n",
    "};"
   ]
  },
  {
   "cell_type": "code",
   "execution_count": null,
   "metadata": {},
   "outputs": [],
   "source": []
  }
 ],
 "metadata": {
  "kernelspec": {
   "display_name": "JavaScript (Node.js)",
   "language": "javascript",
   "name": "javascript"
  },
  "language_info": {
   "file_extension": ".js",
   "mimetype": "application/javascript",
   "name": "javascript",
   "version": "16.13.0"
  },
  "orig_nbformat": 4
 },
 "nbformat": 4,
 "nbformat_minor": 2
}
