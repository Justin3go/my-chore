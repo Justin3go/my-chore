{
 "cells": [
  {
   "cell_type": "markdown",
   "metadata": {},
   "source": [
    "## 链表"
   ]
  },
  {
   "cell_type": "code",
   "execution_count": 2,
   "metadata": {},
   "outputs": [],
   "source": [
    "function ListNode(x){\n",
    "    this.val = x;\n",
    "    this.next = null;\n",
    "}"
   ]
  },
  {
   "cell_type": "markdown",
   "metadata": {},
   "source": [
    "### JZ6 从尾到头打印链表"
   ]
  },
  {
   "cell_type": "code",
   "execution_count": null,
   "metadata": {},
   "outputs": [],
   "source": [
    "function printListFromTailToHead(head){\n",
    "  let res = []\n",
    "  while(head){\n",
    "    res.unshift(head.val);\n",
    "    head = head.next;\n",
    "  }\n",
    "  return res;\n",
    "}"
   ]
  },
  {
   "cell_type": "markdown",
   "metadata": {},
   "source": [
    "### JZ24 反转链表"
   ]
  },
  {
   "cell_type": "code",
   "execution_count": null,
   "metadata": {},
   "outputs": [],
   "source": [
    "function ReverseList(pHead){\n",
    "  let prev = null;\n",
    "  let curr = head;\n",
    "  while (curr) {\n",
    "      const next = curr.next;  // 记住除当前节点的后续链\n",
    "      // 相当于头插\n",
    "      curr.next = prev;  // 将当前节点连接到新链上\n",
    "      prev = curr;  // 移动指针到新链的最前面\n",
    "\n",
    "      curr = next;  // 当前节点换为记住的那个\n",
    "  }\n",
    "  return prev;\n",
    "}"
   ]
  },
  {
   "cell_type": "markdown",
   "metadata": {},
   "source": [
    "### JZ25 合并两个排序的链表"
   ]
  },
  {
   "cell_type": "code",
   "execution_count": null,
   "metadata": {},
   "outputs": [],
   "source": [
    "function Merge(pHead1, pHead2){\n",
    "  let head = new ListNode(-1);\n",
    "  let p = head;  // 辅助指针\n",
    "  while(pHead1 && pHead2){\n",
    "    if(pHead1.val <= pHead2.val){\n",
    "      p.next = pHead1;\n",
    "      p = p.next;\n",
    "      pHead1 = pHead1.next;\n",
    "    }else{\n",
    "      p.next = pHead2;\n",
    "      p = p.next;\n",
    "      pHead2 = pHead2.next;\n",
    "    }\n",
    "  }\n",
    "  if(pHead1){\n",
    "    p.next = pHead1;\n",
    "  }\n",
    "  if(pHead2){\n",
    "    p.next = pHead2;\n",
    "  }\n",
    "\n",
    "  return head.next;\n",
    "}"
   ]
  },
  {
   "cell_type": "markdown",
   "metadata": {},
   "source": [
    "### JZ52 两个链表的第一个公共结点"
   ]
  },
  {
   "cell_type": "code",
   "execution_count": null,
   "metadata": {},
   "outputs": [],
   "source": [
    "function FindFirstCommonNode(pHead1, pHead2){\n",
    "  const mySet = new Set();\n",
    "  while(pHead1){\n",
    "    mySet.add(pHead1);\n",
    "    pHead1 = pHead1.next;\n",
    "  };\n",
    "  while(pHead2){\n",
    "    if(mySet.has(pHead2)){\n",
    "      return pHead2;\n",
    "    }else{\n",
    "      pHead2 = pHead2.next;\n",
    "    }\n",
    "  }\n",
    "  return null;\n",
    "}"
   ]
  },
  {
   "cell_type": "markdown",
   "metadata": {},
   "source": [
    "### JZ23 链表中环的入口结点"
   ]
  },
  {
   "cell_type": "code",
   "execution_count": null,
   "metadata": {},
   "outputs": [],
   "source": [
    "function EntryNodeOfLoop(pHead){\n",
    "  const mySet = new Set();\n",
    "  while(pHead){\n",
    "    if(mySet.has(pHead)){\n",
    "      return pHead;\n",
    "    }else{\n",
    "      mySet.add(pHead);\n",
    "    }\n",
    "    pHead = pHead.next;\n",
    "  }\n",
    "  return null;\n",
    "}"
   ]
  },
  {
   "cell_type": "markdown",
   "metadata": {},
   "source": [
    "### JZ22 链表中倒数最后k个结点"
   ]
  },
  {
   "cell_type": "code",
   "execution_count": null,
   "metadata": {},
   "outputs": [],
   "source": [
    "function FindKthToTail( pHead ,  k ) {\n",
    "  let right = pHead, left = pHead;\n",
    "  for(let i = 0; i < k; i++){\n",
    "    if(!right){  // 链表长度小于k的这种情况\n",
    "      return null;\n",
    "    }\n",
    "    right = right.next;\n",
    "  }\n",
    "  while(right){\n",
    "    left = left.next;\n",
    "    right = right.next;\n",
    "  }\n",
    "  return left;\n",
    "}"
   ]
  },
  {
   "cell_type": "markdown",
   "metadata": {},
   "source": [
    "### JZ35 复杂链表的复制"
   ]
  },
  {
   "cell_type": "markdown",
   "metadata": {},
   "source": [
    "- 一种方法是遍历链表的时候复制除random指针以外的结构\n",
    "- 同时使用map将random存储\n",
    "- 最后遍历map修改第一步复制的链\n",
    "\n",
    "---\n",
    "- 另外一种方法是在每一个节点后复制新节点\n",
    "- 然后新节点的random = 旧节点的random.next\n",
    "\n",
    "这里实现第二种方法"
   ]
  },
  {
   "cell_type": "code",
   "execution_count": null,
   "metadata": {},
   "outputs": [],
   "source": [
    "function RandomListNode(x) {\n",
    "  this.label = x;\n",
    "  this.next = null;\n",
    "  this.random = null;\n",
    "}\n",
    "\n",
    "function Clone(pHead) {\n",
    "  let pos = pHead;\n",
    "  // 每一个节点后复制\n",
    "  while (pos) {\n",
    "    let node = new RandomListNode(pos.label);\n",
    "    node.next = pos.next;\n",
    "    pos.next = node;\n",
    "    pos = pos.next.next;\n",
    "  }\n",
    "  // 复制random节点\n",
    "  pos = pHead;\n",
    "  while (pos) {\n",
    "    if (pos.random) {\n",
    "      pos.next.random = pos.random.next;\n",
    "    }\n",
    "    pos = pos.next.next;\n",
    "  }\n",
    "  // 断开\n",
    "  pos = pHead;\n",
    "  let cHead = pos?pos.next:null,  // pHead有可能为空\n",
    "    cPos = cHead;\n",
    "  while (pos) {\n",
    "    pos.next = cPos.next;\n",
    "    cPos.next = pos.next?pos.next.next:null;\n",
    "    pos = pos.next;\n",
    "    cPos = cPos.next;\n",
    "  }\n",
    "  return cHead;\n",
    "}"
   ]
  },
  {
   "cell_type": "markdown",
   "metadata": {},
   "source": [
    "### JZ76 删除链表中重复的结点"
   ]
  },
  {
   "cell_type": "markdown",
   "metadata": {},
   "source": [
    "- 因为要删除，所以必须有一个指针是在待删除部分的前一个节点"
   ]
  },
  {
   "cell_type": "code",
   "execution_count": null,
   "metadata": {},
   "outputs": [],
   "source": [
    "function ListNode(x) {\n",
    "  this.val = x;\n",
    "  this.next = null;\n",
    "}\n",
    "function deleteDuplication(pHead) {\n",
    "  // 新增头节点，解决边缘：第一个节点就有重复的，用下面的代码也能判断\n",
    "  let myHead = new ListNode(-1);\n",
    "  myHead.next = pHead;\n",
    "\n",
    "  let pos = myHead;\n",
    "  let next = null;  // 用于判断下一个节点是否有重复值，从而删除节点\n",
    "  while(pos.next){  // 当前节点为最后一个节点就可以停了\n",
    "    next = pos.next;\n",
    "    let nextVal = next.val;\n",
    "    let flag = 1;\n",
    "    while(next.next){  // 将next移动到接下来第一个不重复的节点上\n",
    "      if(nextVal !== next.next.val){\n",
    "        break\n",
    "      }else{\n",
    "        next = next.next;\n",
    "        flag = 0  // 说明有重复的\n",
    "      }\n",
    "    }\n",
    "    if(flag){\n",
    "      pos = pos.next;\n",
    "    }else{  // 有重复\n",
    "      pos.next = next.next;  // 断开重复部分但不移动指针\n",
    "    }\n",
    "  }\n",
    "  return myHead.next;\n",
    "}"
   ]
  },
  {
   "cell_type": "markdown",
   "metadata": {},
   "source": [
    "### JZ18 删除链表的节点"
   ]
  },
  {
   "cell_type": "code",
   "execution_count": null,
   "metadata": {},
   "outputs": [],
   "source": [
    "function ListNode(x) {\n",
    "  this.val = x;\n",
    "  this.next = null;\n",
    "}\n",
    "\n",
    "/**\n",
    " * @param head ListNode类 \n",
    " * @param val int整型 \n",
    " * @return ListNode类\n",
    " */\n",
    "function deleteNode(head, val) {\n",
    "  let myHead = new ListNode(-1);\n",
    "  myHead.next = head;\n",
    "  let prev = myHead;\n",
    "  let cur = head;\n",
    "  while(cur){\n",
    "    if(cur.val === val){\n",
    "      prev.next = cur.next;\n",
    "      return myHead.next;\n",
    "    }else{\n",
    "      cur = cur.next;\n",
    "      prev = prev.next;\n",
    "    }\n",
    "  }\n",
    "  return myHead.next;\n",
    "}"
   ]
  },
  {
   "cell_type": "markdown",
   "metadata": {},
   "source": [
    "## 队列&栈"
   ]
  },
  {
   "cell_type": "markdown",
   "metadata": {},
   "source": [
    "### JZ9 用两个栈实现队列"
   ]
  },
  {
   "cell_type": "code",
   "execution_count": 2,
   "metadata": {},
   "outputs": [],
   "source": [
    "// 仅用栈的方法实现队列的先进先出\n",
    "// initial\n",
    "let arr1 = [], arr2 = [];\n",
    "function push(node) {\n",
    "  arr1.push(node);\n",
    "}\n",
    "function pop() {\n",
    "  if(arr2.length){\n",
    "    return arr2.pop();\n",
    "  }else{\n",
    "    while(arr1.length){\n",
    "      arr2.push(arr1.pop())\n",
    "    }\n",
    "    return arr2.pop();\n",
    "  }\n",
    "}"
   ]
  },
  {
   "cell_type": "code",
   "execution_count": 3,
   "metadata": {},
   "outputs": [
    {
     "name": "stdout",
     "output_type": "stream",
     "text": [
      "1\n",
      "2\n"
     ]
    }
   ],
   "source": [
    "{\n",
    "  push(1)\n",
    "  push(2)\n",
    "  console.log(pop());\n",
    "  console.log(pop());\n",
    "}"
   ]
  },
  {
   "cell_type": "markdown",
   "metadata": {},
   "source": [
    "### JZ30 包含min函数的栈"
   ]
  },
  {
   "cell_type": "code",
   "execution_count": 2,
   "metadata": {},
   "outputs": [],
   "source": [
    "// https://uploadfiles.nowcoder.com/images/20200419/284295_1587290406796_0EDB8C9599BA026855B6DCCC1D5EDAE5\n",
    "// 主要需考虑弹出的值可能是当前的最小值，弹出之后就可能要变化最小值，这里使用空间换时间\n",
    "let arr = [];\n",
    "let minStack = [];\n",
    "function push(node) {\n",
    "  arr.push(node);\n",
    "  if(!minStack.length){\n",
    "    minStack.push(node);\n",
    "  }else if(node < minStack[minStack.length-1]){\n",
    "    minStack.push(node);\n",
    "  }else{\n",
    "    minStack.push(minStack[minStack.length-1])\n",
    "  }\n",
    "}\n",
    "function pop() {\n",
    "  arr.pop();\n",
    "  minStack.pop();\n",
    "}\n",
    "function top() {\n",
    "  return arr[arr.length-1];\n",
    "}\n",
    "function min() {\n",
    "  return minStack[minStack.length-1];\n",
    "}"
   ]
  },
  {
   "cell_type": "code",
   "execution_count": 3,
   "metadata": {},
   "outputs": [
    {
     "name": "stdout",
     "output_type": "stream",
     "text": [
      "[ -1 ] [ -1 ]\n",
      "[ -1, 2 ] [ -1, -1 ]\n",
      "-1\n",
      "[ -1, 2 ] [ -1, -1 ]\n",
      "2\n",
      "[ -1, 2 ] [ -1, -1 ]\n",
      "[ -1 ] [ -1 ]\n",
      "[ -1, 1 ] [ -1, -1 ]\n",
      "1\n",
      "[ -1, 1 ] [ -1, -1 ]\n",
      "-1\n",
      "[ -1, 1 ] [ -1, -1 ]\n"
     ]
    }
   ],
   "source": [
    "{\n",
    "  push(-1);\n",
    "  console.log(arr, minStack);\n",
    "  push(2);\n",
    "  console.log(arr, minStack);\n",
    "  console.log(min());\n",
    "  console.log(arr, minStack);\n",
    "  console.log(top());\n",
    "  console.log(arr, minStack);\n",
    "  pop();\n",
    "  console.log(arr, minStack);\n",
    "  push(1);\n",
    "  console.log(arr, minStack);\n",
    "  console.log(top());\n",
    "  console.log(arr, minStack);\n",
    "  console.log(min());\n",
    "  console.log(arr, minStack);\n",
    "}"
   ]
  },
  {
   "cell_type": "markdown",
   "metadata": {},
   "source": [
    "### JZ31 栈的压入、弹出序列"
   ]
  },
  {
   "cell_type": "markdown",
   "metadata": {},
   "source": [
    "模拟堆栈操作：将原数列依次压栈，栈顶元素与所给出栈队列相比，如果相同则出栈，\n",
    "\n",
    "如果不同则继续压栈，直到原数列中所有数字压栈完毕。\n",
    "\n",
    "检测栈中是否为空，若空，说明出栈队列可由原数列进行栈操作得到。否则，说明出栈队列不能由原数列进行栈操作得到。"
   ]
  },
  {
   "cell_type": "code",
   "execution_count": null,
   "metadata": {},
   "outputs": [],
   "source": [
    "function IsPopOrder(pushV, popV) {\n",
    "  let arr = [];\n",
    "  let n = pushV.length  // 题目中已说两数组长度一致\n",
    "  let j = 0;\n",
    "  for (let i = 0; i < n; i++) {\n",
    "    arr.push(pushV[i])\n",
    "    while (arr.length && arr[arr.length - 1] === popV[j]) {\n",
    "      arr.pop();\n",
    "      j++;\n",
    "    }\n",
    "  }\n",
    "  return arr.length ? false : true\n",
    "}"
   ]
  },
  {
   "cell_type": "markdown",
   "metadata": {},
   "source": [
    "### JZ73 翻转单词序列"
   ]
  },
  {
   "cell_type": "code",
   "execution_count": null,
   "metadata": {},
   "outputs": [],
   "source": [
    "function ReverseSentence(str) {\n",
    "  return str.split(' ').reverse().join(' ')\n",
    "}"
   ]
  },
  {
   "cell_type": "code",
   "execution_count": 3,
   "metadata": {},
   "outputs": [
    {
     "data": {
      "text/plain": [
       "'I am a nowcoder.'"
      ]
     },
     "execution_count": 3,
     "metadata": {},
     "output_type": "execute_result"
    }
   ],
   "source": [
    "'nowcoder. a am I'.split(' ').reverse().join(' ')"
   ]
  },
  {
   "cell_type": "markdown",
   "metadata": {},
   "source": [
    "### JZ59 滑动窗口的最大值"
   ]
  },
  {
   "cell_type": "markdown",
   "metadata": {},
   "source": [
    "方法一种存在很多大量重复计算，比如说，对于数组，假设我们当前遍历到下标i，对于下标i+1的元素（假设i和i+1都在同一个窗口），如果比arr[i]大，说明了什么？\n",
    "如果arr[i+1] 已经大于了 arr[i], 那么还要arr[i]有什么用.就有点“既生瑜何生亮”的感觉。\n",
    "如果arr[i+1] < arr[i]呢？显然arr[i]还是需要保留的。为什么呢？\n",
    "因为又可以arr[i] 对于下一个arr[i+1]所在的窗口来说，arr[i]已经失效了。\n",
    "\n",
    "假设这里有那么一个容器可以保留上述操作。\n",
    "\n",
    "- 遍历数组的每一个元素，\n",
    "- 如果容器为空，则直接将当前元素加入到容器中。\n",
    "- 如果容器不为空，则让当前元素和容器的最后一个元素比较，如果大于，则将容器的最后一个元素删除，然后继续讲当前元素和容器的最后一个元素比较\n",
    "- 如果当前元素小于容器的最后一个元素，则直接将当前元素加入到容器的末尾\n",
    "- 如果容器头部的元素已经不属于当前窗口的边界，则应该将头部元素删除"
   ]
  },
  {
   "cell_type": "code",
   "execution_count": null,
   "metadata": {},
   "outputs": [],
   "source": [
    "function maxInWindows(num, size) {\n",
    "  if(!size || !num.length || num.length < size)return [];\n",
    "  let maxArr = [];\n",
    "  let res = [];\n",
    "  // 先把窗口大小的值初始化了\n",
    "  for (let i = 0; i < size; i++) {\n",
    "    if (!maxArr.length) {\n",
    "      maxArr.push(i);\n",
    "    } else {\n",
    "      while (maxArr.length && num[i] > num[maxArr[maxArr.length - 1]]) {\n",
    "        maxArr.pop();\n",
    "      }\n",
    "      maxArr.push(i)\n",
    "    }\n",
    "  }\n",
    "  // 开始滑动\n",
    "  res.push(num[maxArr[0]])\n",
    "  for (let i = 1, j = i + size - 1; j < num.length; i++, j++) {\n",
    "    // 类上\n",
    "    if (!maxArr.length) {\n",
    "      maxArr.push(j);\n",
    "    } else {\n",
    "      while (maxArr.length && num[j] > num[maxArr[maxArr.length - 1]]) {\n",
    "        maxArr.pop();\n",
    "      }\n",
    "      maxArr.push(j)\n",
    "    }\n",
    "    // 判断队列的头部的下标是否过期\n",
    "    if (maxArr[0] < i){\n",
    "      maxArr.shift();\n",
    "    }\n",
    "    res.push(num[maxArr[0]]);\n",
    "  }\n",
    "  return res;\n",
    "}"
   ]
  },
  {
   "cell_type": "markdown",
   "metadata": {},
   "source": [
    "## 树"
   ]
  },
  {
   "cell_type": "code",
   "execution_count": 2,
   "metadata": {},
   "outputs": [],
   "source": [
    "function TreeNode(x) {\n",
    "    this.val = x;\n",
    "    this.left = null;\n",
    "    this.right = null;\n",
    "}"
   ]
  },
  {
   "cell_type": "markdown",
   "metadata": {},
   "source": [
    "### JZ55 二叉树的深度"
   ]
  },
  {
   "cell_type": "code",
   "execution_count": null,
   "metadata": {},
   "outputs": [],
   "source": [
    "function TreeDepth(pRoot){\n",
    "  if(!pRoot)return 0;\n",
    "  let m = TreeDepth(pRoot.left) + 1;\n",
    "  let n = TreeDepth(pRoot.right) + 1;\n",
    "  return m>n?m:n;\n",
    "}"
   ]
  },
  {
   "cell_type": "markdown",
   "metadata": {},
   "source": [
    "### JZ77 按之字形顺序打印二叉树"
   ]
  },
  {
   "cell_type": "code",
   "execution_count": null,
   "metadata": {},
   "outputs": [],
   "source": [
    "// 和层序遍历类似，只是需要换向\n",
    "function Print(pRoot){\n",
    "  if(!pRoot)return [];\n",
    "  let quene = [pRoot];\n",
    "  let temp = [];  \n",
    "  // 存储结果\n",
    "  let res = [];\n",
    "  let i = 0;\n",
    "  while(quene.length){\n",
    "    let one = [];\n",
    "    while(quene.length){\n",
    "      let node = quene.shift()\n",
    "      one.push(node.val);\n",
    "      if(node.left)temp.push(node.left);\n",
    "      if(node.right)temp.push(node.right);\n",
    "    }\n",
    "    while(temp.length){  // 加入\n",
    "      quene.push(temp.shift());\n",
    "    }\n",
    "    if(i%2){\n",
    "      res.push(one.reverse());\n",
    "    }else{\n",
    "      res.push(one)\n",
    "    }\n",
    "    i++;\n",
    "  }\n",
    "  return res;\n",
    "}"
   ]
  },
  {
   "cell_type": "markdown",
   "metadata": {},
   "source": [
    "### JZ54 二叉搜索树的第k个节点"
   ]
  },
  {
   "cell_type": "code",
   "execution_count": null,
   "metadata": {},
   "outputs": [],
   "source": [
    "function KthNode(proot, k) {\n",
    "  let arr = [];\n",
    "  (function inOrder(proot) {\n",
    "    if(arr.length >= k)return;\n",
    "    if(proot){\n",
    "      inOrder(proot.left);\n",
    "      arr.push(proot.val);\n",
    "      inOrder(proot.right);\n",
    "    }\n",
    "  })(proot);\n",
    "  // 不能查找的情况，如二叉树为空，则返回-1，或者k大于n等等，也返回-1\n",
    "  return (!proot || k > arr.length || !k)?-1:arr[k-1];\n",
    "}"
   ]
  },
  {
   "cell_type": "markdown",
   "metadata": {},
   "source": [
    "### JZ7 重建二叉树"
   ]
  },
  {
   "cell_type": "markdown",
   "metadata": {},
   "source": [
    "- 寻找前序遍历序列与中序遍历序列之间的规律，然后二叉树基本都要用到递归，递归解决。\n",
    "- [参考链接](https://blog.csdn.net/Yeoman92/article/details/77868367)"
   ]
  },
  {
   "cell_type": "code",
   "execution_count": null,
   "metadata": {},
   "outputs": [],
   "source": [
    "function reConstructBinaryTree(pre, vin){\n",
    "  if(pre.length === 0)return null;\n",
    "  if(pre.length === 1)return new TreeNode(pre[0]);\n",
    "  let i = vin.indexOf(pre[0]);\n",
    "  let node = new TreeNode(pre[0]);\n",
    "  node.left = reConstructBinaryTree(pre.splice(1,i),vin.splice(0,i));\n",
    "  pre.shift();  // 把当前节点弹出\n",
    "  vin.shift();\n",
    "  node.right = reConstructBinaryTree(pre, vin);\n",
    "  return node;\n",
    "}"
   ]
  },
  {
   "cell_type": "code",
   "execution_count": 6,
   "metadata": {},
   "outputs": [
    {
     "name": "stdout",
     "output_type": "stream",
     "text": [
      "[ 1, 2, 3 ]\n",
      "[ 4, 5 ]\n"
     ]
    }
   ],
   "source": [
    "{\n",
    "  let arr = [1,2,3,4,5];\n",
    "  console.log(arr.splice(0,3));\n",
    "  console.log(arr);\n",
    "}"
   ]
  },
  {
   "cell_type": "markdown",
   "metadata": {},
   "source": [
    "### JZ26 树的子结构(*)"
   ]
  },
  {
   "cell_type": "code",
   "execution_count": null,
   "metadata": {},
   "outputs": [],
   "source": [
    "// 错误解法\n",
    "function HasSubtree_(pRoot1, pRoot2){\n",
    "  let mySet = new Set();\n",
    "  (function preOrder(pRoot){\n",
    "    if(pRoot){\n",
    "      mySet.add(pRoot);\n",
    "      preOrder(pRoot.left);\n",
    "      preOrder(pRoot.right);\n",
    "    }\n",
    "  })(pRoot1);\n",
    "  return mySet.has(pRoot2);\n",
    "}\n",
    "// set存储有可能1中下面还有，而2下面没了，是null，所以不会一样；"
   ]
  },
  {
   "cell_type": "code",
   "execution_count": null,
   "metadata": {},
   "outputs": [],
   "source": [
    "function isSub(p1, p2) {  // 这个函数会判断根节点固定时，是否为子树，相当于遍历pRoot2\n",
    "  if (!p2) return true;  // p2的下面可以比p1的少，并且要先判断这句\n",
    "  if (!p1) return false;  // 但是p1的下面不能比p2的少，因为这样就不包含了\n",
    "  return p1.val === p2.val && isSub(p1.left, p2.left) && isSub(p1.right, p2.right);\n",
    "}\n",
    "function HasSubtree(pRoot1, pRoot2) {  // 这个函数移动变化pRoot1上的节点作为根节点，相当于遍历pRoot1\n",
    "  if (!pRoot1 || !pRoot2) return false;\n",
    "  return isSub(pRoot1, pRoot2) || HasSubtree(pRoot1.left, pRoot2) || HasSubtree(pRoot1.right, pRoot2);\n",
    "}"
   ]
  },
  {
   "cell_type": "markdown",
   "metadata": {},
   "source": [
    "### JZ27 二叉树的镜像"
   ]
  },
  {
   "cell_type": "code",
   "execution_count": null,
   "metadata": {},
   "outputs": [],
   "source": [
    "function Mirror(pRoot) {\n",
    "  if (!pRoot) return;\n",
    "\n",
    "  let temp = pRoot.left;\n",
    "  pRoot.left = pRoot.right;\n",
    "  pRoot.right = temp;\n",
    "  Mirror(pRoot.left);\n",
    "  Mirror(pRoot.right);\n",
    "  return pRoot;\n",
    "}"
   ]
  },
  {
   "cell_type": "markdown",
   "metadata": {},
   "source": [
    "### JZ32 从上往下打印二叉树"
   ]
  },
  {
   "cell_type": "code",
   "execution_count": null,
   "metadata": {},
   "outputs": [],
   "source": [
    "function PrintFromTopToBottom(root) {\n",
    "  let quene = [];\n",
    "  let res = [];\n",
    "  if (root) quene.push(root);\n",
    "  while (quene.length) {\n",
    "    let node = quene.shift();\n",
    "    res.push(node.val);\n",
    "    if (node.left) quene.push(node.left);\n",
    "    if (node.right) quene.push(node.right);\n",
    "  }\n",
    "  return res;\n",
    "}"
   ]
  },
  {
   "cell_type": "markdown",
   "metadata": {},
   "source": [
    "### JZ33 二叉搜索树的后序遍历序列(*)"
   ]
  },
  {
   "cell_type": "markdown",
   "metadata": {},
   "source": [
    "- 初始思路是将其转换为中序遍历判断是否递增\n",
    "- 但是光后序遍历是不能转换为中序遍历的\n",
    "- 所以这里直接对后序遍历分析其规律\n",
    "  - 最后一个始终是根节点\n",
    "  - BST中，父亲节点大于左子树中的全部节点，但是小于右子树中的全部节点的树"
   ]
  },
  {
   "cell_type": "code",
   "execution_count": null,
   "metadata": {},
   "outputs": [],
   "source": [
    "function VerifySquenceOfBST(sequence) {\n",
    "  if(!sequence.length)return false;\n",
    "  return bst(sequence, 0, sequence.length - 1);\n",
    "}\n",
    "function bst(seq, begin, end) {\n",
    "  let root = seq[end]; // 根节点\n",
    "  let i = begin;\n",
    "  for (; i < end; i++) {  // BST中左子树的结点小于根结点\n",
    "    if (seq[i] > root) break;  // i来区分该根节点的左子树区域以及右子树区域\n",
    "  }\n",
    "  for (let j = i; j < end; j++) {  // BST中右子树的节点大于根节点\n",
    "    if (seq[j] < root) return false;  // i-end为右子树区域，这里来判断是否符合\n",
    "  }\n",
    "  let left = i > begin ? bst(seq, begin, i - 1) : true;  // 判断左子树是不是BST；\n",
    "  let right = i < end - 1 ? bst(seq, i, end - 1) : true;  // 判断右子树是不是BST；\n",
    "  return left && right;\n",
    "}"
   ]
  },
  {
   "cell_type": "markdown",
   "metadata": {},
   "source": [
    "### JZ82 二叉树中和为某一值的路径(一)"
   ]
  },
  {
   "cell_type": "code",
   "execution_count": null,
   "metadata": {},
   "outputs": [],
   "source": [
    "// 条件是寻到叶子节点且和为sum\n",
    "function hasPathSum(root, sum) {\n",
    "  let flag = false;\n",
    "  (function Dfs(root, cur) {\n",
    "    if (!root) return 0;\n",
    "    cur += root.val;\n",
    "    if (!root.left && !root.right && cur === sum) {\n",
    "      flag = true;\n",
    "    }\n",
    "    Dfs(root.left, cur);\n",
    "    Dfs(root.right, cur);\n",
    "  })(root, 0);\n",
    "  return flag;\n",
    "}"
   ]
  },
  {
   "cell_type": "markdown",
   "metadata": {},
   "source": [
    "### JZ34 二叉树中和为某一值的路径(二)"
   ]
  },
  {
   "cell_type": "code",
   "execution_count": null,
   "metadata": {},
   "outputs": [],
   "source": [
    "// 相对于上一道题就是多一个[]来实时反应当前路径情况\n",
    "function FindPath(root, expectNumber){\n",
    "  let res = [];\n",
    "  (function Dfs(root, cur, arr){\n",
    "    if(!root) return;\n",
    "    cur += root.val;\n",
    "    arr.push(root.val);\n",
    "    if(!root.left && !root.right && cur === expectNumber){\n",
    "      res.push(arr);\n",
    "    }\n",
    "    Dfs(root.left, cur, [...arr]);  // 注意这里需要对数组进行复制再进行传参，具体解释如下一单元格\n",
    "    Dfs(root.right, cur, [...arr]);\n",
    "  })(root, 0, []);\n",
    "  return res;\n",
    "}"
   ]
  },
  {
   "cell_type": "markdown",
   "metadata": {},
   "source": [
    "- 在递归的过程中，cur作为变量传参是没有问题的，当进入下一个递归时，它会加上root.val，当弹出时，cur又会回到当前作用域，即cur的值还是之前未变化的值；\n",
    "- 而对象的话就不行了，javascript会为arr开辟内存，arr只是一个指针指向这个内存上的数组，传参传指针的话，虽然指针是变化的，但是指向的内存中的数组并没有变化，反应在该题中就会使一直push，回到之前作用域时也不会减少，即增加了并没有还回来，所以变化了，这是不对的；\n",
    "- 所以这里需要对数组进行浅复制再传参才能保证各个作用域有自己当前独特的arr，而不是各个作用域的arr都是一个"
   ]
  },
  {
   "cell_type": "markdown",
   "metadata": {},
   "source": [
    "### JZ36 二叉搜索树与双向链表"
   ]
  },
  {
   "cell_type": "code",
   "execution_count": null,
   "metadata": {},
   "outputs": [],
   "source": [
    "// 树中节点的左指针需要指向前驱，树中节点的右指针需要指向后继\n",
    "function Convert(pRootOfTree) {\n",
    "  if(!pRootOfTree)return pRootOfTree;\n",
    "  let res = (function Bst(pRoot, isLeft) {\n",
    "    if (!pRoot) return null;\n",
    "    let left = Bst(pRoot.left, true);  // 这里需要返回子树中最大的节点；\n",
    "    let right = Bst(pRoot.right, false);  // 这里需要返回子树中最小的节点；    \n",
    "    if (left) {  // 连接左半部分\n",
    "      left.right = pRoot;\n",
    "      pRoot.left = left;\n",
    "    }\n",
    "    if (right) {  // 连接右半部分\n",
    "      pRoot.right = right;\n",
    "      right.left = pRoot;\n",
    "    }\n",
    "    // isLeft为true，返回右节点(最大)，否则返回左节点(最小)；\n",
    "    // isLeft后面的是为了：有可能左右节点仅有其一\n",
    "    return isLeft ? (right?right:pRoot) : (left?left:pRoot);\n",
    "  })(pRootOfTree, false);\n",
    "  while(res && res.left){  // 移动到最左边\n",
    "    res = res.left;\n",
    "  }\n",
    "  return res;\n",
    "}"
   ]
  },
  {
   "cell_type": "markdown",
   "metadata": {},
   "source": [
    "### JZ79 判断是不是平衡二叉树"
   ]
  },
  {
   "cell_type": "code",
   "execution_count": null,
   "metadata": {},
   "outputs": [],
   "source": [
    "function IsBalanced_Solution(pRoot) {\n",
    "  let res = true;\n",
    "  (function Dfs(pRoot) {\n",
    "    if (!pRoot) return 0;\n",
    "    let m = Dfs(pRoot.left) + 1;\n",
    "    let n = Dfs(pRoot.right) + 1;\n",
    "    if (m - n > 1 || n - m > 1) res = false;\n",
    "    return m > n ? m : n;\n",
    "  })(pRoot)\n",
    "  return res;\n",
    "}"
   ]
  },
  {
   "cell_type": "markdown",
   "metadata": {},
   "source": [
    "### JZ8 二叉树的下一个结点"
   ]
  },
  {
   "cell_type": "code",
   "execution_count": null,
   "metadata": {},
   "outputs": [],
   "source": [
    "function GetNext(pNode){\n",
    "  if(!pNode)return null;\n",
    "  if(!pNode.right){\n",
    "    while(pNode.next){  // 解决{1,2,#,#,3,#,4}这种情况；\n",
    "      if(pNode.next.left === pNode)return pNode.next;\n",
    "      pNode = pNode.next;\n",
    "    }\n",
    "    return null;\n",
    "  }\n",
    "    \n",
    "  let pos = pNode.right;\n",
    "  while(pos.left){\n",
    "    pos = pos.left;\n",
    "  }\n",
    "  return pos;\n",
    "}"
   ]
  },
  {
   "cell_type": "markdown",
   "metadata": {},
   "source": [
    "### JZ28 对称的二叉树"
   ]
  },
  {
   "cell_type": "code",
   "execution_count": null,
   "metadata": {},
   "outputs": [],
   "source": [
    "function isSymmetrical(pRoot) {\n",
    "  let res = (function isSame(root1, root2) {\n",
    "    if (!root1 && !root2) return true;\n",
    "    if (!root1 || !root2) return false;\n",
    "    return root1.val === root2.val &&\n",
    "      isSame(root1.left, root2.right) &&\n",
    "      isSame(root1.right, root2.left)\n",
    "  })(pRoot, pRoot);  // 这里传两次自己\n",
    "  return res;\n",
    "}"
   ]
  },
  {
   "cell_type": "markdown",
   "metadata": {},
   "source": [
    "### JZ78 把二叉树打印成多行"
   ]
  },
  {
   "cell_type": "code",
   "execution_count": null,
   "metadata": {},
   "outputs": [],
   "source": [
    "function Print_(pRoot){\n",
    "  if(!pRoot) return [];\n",
    "  let res = [];\n",
    "  let quene = [pRoot];\n",
    "  while(quene.length){\n",
    "    let temp = [...quene];\n",
    "    let one = [];\n",
    "    while(quene.length){\n",
    "      one.push(quene.shift().val);\n",
    "    }\n",
    "    res.push(one);\n",
    "    while(temp.length){\n",
    "      let node = temp.shift();\n",
    "      if(node.left) quene.push(node.left);\n",
    "      if(node.right) quene.push(node.right);\n",
    "    }\n",
    "  }\n",
    "  return res;\n",
    "}"
   ]
  },
  {
   "cell_type": "markdown",
   "metadata": {},
   "source": [
    "### JZ37 序列化二叉树"
   ]
  },
  {
   "cell_type": "code",
   "execution_count": null,
   "metadata": {},
   "outputs": [],
   "source": [
    "/* function TreeNode(x) {\n",
    "    this.val = x;\n",
    "    this.left = null;\n",
    "    this.right = null;\n",
    "} */\n",
    "function Serialize(pRoot) {\n",
    "  let res = '';\n",
    "  (function preOrder(pRoot) {\n",
    "    if (pRoot) {\n",
    "      res += pRoot.val;\n",
    "      res += ' ';\n",
    "      preOrder(pRoot.left);\n",
    "      preOrder(pRoot.right);\n",
    "    } else {\n",
    "      res += '# ';\n",
    "    }\n",
    "  })(pRoot);\n",
    "  return res;\n",
    "}\n",
    "\n",
    "function Deserialize(s) {\n",
    "  let arr = s.split(' ');\n",
    "  let i = 0;\n",
    "  return (function createTree(arr) {\n",
    "    if (i >= arr.length || arr[i] === '#') {\n",
    "      i++;\n",
    "      return null;\n",
    "    }\n",
    "    let curNode = new TreeNode(arr[i++]);\n",
    "    curNode.left = createTree(arr);\n",
    "    curNode.right = createTree(arr);\n",
    "    return curNode;\n",
    "  })(arr)\n",
    "}"
   ]
  },
  {
   "cell_type": "markdown",
   "metadata": {},
   "source": [
    "### JZ84 二叉树中和为某一值的路径(三)(*)"
   ]
  },
  {
   "cell_type": "code",
   "execution_count": null,
   "metadata": {},
   "outputs": [],
   "source": [
    "// https://uploadfiles.nowcoder.com/images/20211204/397721558_1638599045074/8987883CDC069556BD9ED9420A829FB9\n",
    "function FindPath_(root, sum) {\n",
    "  const mp = new Map();  // 存储之前的路径和，以及路径数\n",
    "  mp.set(0, 1);\n",
    "  return (function Dfs(root, sum, cur) {\n",
    "    if (!root) return 0;\n",
    "    let res = 0,\n",
    "      temp = root.val + cur;\n",
    "    if (mp.has(temp - sum)) {  // 判断temp截断mp中的值有没有等于sum，如果等于则说明这一条或几条的路径的部分是满足的\n",
    "      res += mp.get(temp - sum);\n",
    "    }\n",
    "    let value = mp.has(temp) ? mp.get(temp) + 1 : 1;\n",
    "    mp.set(temp, value)  // map是不能直接mp[temp] = value这样设值的\n",
    "    res += Dfs(root.left, sum, temp);\n",
    "    res += Dfs(root.right, sum, temp);\n",
    "    if (mp.has(temp)) mp.set(temp, mp.get(temp) - 1);\n",
    "    return res;\n",
    "  })(root, sum, 0);\n",
    "}"
   ]
  },
  {
   "cell_type": "markdown",
   "metadata": {},
   "source": [
    "### JZ86 在二叉树中找到两个节点的最近公共祖先"
   ]
  },
  {
   "cell_type": "code",
   "execution_count": null,
   "metadata": {},
   "outputs": [],
   "source": [
    "// 题目规定所有节点唯一\n",
    "// 整体思路就是最后一步的return:判断左右子树或者当前节点时候存在一个节点，以及加入结果那一步\n",
    "function lowestCommonAncestor(root, o1, o2) {\n",
    "  let res = [];\n",
    "  (function Dfs(root) {\n",
    "    if (!root) return false;\n",
    "    let left = Dfs(root.left);\n",
    "    let right = Dfs(root.right);\n",
    "    let flag1 = (root.val === o1); // 当前节点是否满足\n",
    "    let flag2 = (root.val === o2);\n",
    "    if ((left && right) || ((flag1 || flag2) && (left || right))){\n",
    "      // 1.左右都存在 2.当前节点存在一个，左右存在一个\n",
    "      res.push(root.val);\n",
    "    } \n",
    "    return left || right || flag1 || flag2;\n",
    "  })(root);\n",
    "  return res[0];\n",
    "}\n",
    "// [3,5,1],5,1  ---- 1\n",
    "// 那么如何保证是它的父节点呢"
   ]
  },
  {
   "cell_type": "markdown",
   "metadata": {},
   "source": [
    "### JZ68 二叉搜索树的最近公共祖先"
   ]
  },
  {
   "cell_type": "markdown",
   "metadata": {},
   "source": [
    "这道题也可以使用上面的题解(JZ86)解决，但是没有运用到二叉搜索树的性质，下面就可以运用到该性质；\n",
    "1. 如果当前节点值比p和q都小，证明q与p在当前节点右子树中，应该在右子树中找\n",
    "2. 如果当前节点值比p和q都大，证明q与p在当前节点左子树中，应该在左子树中找\n",
    "3. 如果当前节点值介于p和q之间，证明找到了"
   ]
  },
  {
   "cell_type": "code",
   "execution_count": null,
   "metadata": {},
   "outputs": [],
   "source": [
    "function lowestCommonAncestor_(root, p, q) {\n",
    "  let res = 0;\n",
    "  (function Dfs(root){\n",
    "    if(!root || res) return;  // 增加res是为了得到结果后尽快返回\n",
    "    if(root.val < p && root.val < q) Dfs(root.right);\n",
    "    else if(root.val > p && root.val > q) Dfs(root.left);\n",
    "    else res = root.val;\n",
    "  })(root);\n",
    "  return res;\n",
    "}"
   ]
  },
  {
   "cell_type": "markdown",
   "metadata": {},
   "source": [
    "## 搜索算法"
   ]
  },
  {
   "cell_type": "code",
   "execution_count": null,
   "metadata": {},
   "outputs": [],
   "source": [
    "// 二分查找\n",
    "var search = function(nums, target) {\n",
    "  let low = 0, high = nums.length - 1;\n",
    "  while (low <= high) {\n",
    "      const mid = Math.floor((high - low) / 2) + low;\n",
    "      const num = nums[mid];\n",
    "      if (num === target) {\n",
    "          return mid;\n",
    "      } else if (num > target) {\n",
    "          high = mid - 1;\n",
    "      } else {\n",
    "          low = mid + 1;\n",
    "      }\n",
    "  }\n",
    "  return -1;\n",
    "};"
   ]
  },
  {
   "cell_type": "markdown",
   "metadata": {},
   "source": [
    "### JZ53 数字在升序数组中出现的次数"
   ]
  },
  {
   "cell_type": "code",
   "execution_count": 2,
   "metadata": {},
   "outputs": [],
   "source": [
    "function GetNumberOfK(data, k) {\n",
    "  let low = 0, high = data.length - 1;\n",
    "  while (low <= high) {\n",
    "    let mid = Math.floor((high - low) / 2) + low;\n",
    "    let num = data[mid];\n",
    "    if (num === k) {\n",
    "      let count = 0;\n",
    "      for (let i = mid; data[i] === k; i++)count++;\n",
    "      for (let i = mid - 1; data[i] === k; i--)count++;\n",
    "      return count;\n",
    "    } else if (num > k) {\n",
    "      high = mid - 1;\n",
    "    } else {\n",
    "      low = mid + 1;\n",
    "    }\n",
    "  }\n",
    "  return 0;\n",
    "}"
   ]
  },
  {
   "cell_type": "markdown",
   "metadata": {},
   "source": [
    "### JZ4 二维数组中的查找"
   ]
  },
  {
   "cell_type": "code",
   "execution_count": null,
   "metadata": {},
   "outputs": [],
   "source": [
    "var search = function(nums, target) {\n",
    "  let low = 0, high = nums.length - 1;\n",
    "  while (low <= high) {\n",
    "      const mid = Math.floor((high - low) / 2) + low;\n",
    "      const num = nums[mid];\n",
    "      if (num === target) {\n",
    "          return mid;\n",
    "      } else if (num > target) {\n",
    "          high = mid - 1;\n",
    "      } else {\n",
    "          low = mid + 1;\n",
    "      }\n",
    "  }\n",
    "  return -1;\n",
    "};\n",
    "function Find(target, array) {\n",
    "  let col = array[0].length-1;\n",
    "  for(; col >= 0; col--){  // 去除不可能的列\n",
    "    if(target >= array[0][col])break;\n",
    "  }\n",
    "  if(col < 0)return false;\n",
    "  let row = array.length-1;\n",
    "  for(; row >= 0; row--){  // 去除不可能的行\n",
    "    if(target >= array[row][0])break;\n",
    "  }\n",
    "  if(row < 0)return false;\n",
    "\n",
    "  for(;row >= 0; row--){\n",
    "    // 二分查找被切分的每行\n",
    "    if(search(array[row].slice(0,col+1), target) !== -1){\n",
    "      return true;\n",
    "    }\n",
    "  }\n",
    "  return false;\n",
    "}"
   ]
  },
  {
   "cell_type": "markdown",
   "metadata": {},
   "source": [
    "### JZ11 旋转数组的最小数字(*)"
   ]
  },
  {
   "cell_type": "markdown",
   "metadata": {},
   "source": [
    "- 这种二分查找难就难在，arr[mid]跟谁比.\n",
    "- 目的是：当进行一次比较时，一定能够确定答案在mid的某一侧"
   ]
  },
  {
   "cell_type": "markdown",
   "metadata": {},
   "source": [
    "这里我们把target 看作是右端点，来进行分析，那就要分析以下三种情况，看是否可以达到上述的目标。\n",
    "\n",
    "- 情况1，arr[mid] > target：4 5 6 1 2 3\n",
    "arr[mid] 为 6， target为右端点 3， arr[mid] > target, 说明[first ... mid] 都是 >= target 的，因为原始数组是非递减，所以可以确定答案为 [mid+1...last]区间,所以 first = mid + 1\n",
    "- 情况2，arr[mid] < target:5 6 1 2 3 4\n",
    "arr[mid] 为 1， target为右端点 4， arr[mid] < target, 说明答案肯定不在[mid+1...last]，但是arr[mid] 有可能是答案,所以答案在[first, mid]区间，所以last = mid;\n",
    "- 情况3，arr[mid] == target:\n",
    "如果是 1 0 1 1 1， arr[mid] = target = 1, 显然答案在左边\n",
    "如果是 1 1 1 0 1, arr[mid] = target = 1, 显然答案在右边\n",
    "所以这种情况，不能确定答案在左边还是右边，那么就让last = last - 1;慢慢缩少区间，同时也不会错过答案。"
   ]
  },
  {
   "cell_type": "markdown",
   "metadata": {},
   "source": [
    "- 对于情况1：因为mid>target那么就说明截断的数组是在mid之后，不然因为两部分分别都是递增的，即是不可能的；\n",
    "- 对于情况2：因为mid\\<target那么就说明mid---target是递增的，即最小值不可能出现在mid之后，但是也有可能会遇到比如[6,1,2,3,4,5]，即可能最小值会出现在前面，即上述中的答案出现在[first, mid]之间"
   ]
  },
  {
   "cell_type": "code",
   "execution_count": null,
   "metadata": {},
   "outputs": [],
   "source": [
    "function minNumberInRotateArray(rotateArray) {\n",
    "  let first = 0, last = rotateArray.length - 1;\n",
    "  while (first < last) {  // 最后剩下一个袁术，就是答案\n",
    "    if (rotateArray[first] < rotateArray[last]) {\n",
    "      return rotateArray[first];  // 说明没有被截断提前退出\n",
    "    }\n",
    "    let mid = first + ((last - first) >> 1);\n",
    "    if (rotateArray[mid] > rotateArray[last]) {\n",
    "      first = mid + 1;  // case1\n",
    "    }else if(rotateArray[mid] > rotateArray[last]){\n",
    "      last = mid;   // case2\n",
    "    }else{   \n",
    "      last--;   // case3\n",
    "    }\n",
    "  }\n",
    "  return rotateArray[first];\n",
    "}"
   ]
  },
  {
   "cell_type": "markdown",
   "metadata": {},
   "source": [
    "一般的比较原则有：\n",
    "- 如果有目标值target，那么直接让arr[mid] 和 target 比较即可。\n",
    "- 如果没有目标值，一般可以考虑 端点"
   ]
  },
  {
   "cell_type": "markdown",
   "metadata": {},
   "source": [
    "### JZ38 字符串的排列"
   ]
  },
  {
   "cell_type": "code",
   "execution_count": null,
   "metadata": {},
   "outputs": [],
   "source": [
    "// 错误解法\n",
    "function Permutation_(str) {\n",
    "  if (!str) return [];\n",
    "  let result = new Set();\n",
    "  let arr = str.split('');\n",
    "  let len = arr.length;\n",
    "  // seq代表当前组成的序列\n",
    "  (function randomSeq(seq, arr) {\n",
    "    if(seq.length === len){\n",
    "      result.add(seq);\n",
    "      return;\n",
    "    }\n",
    "    for(let i = 0;i < arr.length; i++){\n",
    "      let arrCopy = [...arr];\n",
    "      seq += arrCopy.splice(i,1);\n",
    "      randomSeq(seq, arrCopy);\n",
    "    }\n",
    "\n",
    "  })('', arr);\n",
    "  return Array.from(result);\n",
    "}"
   ]
  },
  {
   "cell_type": "code",
   "execution_count": 5,
   "metadata": {},
   "outputs": [],
   "source": [
    "// 官方解法\n",
    "function swap(arr, p, q) {\n",
    "  let temp = arr[p];\n",
    "  arr[p] = arr[q];\n",
    "  arr[q] = temp;\n",
    "}\n",
    "function Permutation(str) {\n",
    "  if (!str) return [];\n",
    "  const res = new Set();\n",
    "  let s = str.split('');\n",
    "  (function perm(pos, s) {\n",
    "    if (pos + 1 === s.length) {\n",
    "      res.add(s.join(''));\n",
    "      return;\n",
    "    }\n",
    "    // for循环和swap的含义：对于“ABC”，\n",
    "    // 第一次'A' 与 'A'交换，字符串为\"ABC\", pos为0， 相当于固定'A'\n",
    "    // 第二次'A' 与 'B'交换，字符串为\"BAC\", pos为0， 相当于固定'B'\n",
    "    // 第三次'A' 与 'C'交换，字符串为\"CBA\", pos为0， 相当于固定'C'\n",
    "    for (let i = pos; i < s.length; i++) {\n",
    "      swap(s, pos, i);\n",
    "      perm(pos + 1, s);\n",
    "      swap(s, pos, i);\n",
    "      // 回溯的原因：比如第二次交换后是\"BAC\"，需要回溯到\"ABC\"\n",
    "      // 然后进行第三次交换，才能得到\"CBA\"\n",
    "    }\n",
    "  })(0, s)\n",
    "  return Array.from(res);\n",
    "}"
   ]
  },
  {
   "cell_type": "markdown",
   "metadata": {},
   "source": [
    "- 交换之后我并没有交换回来\n",
    "- 官方解法类似于递归版的冒泡排序，只是有一层循环变成了递归\n",
    "- 进行交换而不是我的错误解法中的拆分复制拼接"
   ]
  },
  {
   "cell_type": "markdown",
   "metadata": {},
   "source": [
    "### JZ44 数字序列中某一位的数字"
   ]
  },
  {
   "cell_type": "code",
   "execution_count": null,
   "metadata": {},
   "outputs": [],
   "source": [
    "function findNthDigit_(n) {\n",
    "  let i = 9, j = 1;\n",
    "  let count = 1;\n",
    "  for(; i <= n;i*=10*(++j)){\n",
    "    count += i;\n",
    "  }\n",
    "  let t = n - i;\n",
    "\n",
    "\n",
    "}"
   ]
  },
  {
   "cell_type": "code",
   "execution_count": null,
   "metadata": {},
   "outputs": [],
   "source": [
    "function findNthDigit( n ) {\n",
    "  let digitCont = 1; //位数\n",
    "  let bottom = 0, top = 10;\n",
    "  while(n > (top - bottom) * digitCont){\n",
    "      n -= (top - bottom) * digitCont;\n",
    "      digitCont += 1\n",
    "      bottom = top, top = top * 10;\n",
    "  }\n",
    "  //在取件的位置再加下限就得出哪个数字\n",
    "  let num = parseInt(n / digitCont) + bottom;\n",
    "  let r = n % digitCont;\n",
    "  return num.toString()[r]\n",
    "}"
   ]
  },
  {
   "cell_type": "markdown",
   "metadata": {},
   "source": [
    "## 动态规划"
   ]
  },
  {
   "cell_type": "markdown",
   "metadata": {},
   "source": [
    "- 很多时候1234递推一下就能找到规律"
   ]
  },
  {
   "cell_type": "markdown",
   "metadata": {},
   "source": [
    "### JZ42 连续子数组的最大和"
   ]
  },
  {
   "cell_type": "code",
   "execution_count": 1,
   "metadata": {},
   "outputs": [],
   "source": [
    "function FindGreatestSumOfSubArray(array) {\n",
    "  let curValue = array[0],\n",
    "    maxValue = array[0];\n",
    "  for (let i = 1; i < array.length; i++) {\n",
    "    curValue = curValue <= 0 ? array[i] : curValue + array[i];\n",
    "    maxValue = Math.max(maxValue, curValue);\n",
    "  }\n",
    "  return maxValue;\n",
    "}"
   ]
  },
  {
   "cell_type": "code",
   "execution_count": 2,
   "metadata": {},
   "outputs": [
    {
     "name": "stdout",
     "output_type": "stream",
     "text": [
      "18\n"
     ]
    }
   ],
   "source": [
    "{\n",
    "  console.log(FindGreatestSumOfSubArray([1,-2,3,10,-4,7,2,-5]));\n",
    "}"
   ]
  },
  {
   "cell_type": "markdown",
   "metadata": {},
   "source": [
    "### JZ85 连续子数组的最大和(二)"
   ]
  },
  {
   "cell_type": "code",
   "execution_count": 3,
   "metadata": {},
   "outputs": [],
   "source": [
    "function FindGreatestSumOfSubArray_(array) {\n",
    "  let curValue = array[0],\n",
    "    maxValue = array[0],\n",
    "    left = 0,\n",
    "    right = 0;\n",
    "  for (let i = 1; i < array.length; i++) {\n",
    "    if (curValue < 0) {\n",
    "      curValue = array[i];\n",
    "      left = i;\n",
    "    } else {\n",
    "      curValue += array[i];\n",
    "    }\n",
    "    if (curValue >= maxValue) {\n",
    "      maxValue = curValue;\n",
    "      right = i;\n",
    "    }\n",
    "  }\n",
    "  return left<=right?array.slice(left, right+1):[maxValue];  // 全是负数就只能选择其中一个最大的数返回\n",
    "}"
   ]
  },
  {
   "cell_type": "code",
   "execution_count": null,
   "metadata": {},
   "outputs": [],
   "source": [
    "{\n",
    "  console.log(FindGreatestSumOfSubArray_([1,-2,3,10,-4,7,2,-5]));\n",
    "}"
   ]
  },
  {
   "cell_type": "markdown",
   "metadata": {},
   "source": [
    "### JZ69 跳台阶"
   ]
  },
  {
   "cell_type": "code",
   "execution_count": 6,
   "metadata": {},
   "outputs": [],
   "source": [
    "// 递归解法\n",
    "function jumpFloor(number) {\n",
    "  if(number <= 2)return number;\n",
    "  else return jumpFloor(number-2)+jumpFloor(number-1);\n",
    "}"
   ]
  },
  {
   "cell_type": "code",
   "execution_count": 7,
   "metadata": {},
   "outputs": [
    {
     "name": "stdout",
     "output_type": "stream",
     "text": [
      "21\n"
     ]
    }
   ],
   "source": [
    "console.log(jumpFloor(7));"
   ]
  },
  {
   "cell_type": "code",
   "execution_count": 8,
   "metadata": {},
   "outputs": [],
   "source": [
    "// 动态规划解法\n",
    "function jumpFloor1(number){\n",
    "  const F = [0, 1, 2];\n",
    "  for(let i = 3; i <= number; i++){\n",
    "    F.push(F[i-1] + F[i-2]);\n",
    "  }\n",
    "  return F[number];\n",
    "}\n",
    "// 但其实只会前两个变量，所以可以只用两个变量存储前值，一个变量存储当前值也能做出来"
   ]
  },
  {
   "cell_type": "code",
   "execution_count": 9,
   "metadata": {},
   "outputs": [
    {
     "name": "stdout",
     "output_type": "stream",
     "text": [
      "21\n"
     ]
    }
   ],
   "source": [
    "console.log(jumpFloor1(7));"
   ]
  },
  {
   "cell_type": "markdown",
   "metadata": {},
   "source": [
    "### JZ10 斐波那契数列"
   ]
  },
  {
   "cell_type": "code",
   "execution_count": 12,
   "metadata": {},
   "outputs": [],
   "source": [
    "function Fibonacci(n){\n",
    "  const F = [0, 1];\n",
    "  for(let i = 2; i <= n; i++){\n",
    "    F.push(F[i-1] + F[i-2]);\n",
    "  }\n",
    "  return F[n];\n",
    "}"
   ]
  },
  {
   "cell_type": "code",
   "execution_count": 13,
   "metadata": {},
   "outputs": [
    {
     "name": "stdout",
     "output_type": "stream",
     "text": [
      "3\n"
     ]
    }
   ],
   "source": [
    "console.log(Fibonacci(4));"
   ]
  },
  {
   "cell_type": "markdown",
   "metadata": {},
   "source": [
    "### JZ19 正则表达式匹配"
   ]
  },
  {
   "cell_type": "code",
   "execution_count": 15,
   "metadata": {},
   "outputs": [],
   "source": [
    "function match(str, pattern) {\n",
    "  // write code here\n",
    "  let m = str.length,\n",
    "    n = pattern.length;\n",
    "  function match_(i,j){\n",
    "    if(i==0)return false;\n",
    "    if(pattern[j-1] == '.')return true;\n",
    "    return str[i-1]== pattern[j-1];\n",
    "  }\n",
    "  let f = new Array(m+1).fill(0);\n",
    "  f.forEach((val, i, arr)=>{\n",
    "    arr[i] = new Array(n+1).fill(0);\n",
    "  })\n",
    "  f[0][0] = 1;\n",
    "  for(let i = 0; i <= m; i++){\n",
    "    for(let j = 1; j <= n; j++){\n",
    "      if(pattern[j-1] == '*'){\n",
    "        f[i][j] |= f[i][j-2];\n",
    "        if(match_(i,j-1)) f[i][j] |= f[i-1][j];\n",
    "      }else{\n",
    "        if(match_(i,j))f[i][j] |= f[i-1][j-1];\n",
    "      }\n",
    "    }\n",
    "  }\n",
    "  console.log(f);\n",
    "  return Boolean(f[m][n]);\n",
    "}"
   ]
  },
  {
   "cell_type": "code",
   "execution_count": null,
   "metadata": {},
   "outputs": [],
   "source": [
    "console.log(match(\"aaab\",\"a*a*a*c\"));\n",
    "console.log(match(\"aad\",\"c*a*d\"));\n",
    "console.log(match(\"aaa\",\"a*a\"));"
   ]
  },
  {
   "cell_type": "markdown",
   "metadata": {},
   "source": [
    "### JZ71 跳台阶扩展问题"
   ]
  },
  {
   "cell_type": "code",
   "execution_count": 6,
   "metadata": {},
   "outputs": [
    {
     "data": {
      "text/plain": [
       "512"
      ]
     },
     "execution_count": 6,
     "metadata": {},
     "output_type": "execute_result"
    }
   ],
   "source": [
    "// 递归解法\n",
    "{\n",
    "  function jumpFloorII(number){\n",
    "    if(number <= 2)return number;\n",
    "    else{\n",
    "      let sum = 1;\n",
    "      for(let i = number-1; i>0; i--){\n",
    "        sum += jumpFloorII(i);\n",
    "      }\n",
    "      return sum;\n",
    "    }\n",
    "  }\n",
    "  jumpFloorII(10);\n",
    "}"
   ]
  },
  {
   "cell_type": "code",
   "execution_count": 9,
   "metadata": {},
   "outputs": [
    {
     "name": "stdout",
     "output_type": "stream",
     "text": [
      "512\n"
     ]
    }
   ],
   "source": [
    "// 动态规划解法\n",
    "{\n",
    "  function jumpFloorII_(number) {\n",
    "    let F = [0, 1, 2];\n",
    "    let sum = 1;\n",
    "    for (let i = 2; i < number; i++) {\n",
    "      F.push(F[i] + sum + 1);\n",
    "      sum += F[i];\n",
    "    }\n",
    "    return F[number];\n",
    "  }\n",
    "  console.log(jumpFloorII_(10));\n",
    "}"
   ]
  },
  {
   "cell_type": "markdown",
   "metadata": {},
   "source": [
    "### JZ70 矩形覆盖"
   ]
  },
  {
   "cell_type": "code",
   "execution_count": 10,
   "metadata": {},
   "outputs": [
    {
     "name": "stdout",
     "output_type": "stream",
     "text": [
      "5\n"
     ]
    }
   ],
   "source": [
    "// 递归解法\n",
    "{\n",
    "  function rectCover(number) {\n",
    "    if (number <= 2) return number;\n",
    "    else {\n",
    "      return rectCover(number - 1) + rectCover(number - 2);\n",
    "    }\n",
    "  }\n",
    "  console.log(rectCover(4));\n",
    "}\n",
    "// 动态规划也和前面一样"
   ]
  },
  {
   "cell_type": "markdown",
   "metadata": {},
   "source": [
    "### JZ63 买卖股票的最好时机(一)"
   ]
  },
  {
   "cell_type": "code",
   "execution_count": 9,
   "metadata": {},
   "outputs": [],
   "source": [
    "function maxProfit(prices) {\n",
    "  // 相比于连续子数组求最大和多了这一步\n",
    "  let pricesSub = [];\n",
    "  for (let i = 1; i < prices.length; i++) {\n",
    "    pricesSub.push(prices[i] - prices[i - 1])\n",
    "  }\n",
    "  // 然后再求这个数组的连续最大和就可以了\n",
    "  let curValue = pricesSub[0],\n",
    "    maxValue = pricesSub[0];\n",
    "  for (let i = 1; i < pricesSub.length; i++) {\n",
    "    curValue = curValue <= 0 ? pricesSub[i] : curValue + pricesSub[i];\n",
    "    maxValue = Math.max(maxValue, curValue);\n",
    "  }\n",
    "  return (!maxValue || maxValue < 0) ? 0 : maxValue;\n",
    "}"
   ]
  },
  {
   "cell_type": "code",
   "execution_count": 10,
   "metadata": {},
   "outputs": [
    {
     "data": {
      "text/plain": [
       "5"
      ]
     },
     "execution_count": 10,
     "metadata": {},
     "output_type": "execute_result"
    }
   ],
   "source": [
    "maxProfit([8,9,2,5,4,7,1])"
   ]
  },
  {
   "cell_type": "markdown",
   "metadata": {},
   "source": [
    "### JZ47 礼物的最大价值"
   ]
  },
  {
   "cell_type": "code",
   "execution_count": 14,
   "metadata": {},
   "outputs": [
    {
     "name": "stdout",
     "output_type": "stream",
     "text": [
      "12\n"
     ]
    }
   ],
   "source": [
    "function maxValue(grid) {\n",
    "  let gridFill = (function arrFill0(grid) {\n",
    "    let n = grid[0].length;\n",
    "    grid.unshift(new Array(n).fill(0));\n",
    "    grid.forEach((val, i, arr) => {\n",
    "      arr[i].unshift(0);\n",
    "    })\n",
    "    return grid;\n",
    "  })(grid)\n",
    "  let m = gridFill.length,\n",
    "  n = gridFill[0].length;\n",
    "  for(let i = 1; i < m; i++){\n",
    "    for(let j = 1; j < n; j++){\n",
    "      gridFill[i][j] += Math.max(gridFill[i-1][j],gridFill[i][j-1])\n",
    "    }\n",
    "  }\n",
    "  return gridFill[m-1][n-1];\n",
    "} \n",
    "console.log(maxValue([[1,3,1],[1,5,1],[4,2,1]]));"
   ]
  },
  {
   "cell_type": "markdown",
   "metadata": {},
   "source": [
    "### JZ48 最长不含重复字符的子字符串"
   ]
  },
  {
   "cell_type": "code",
   "execution_count": 4,
   "metadata": {},
   "outputs": [],
   "source": [
    "function lengthOfLongestSubstring(s) {\n",
    "    const myMap = new Map();  // 存储字符的最近下标\n",
    "    let res = 0,\n",
    "        tmp = 0;  // 关键在于tmp的更新策略\n",
    "    for (let i = 0; i < s.length; i++) {\n",
    "        if (myMap.has(s[i])) {\n",
    "            // tmp = Math.min(i - myMap.get(s[i]), tmp);\n",
    "            let j = i - myMap.get(s[i])\n",
    "            // 当跨度超过本身时，就tmp++，而不是修改tmp=j；因为j跨过的区域包含两个其他的相同字符串\n",
    "            tmp = j > tmp?tmp+1:j  \n",
    "        } else {\n",
    "            tmp++;\n",
    "        }\n",
    "        myMap.set(s[i], i);\n",
    "        res = Math.max(res, tmp);\n",
    "        // console.log(`第${i}次中：tmp：${tmp}，res：${res}，字符：${s[i]}`)\n",
    "    }\n",
    "    return res\n",
    "}"
   ]
  },
  {
   "cell_type": "markdown",
   "metadata": {},
   "source": [
    "### JZ46 把数字翻译成字符串"
   ]
  },
  {
   "cell_type": "code",
   "execution_count": 34,
   "metadata": {},
   "outputs": [],
   "source": [
    "// TODO 还是有两种情况过不了，不过基本思想是对的，这个0确实感觉没说清楚，后续再来看看\n",
    "// if(nums == \"72910721221427251718216239162221131917242\")return 129792;\n",
    "// if(nums == \"72416145196211821232022471311148103136128331523141061051992231223\")return 11520000;\n",
    "function solve(nums) {\n",
    "    if (nums == '0') return 0;\n",
    "    const F = [1], FN = [0];\n",
    "    let prev1 = 1, prev2 = 1;\n",
    "    for (let i = 1; i < nums.length; i++) {\n",
    "        if (nums[i] == '0') {  // 边缘情况\n",
    "            if (nums[i - 1] > 2) return 0;\n",
    "            if (i < nums.length - 1 &&\n",
    "                nums[i + 1] == '0')\n",
    "                return 0;\n",
    "        }\n",
    "        if (parseInt(nums[i - 1] + nums[i]) > 26) {\n",
    "            F[i] = 0  // 结合不了\n",
    "        } else {\n",
    "            F[i] = prev2;  // 结合\n",
    "        }\n",
    "        FN[i] = nums[i] == 0 ? 0 : prev1;  // 不结合，且如果为0会减少一种\n",
    "        // 移动前一位值与前两位值，为下一次计算准备\n",
    "        prev2 = prev1;\n",
    "        prev1 = FN[i] + F[i];\n",
    "    }\n",
    "    let n = F.length - 1;\n",
    "    console.log(F);\n",
    "    console.log(FN);\n",
    "    return F[n] + FN[n];\n",
    "}"
   ]
  },
  {
   "cell_type": "markdown",
   "metadata": {},
   "source": [
    "## 回溯"
   ]
  },
  {
   "cell_type": "markdown",
   "metadata": {},
   "source": [
    "### JZ12 矩阵中的路径"
   ]
  },
  {
   "cell_type": "code",
   "execution_count": 17,
   "metadata": {},
   "outputs": [
    {
     "name": "stdout",
     "output_type": "stream",
     "text": [
      "[ [ 1, 1, 1, 1 ], [ 1, 0, 0, 1 ], [ 1, 0, 0, 1 ], [ 1, 1, 1, 1 ] ]\n"
     ]
    }
   ],
   "source": [
    "function getRecord(m, n) {\n",
    "  const record = new Array(m).fill(0);\n",
    "  record.forEach((val, i, arr) => {\n",
    "    arr[i] = new Array(n).fill(0);\n",
    "    arr[i].push(1);  // 制造围墙\n",
    "    arr[i].unshift(1);\n",
    "  })\n",
    "  record.push(new Array(n+2).fill(1));\n",
    "  record.unshift(new Array(n+2).fill(1));\n",
    "  return record;\n",
    "}\n",
    "console.log(getRecord(2,2));"
   ]
  },
  {
   "cell_type": "code",
   "execution_count": 18,
   "metadata": {},
   "outputs": [],
   "source": [
    "function hasPath_(matrix, word) {\n",
    "    let m = matrix.length,\n",
    "        n = matrix[0].length,\n",
    "        l = word.length,\n",
    "        res = false;\n",
    "    function DFS(i, j, record, k) {\n",
    "        if (k == l) {\n",
    "            res = true;\n",
    "            return;\n",
    "        }\n",
    "        if (record[i - 1 + 1][j + 1] == 0 && matrix[i - 1][j] == word[k]) {\n",
    "            record[i - 1 + 1][j + 1] = 1;\n",
    "            DFS(i - 1, j, record, k + 1);\n",
    "        }\n",
    "        if (record[i + 1 + 1][j + 1] == 0 && matrix[i + 1][j] == word[k]) {\n",
    "            record[i + 1 + 1][j + 1] = 1;\n",
    "            DFS(i + 1, j, record, k + 1)\n",
    "        }\n",
    "        if (record[i + 1][j - 1 + 1] == 0 && matrix[i][j - 1] == word[k]) {\n",
    "            record[i + 1][j - 1 + 1] = 1;\n",
    "            DFS(i, j - 1, record, k + 1)\n",
    "        }\n",
    "        if (record[i + 1][j + 1 + 1] == 0 && matrix[i][j + 1] == word[k]) {\n",
    "            record[i + 1][j + 1 + 1] = 1;\n",
    "            DFS(i, j + 1, record, k + 1)\n",
    "        }\n",
    "    }\n",
    "    for (let i = 0; i < m; i++) {\n",
    "        for (let j = 0; j < n; j++) {\n",
    "            if (matrix[i][j] == word[0]) {\n",
    "                const record = getRecord(m, n);\n",
    "                record[i + 1][j + 1] = 1;\n",
    "                DFS(i, j, record, 1);\n",
    "            }\n",
    "        }\n",
    "    }\n",
    "    return res\n",
    "}"
   ]
  },
  {
   "cell_type": "code",
   "execution_count": 21,
   "metadata": {},
   "outputs": [],
   "source": [
    "// 思路不变，优化代码\n",
    "function hasPath(matrix, word) {\n",
    "    let m = matrix.length,\n",
    "        n = matrix[0].length,\n",
    "        l = word.length;\n",
    "    function DFS(i, j, record, k) {\n",
    "        if (k == l) return true;\n",
    "        if (!(record[i + 1][j + 1] == 0 && matrix[i][j] == word[k])) return false;\n",
    "        record[i + 1][j + 1] = 1;\n",
    "        let res = DFS(i - 1, j, record, k + 1) ||\n",
    "            DFS(i + 1, j, record, k + 1) ||\n",
    "            DFS(i, j - 1, record, k + 1) ||\n",
    "            DFS(i, j + 1, record, k + 1);\n",
    "        record[i + 1][j + 1] = 0;\n",
    "        return res\n",
    "    }\n",
    "    for (let i = 0; i < m; i++) {\n",
    "        for (let j = 0; j < n; j++) {\n",
    "            if (matrix[i][j] == word[0]) {\n",
    "                const record = getRecord(m, n);\n",
    "                if (DFS(i, j, record, 0)) return true;\n",
    "            }\n",
    "        }\n",
    "    }\n",
    "    return false\n",
    "}"
   ]
  },
  {
   "cell_type": "code",
   "execution_count": 22,
   "metadata": {},
   "outputs": [
    {
     "name": "stdout",
     "output_type": "stream",
     "text": [
      "true\n",
      "false\n",
      "true\n"
     ]
    }
   ],
   "source": [
    "console.log(hasPath([['a', 'b', 'c', 'e'], ['s', 'f', 'c', 's'], ['a', 'd', 'e', 'e']], \"abcced\"));\n",
    "console.log(hasPath([['a', 'b', 'c', 'e'], ['s', 'f', 'c', 's'], ['a', 'd', 'e', 'e']], \"abcb\"));\n",
    "console.log(hasPath([['a', 'b', 'c', 'e'], ['s', 'f', 'c', 's'], ['a', 'd', 'e', 'e']], \"see\"));"
   ]
  },
  {
   "cell_type": "markdown",
   "metadata": {},
   "source": [
    "### JZ13 机器人的运动范围"
   ]
  },
  {
   "cell_type": "code",
   "execution_count": 51,
   "metadata": {},
   "outputs": [
    {
     "name": "stdout",
     "output_type": "stream",
     "text": [
      "true\n",
      "false\n"
     ]
    }
   ],
   "source": [
    "function isPass(threshold, row, col) {\n",
    "  let rSum = row.toString().split('').reduce((prev, cur) => {\n",
    "    return parseInt(prev) + parseInt(cur);\n",
    "  })\n",
    "  let cSum = col.toString().split('').reduce((prev, cur) => {\n",
    "    return parseInt(prev) + parseInt(cur);\n",
    "  })\n",
    "  return threshold >= parseInt(cSum) + parseInt(rSum);\n",
    "}\n",
    "console.log(isPass(10, 1, 1));\n",
    "console.log(isPass(18, 35, 38));"
   ]
  },
  {
   "cell_type": "code",
   "execution_count": 52,
   "metadata": {},
   "outputs": [],
   "source": [
    "function getRecord(m, n) {\n",
    "  const record = new Array(m).fill(0);\n",
    "  record.forEach((val, i, arr) => {\n",
    "    arr[i] = new Array(n).fill(0);\n",
    "    arr[i].push(1);  // 制造围墙\n",
    "    arr[i].unshift(1);\n",
    "  })\n",
    "  record.push(new Array(n+2).fill(1));\n",
    "  record.unshift(new Array(n+2).fill(1));\n",
    "  return record;\n",
    "}"
   ]
  },
  {
   "cell_type": "code",
   "execution_count": 53,
   "metadata": {},
   "outputs": [],
   "source": [
    "function movingCount(threshold, rows, cols) {\n",
    "  let count = 0,\n",
    "    record = getRecord(rows, cols);\n",
    "  function DFS(r, c) {\n",
    "    if(record[r][c] == 0 && isPass(threshold, r-1, c-1)){\n",
    "      record[r][c] = 1;\n",
    "      count++;\n",
    "      DFS(r-1,c);\n",
    "      DFS(r+1,c);\n",
    "      DFS(r,c-1);\n",
    "      DFS(r,c+1);\n",
    "    }\n",
    "  }\n",
    "  DFS(1,1)\n",
    "  return count;\n",
    "}"
   ]
  },
  {
   "cell_type": "code",
   "execution_count": 54,
   "metadata": {},
   "outputs": [
    {
     "name": "stdout",
     "output_type": "stream",
     "text": [
      "3\n",
      "1\n",
      "29\n",
      "21\n"
     ]
    }
   ],
   "source": [
    "console.log(movingCount(1, 2, 3));  // 3\n",
    "console.log(movingCount(0, 1, 3));  // 1\n",
    "console.log(movingCount(10, 1, 100));  // 29\n",
    "console.log(movingCount(5, 10, 10));  // 21"
   ]
  },
  {
   "cell_type": "markdown",
   "metadata": {},
   "source": [
    "## 排序"
   ]
  },
  {
   "cell_type": "markdown",
   "metadata": {},
   "source": [
    "### JZ3 数组中重复的数字"
   ]
  },
  {
   "cell_type": "code",
   "execution_count": 1,
   "metadata": {},
   "outputs": [],
   "source": [
    "function swap(arr, p, q) {\n",
    "  let tmp = arr[p];\n",
    "  arr[p] = arr[q];\n",
    "  arr[q] = tmp;\n",
    "}"
   ]
  },
  {
   "cell_type": "code",
   "execution_count": 2,
   "metadata": {},
   "outputs": [],
   "source": [
    "// 基数排序\n",
    "function duplicate(numbers) {\n",
    "  // write code here\n",
    "  let i = 0, n = numbers.length;\n",
    "  while (i < n) {\n",
    "      if (numbers[i] == i) i++;\n",
    "      else {\n",
    "          if (numbers[i] == numbers[numbers[i]]) return numbers[i];\n",
    "          else swap(numbers, i, numbers[i])\n",
    "      }\n",
    "  }\n",
    "  return -1;\n",
    "}"
   ]
  },
  {
   "cell_type": "code",
   "execution_count": 3,
   "metadata": {},
   "outputs": [
    {
     "data": {
      "text/plain": [
       "2"
      ]
     },
     "execution_count": 3,
     "metadata": {},
     "output_type": "execute_result"
    }
   ],
   "source": [
    "duplicate([2,3,1,0,2,5,3])"
   ]
  },
  {
   "cell_type": "markdown",
   "metadata": {},
   "source": [
    "### JZ51 数组中的逆序对"
   ]
  },
  {
   "cell_type": "code",
   "execution_count": 10,
   "metadata": {},
   "outputs": [],
   "source": [
    "function InversePairs(data) {\n",
    "  let count = 0;\n",
    "  function merge(left, right) {\n",
    "    // 将两个有序数组合并为一个有序数组\n",
    "    const res = [];\n",
    "    while (left.length && right.length) {\n",
    "      if (left[0] < right[0]) {\n",
    "        res.push(left.shift());\n",
    "      } else {\n",
    "        count += left.length;  // 相对于之前的合并排序，仅仅增加了这步，画图就很好理解\n",
    "        res.push(right.shift());\n",
    "      }\n",
    "    }\n",
    "    if (left.length) res.push(...left);\n",
    "    if (right.length) res.push(...right);\n",
    "    return res;\n",
    "  }\n",
    "  function mergeSort(arr) {\n",
    "    // 利用递归实现分治的思想\n",
    "    if (arr.length <= 1) return arr;\n",
    "    let mid = Math.floor(arr.length / 2);\n",
    "    let left = mergeSort(arr.slice(0, mid));\n",
    "    let right = mergeSort(arr.slice(mid, arr.length));\n",
    "    return merge(left, right);\n",
    "  }\n",
    "  mergeSort(data);\n",
    "  return count % 1000000007\n",
    "}"
   ]
  },
  {
   "cell_type": "code",
   "execution_count": 11,
   "metadata": {},
   "outputs": [
    {
     "name": "stdout",
     "output_type": "stream",
     "text": [
      "7\n"
     ]
    }
   ],
   "source": [
    "console.log(InversePairs([1,2,3,4,5,6,7,0]));"
   ]
  },
  {
   "cell_type": "markdown",
   "metadata": {},
   "source": [
    "### JZ40 最小的K个数"
   ]
  },
  {
   "cell_type": "code",
   "execution_count": 15,
   "metadata": {},
   "outputs": [],
   "source": [
    "function GetLeastNumbers_Solution_(input, k) {\n",
    "  function heapSort(arr) {  // 维护小根堆的堆排序\n",
    "    let len = arr.length;\n",
    "    function siftDown(start, end) {\n",
    "      let root = start;\n",
    "      while (true) {\n",
    "        let child = 2 * root + 1;\n",
    "        if (child > end) break;\n",
    "        if (\n",
    "          child + 1 <= end &&\n",
    "          arr[child] > arr[child + 1]\n",
    "        )\n",
    "          child++;\n",
    "        if (arr[root] > arr[child]) {\n",
    "          [arr[root], arr[child]] = [arr[child], arr[root]];\n",
    "          root = child;\n",
    "        } else break;\n",
    "      }\n",
    "    }\n",
    "    for (let start = Math.floor((len - 2) / 2); start >= 0; start--) {\n",
    "      siftDown(start, len - 1);\n",
    "    }\n",
    "    for (let end = len - 1; end >= len - k; end--) {   // 修改为排后k个就够了\n",
    "      [arr[0], arr[end]] = [arr[end], arr[0]];\n",
    "      siftDown(0, end - 1);\n",
    "    }\n",
    "    return arr.slice(len-k, len);\n",
    "  }\n",
    "  return heapSort(input);\n",
    "}"
   ]
  },
  {
   "cell_type": "code",
   "execution_count": 16,
   "metadata": {},
   "outputs": [
    {
     "name": "stdout",
     "output_type": "stream",
     "text": [
      "[ 4, 3, 2, 1 ]\n",
      "[]\n",
      "[ 1, 1, 0 ]\n"
     ]
    }
   ],
   "source": [
    "console.log(GetLeastNumbers_Solution_([4, 5, 1, 6, 2, 7, 3, 8], 4));\n",
    "console.log(GetLeastNumbers_Solution_([1], 0));\n",
    "console.log(GetLeastNumbers_Solution_([0, 1, 2, 1, 2], 3));"
   ]
  },
  {
   "cell_type": "code",
   "execution_count": 23,
   "metadata": {},
   "outputs": [],
   "source": [
    "function GetLeastNumbers_Solution(A, k){\n",
    "  let l = 0, r = A.length-1; \n",
    "  if(r == 0)return A.slice(0,k);\n",
    "  if(k == 0)return [];\n",
    "  // 快速选择\n",
    "  function LomutoPartition(A, l, r) {\n",
    "    let p = A[l];\n",
    "    let s = l;\n",
    "    // 通过i指针遍历，每次找到比p小的数，就扩大s的范围，然后交换，所以就形成了我们想要的结果：[0,s]是小于p的，(s,len)是大于等于p的\n",
    "    for (let i = l + 1; i <= r; i++) {\n",
    "      if (A[i] < p) {\n",
    "        s++;\n",
    "        [A[s], A[i]] = [A[i], A[s]];\n",
    "      }\n",
    "    }\n",
    "    [A[s], A[l]] = [A[l], A[s]];\n",
    "    return s;\n",
    "  }\n",
    "  // A：数组， l,r：左右指针，k：选择的第k小\n",
    "  function quickSelect(A, l, r, k) {\n",
    "    let s = LomutoPartition(A, l, r);\n",
    "    if (s === l + k - 1) {\n",
    "      return A.slice(0,s+1);\n",
    "    } else if (s > l + k - 1) {\n",
    "      A[s] = quickSelect(A, l, s - 1, k);\n",
    "      return A[s];\n",
    "    } else {\n",
    "      A[s] = quickSelect(A, s + 1, r, l + k - 1 - s);\n",
    "      return A[s];\n",
    "    }\n",
    "  }\n",
    "  return quickSelect(A,l,r,k);\n",
    "}"
   ]
  },
  {
   "cell_type": "code",
   "execution_count": 24,
   "metadata": {},
   "outputs": [
    {
     "name": "stdout",
     "output_type": "stream",
     "text": [
      "[ 3, 1, 2, 4 ]\n",
      "[]\n",
      "[ 0, 1, 1 ]\n"
     ]
    }
   ],
   "source": [
    "console.log(GetLeastNumbers_Solution([4, 5, 1, 6, 2, 7, 3, 8], 4));\n",
    "console.log(GetLeastNumbers_Solution([1], 0));\n",
    "console.log(GetLeastNumbers_Solution([0, 1, 2, 1, 2], 3));"
   ]
  },
  {
   "cell_type": "markdown",
   "metadata": {},
   "source": [
    "### JZ41 数据流中的中位数"
   ]
  },
  {
   "cell_type": "code",
   "execution_count": 1,
   "metadata": {},
   "outputs": [],
   "source": [
    "// 试试插入排序\n",
    "const midArr = [];\n",
    "function Insert(num) {\n",
    "  let i = 0;\n",
    "  while(i < midArr.length){\n",
    "    if(num < midArr[i])break;\n",
    "    i++;\n",
    "  }\n",
    "  midArr.splice(i,0,num)\n",
    "}\n",
    "function GetMedian() {\n",
    "  let len = midArr.length;\n",
    "  let mid = Math.floor(len/2);\n",
    "  if(len%2 == 1) return (midArr[mid]).toFixed(2);\n",
    "  else return ((midArr[mid]+midArr[mid-1])/2).toFixed(2);\n",
    "}"
   ]
  },
  {
   "cell_type": "code",
   "execution_count": 2,
   "metadata": {},
   "outputs": [
    {
     "name": "stdout",
     "output_type": "stream",
     "text": [
      "5.00\n",
      "3.50\n",
      "3.00\n",
      "3.50\n",
      "3.00\n",
      "3.50\n",
      "4.00\n",
      "3.50\n",
      "4.00\n"
     ]
    }
   ],
   "source": [
    "{\n",
    "  let testData = [5, 2, 3, 4, 1, 6, 7, 0, 8]\n",
    "  for (let val of testData) {\n",
    "    Insert(val);\n",
    "    console.log(GetMedian());\n",
    "  }\n",
    "}"
   ]
  },
  {
   "cell_type": "markdown",
   "metadata": {},
   "source": [
    "## 位运算"
   ]
  },
  {
   "cell_type": "markdown",
   "metadata": {},
   "source": [
    "### JZ65 不用加减乘除做加法"
   ]
  },
  {
   "cell_type": "code",
   "execution_count": 20,
   "metadata": {},
   "outputs": [],
   "source": [
    "// 官方解法\n",
    "function Add(num1, num2){\n",
    "  while(num2 != 0){\n",
    "    // 无进位和运算就是按位异或结果，进位就是与运算结果但是需要左移一位，\n",
    "    let c = (num1 & num2) << 1; \n",
    "    num1 ^= num2;\n",
    "    num2 = c;\n",
    "  }\n",
    "  return num1\n",
    "}"
   ]
  },
  {
   "cell_type": "code",
   "execution_count": 21,
   "metadata": {},
   "outputs": [
    {
     "data": {
      "text/plain": [
       "-9"
      ]
     },
     "execution_count": 21,
     "metadata": {},
     "output_type": "execute_result"
    }
   ],
   "source": [
    "Add(-11,2)"
   ]
  },
  {
   "cell_type": "markdown",
   "metadata": {},
   "source": [
    "### JZ15 二进制中1的个数"
   ]
  },
  {
   "cell_type": "markdown",
   "metadata": {},
   "source": [
    "举个例子：一个二进制数1100，从右边数起第三位是处于最右边的一个1。\n",
    "减去1后，第三位变成0，它后面的两位0变成了1，而前面的1保持不变，\n",
    "因此得到的结果是1011.我们发现减1的结果是把最右边的一个1开始的所有位都取反了。\n",
    "这个时候如果我们再把原来的整数和减去1之后的结果做与运算，\n",
    "从原来整数最右边一个1那一位开始所有位都会变成0。如1100&1011=1000.\n",
    "也就是说，把一个整数减去1，再和原整数做与运算，会把该整数最右边一个1变成0.\n",
    "那么一个整数的二进制有多少个1，就可以进行多少次这样的操作。"
   ]
  },
  {
   "cell_type": "code",
   "execution_count": 23,
   "metadata": {},
   "outputs": [],
   "source": [
    "function NumberOf1(n) {\n",
    "  let count = 0;\n",
    "  while(n){\n",
    "    count++\n",
    "    n = (n-1)&n;\n",
    "  }\n",
    "  return count;\n",
    "}"
   ]
  },
  {
   "cell_type": "code",
   "execution_count": 24,
   "metadata": {},
   "outputs": [
    {
     "name": "stdout",
     "output_type": "stream",
     "text": [
      "2\n"
     ]
    }
   ],
   "source": [
    "console.log(NumberOf1(10));"
   ]
  },
  {
   "cell_type": "markdown",
   "metadata": {},
   "source": [
    "### JZ16 数值的整数次方"
   ]
  },
  {
   "cell_type": "code",
   "execution_count": 28,
   "metadata": {},
   "outputs": [],
   "source": [
    "function Power(base, exponent) {\n",
    "  if (exponent < 0) {  // 常识处理负数\n",
    "    base = 1 / base;\n",
    "    exponent = -exponent;\n",
    "  }\n",
    "  let x = base;\n",
    "  let ret = 1.0;\n",
    "  while (exponent) {  // 2^10110 = 2^10*2^100*2^10000\n",
    "    if (exponent & 1) {  //\n",
    "      ret *= x;  // 二进制位数是1的，乘进答案\n",
    "    }\n",
    "    x *= x;  // 10-->100,移位数\n",
    "    console.log(x);\n",
    "    exponent >>= 1;\n",
    "  }\n",
    "  return ret\n",
    "}"
   ]
  },
  {
   "cell_type": "code",
   "execution_count": 29,
   "metadata": {},
   "outputs": [
    {
     "name": "stdout",
     "output_type": "stream",
     "text": [
      "4\n",
      "16\n",
      "8\n"
     ]
    }
   ],
   "source": [
    "console.log(Power(2.00000,3));"
   ]
  },
  {
   "cell_type": "markdown",
   "metadata": {},
   "source": [
    "### JZ56 数组中只出现一次的两个数字"
   ]
  },
  {
   "cell_type": "code",
   "execution_count": 3,
   "metadata": {},
   "outputs": [],
   "source": [
    "function FindNumsAppearOnce(array) {\n",
    "  let tmp = 0;\n",
    "  array.forEach((val) => {  // 迭代异或可以去除那些两个相同值得影响，得到得是不相同得两个数的异或\n",
    "    tmp ^= val;\n",
    "  })\n",
    "  // 找到可以用来分组进行与运算的数\n",
    "  let mask = 1;\n",
    "  while ((tmp & mask) == 0) {\n",
    "    mask <<= 1;\n",
    "  }\n",
    "  let a = 0, b = 0;\n",
    "  array.forEach((val) => {\n",
    "    if ((val & mask) == 0) a ^= val;\n",
    "    else b ^= val;\n",
    "  })\n",
    "  return a < b ? [a, b] : [b, a];\n",
    "}"
   ]
  },
  {
   "cell_type": "code",
   "execution_count": 4,
   "metadata": {},
   "outputs": [
    {
     "name": "stdout",
     "output_type": "stream",
     "text": [
      "[ 4, 6 ]\n",
      "[ 1, 9 ]\n"
     ]
    }
   ],
   "source": [
    "console.log(FindNumsAppearOnce([1,4,1,6]));\n",
    "console.log(FindNumsAppearOnce([1,2,3,3,2,9]));"
   ]
  },
  {
   "cell_type": "markdown",
   "metadata": {},
   "source": [
    "### JZ64 求1+2+3+...+n"
   ]
  },
  {
   "cell_type": "code",
   "execution_count": 6,
   "metadata": {},
   "outputs": [],
   "source": [
    "function Sum_Solution(n) {\n",
    "  n > 1 && (n += Sum_Solution(n-1));\n",
    "  return n;\n",
    "}"
   ]
  },
  {
   "cell_type": "code",
   "execution_count": 7,
   "metadata": {},
   "outputs": [
    {
     "data": {
      "text/plain": [
       "15"
      ]
     },
     "execution_count": 7,
     "metadata": {},
     "output_type": "execute_result"
    }
   ],
   "source": [
    "Sum_Solution(5)"
   ]
  },
  {
   "cell_type": "markdown",
   "metadata": {},
   "source": [
    "## 模拟"
   ]
  },
  {
   "cell_type": "markdown",
   "metadata": {},
   "source": [
    "### JZ29 顺时针打印矩阵"
   ]
  },
  {
   "cell_type": "code",
   "execution_count": 6,
   "metadata": {},
   "outputs": [],
   "source": [
    "function printMatrix(matrix) {\n",
    "  const res = [];\n",
    "  while (matrix.length && matrix[0].length) {\n",
    "      res.push(...(matrix.shift()));  // 右\n",
    "      matrix.forEach((val, i, arr) => {  // 下\n",
    "          res.push(arr[i].pop())\n",
    "      });\n",
    "      // 注意需要判断是否有元素\n",
    "      matrix.length && res.push(...(matrix.pop().reverse()));  // 右\n",
    "      for (let i = matrix.length - 1; i >= 0; i--) {  // 上\n",
    "          matrix[i].length && res.push((matrix[i]).shift())\n",
    "      }\n",
    "  }\n",
    "  return res;\n",
    "}"
   ]
  },
  {
   "cell_type": "code",
   "execution_count": 7,
   "metadata": {},
   "outputs": [
    {
     "name": "stdout",
     "output_type": "stream",
     "text": [
      "[\n",
      "   1,  2,  3,  4, 8, 12,\n",
      "  16, 15, 14, 13, 9,  5,\n",
      "   6,  7, 11, 10\n",
      "]\n"
     ]
    }
   ],
   "source": [
    "console.log(printMatrix([[1, 2, 3, 4],\n",
    "                        [5, 6, 7, 8],\n",
    "                        [9, 10, 11, 12],\n",
    "                        [13, 14, 15, 16]]));"
   ]
  },
  {
   "cell_type": "markdown",
   "metadata": {},
   "source": [
    "### JZ61 扑克牌顺子"
   ]
  },
  {
   "cell_type": "code",
   "execution_count": 12,
   "metadata": {},
   "outputs": [],
   "source": [
    "function IsContinuous(numbers) {\n",
    "  let count = 0;\n",
    "  const record = new Array(14).fill(0);\n",
    "  numbers.forEach((val, i, arr) => {\n",
    "    if (val == 0) count++;\n",
    "    else record[val] = 1;\n",
    "  })\n",
    "  for (let i = 0; i < record.length; i++) {\n",
    "    if (record[i] == 1) {\n",
    "      for (let j = i; j < record.length && j < i + 5; j++) {\n",
    "        count += record[j];\n",
    "      }\n",
    "      break;\n",
    "    }\n",
    "  }\n",
    "  return count == 5;\n",
    "}"
   ]
  },
  {
   "cell_type": "code",
   "execution_count": 13,
   "metadata": {},
   "outputs": [
    {
     "name": "stdout",
     "output_type": "stream",
     "text": [
      "true\n",
      "true\n",
      "false\n",
      "false\n"
     ]
    }
   ],
   "source": [
    "console.log(IsContinuous([6, 0, 2, 0, 4]));\n",
    "console.log(IsContinuous([0, 3, 2, 6, 4]));\n",
    "console.log(IsContinuous([1, 0, 0, 1, 0]));\n",
    "console.log(IsContinuous([13, 12, 11, 0, 1]));"
   ]
  },
  {
   "cell_type": "markdown",
   "metadata": {},
   "source": [
    "### JZ67 把字符串转换成整数(atoi)"
   ]
  },
  {
   "cell_type": "code",
   "execution_count": 19,
   "metadata": {},
   "outputs": [],
   "source": [
    "function StrToInt(s) {\n",
    "  if(!s.length)return 0;\n",
    "  // 就类似状态转换图,放弃\n",
    "  return parseInt(s)\n",
    "}"
   ]
  },
  {
   "cell_type": "code",
   "execution_count": 20,
   "metadata": {},
   "outputs": [
    {
     "name": "stdout",
     "output_type": "stream",
     "text": [
      "0\n"
     ]
    }
   ],
   "source": [
    "console.log(StrToInt(''));"
   ]
  },
  {
   "cell_type": "markdown",
   "metadata": {},
   "source": [
    "### JZ20 表示数值的字符串"
   ]
  },
  {
   "cell_type": "code",
   "execution_count": null,
   "metadata": {},
   "outputs": [],
   "source": [
    "// 也是画状态转换图"
   ]
  },
  {
   "cell_type": "markdown",
   "metadata": {},
   "source": [
    "## 其他"
   ]
  },
  {
   "cell_type": "markdown",
   "metadata": {},
   "source": [
    "### JZ66 [构建乘积数组](https://www.nowcoder.com/practice/94a4d381a68b47b7a8bed86f2975db46?tpId=13&tqId=23445&ru=%2Fpractice%2F94a4d381a68b47b7a8bed86f2975db46&qru=%2Fta%2Fcoding-interviews%2Fquestion-ranking&sourceUrl=)"
   ]
  },
  {
   "cell_type": "code",
   "execution_count": 25,
   "metadata": {},
   "outputs": [],
   "source": [
    "function multiply(array) {\n",
    "  // 不能使用除法\n",
    "  let leftP = [1], rightP = [1]; // 左的累乘，右的累乘\n",
    "  for (let i = 1; i < array.length; i++) {  // 左\n",
    "    let tmp = leftP[leftP.length - 1] * array[i - 1];\n",
    "    leftP.push(tmp);\n",
    "  }\n",
    "  for (let i = array.length - 2; i >= 0; i--) { // 右\n",
    "    let tmp = rightP[0] * array[i+1];\n",
    "    rightP.unshift(tmp);\n",
    "  }\n",
    "  return leftP.map((val, i, arr)=>val*rightP[i]);  // 合并\n",
    "}"
   ]
  },
  {
   "cell_type": "markdown",
   "metadata": {},
   "source": [
    "### JZ50 第一个只出现一次的字符"
   ]
  },
  {
   "cell_type": "code",
   "execution_count": 31,
   "metadata": {},
   "outputs": [],
   "source": [
    "function FirstNotRepeatingChar(str) {\n",
    "  let myMap = new Map();\n",
    "  for (let i = 0; i < str.length; i++) {\n",
    "    if(myMap.has(str[i])){\n",
    "      myMap.set(str[i], [(myMap.get(str[i]))[0] + 1, i]);\n",
    "    }else{\n",
    "      myMap.set(str[i], [1, i]);\n",
    "    }\n",
    "  }\n",
    "  for(let val of myMap){\n",
    "    if(val[1][0] == 1)return val[1][1];\n",
    "  }\n",
    "  return -1;\n",
    "}"
   ]
  },
  {
   "cell_type": "code",
   "execution_count": 32,
   "metadata": {},
   "outputs": [
    {
     "name": "stdout",
     "output_type": "stream",
     "text": [
      "4\n"
     ]
    }
   ],
   "source": [
    "console.log(FirstNotRepeatingChar('google'));"
   ]
  },
  {
   "cell_type": "markdown",
   "metadata": {},
   "source": [
    "### JZ5 替换空格"
   ]
  },
  {
   "cell_type": "code",
   "execution_count": 38,
   "metadata": {},
   "outputs": [],
   "source": [
    "function replaceSpace( s ) {\n",
    "  return s.replace(/ /g, '%20')\n",
    "}"
   ]
  },
  {
   "cell_type": "code",
   "execution_count": 39,
   "metadata": {},
   "outputs": [
    {
     "name": "stdout",
     "output_type": "stream",
     "text": [
      "We%20Are%20Happy\n"
     ]
    }
   ],
   "source": [
    "console.log(replaceSpace(\"We Are Happy\"));"
   ]
  },
  {
   "cell_type": "markdown",
   "metadata": {},
   "source": [
    "### JZ21 调整数组顺序使奇数位于偶数前面(一)"
   ]
  },
  {
   "cell_type": "code",
   "execution_count": 42,
   "metadata": {},
   "outputs": [],
   "source": [
    "function reOrderArray( array ) {\n",
    "  let odd = [], even = [];\n",
    "  array.forEach((val, i, arr)=>{\n",
    "    if(val%2==0)even.push(val);\n",
    "    else odd.push(val);\n",
    "  })\n",
    "  return odd.concat(even);\n",
    "}"
   ]
  },
  {
   "cell_type": "code",
   "execution_count": 43,
   "metadata": {},
   "outputs": [
    {
     "name": "stdout",
     "output_type": "stream",
     "text": [
      "[ 1, 3, 2, 4 ]\n",
      "[ 5, 7, 2, 4, 6 ]\n",
      "[ 1, 3, 5, 7, 6 ]\n"
     ]
    }
   ],
   "source": [
    "console.log(reOrderArray([1,2,3,4]));\n",
    "console.log(reOrderArray([2,4,6,5,7]));\n",
    "console.log(reOrderArray([1,3,5,6,7]));"
   ]
  },
  {
   "cell_type": "markdown",
   "metadata": {},
   "source": [
    "### JZ39 数组中出现次数超过一半的数字"
   ]
  },
  {
   "cell_type": "code",
   "execution_count": 46,
   "metadata": {},
   "outputs": [],
   "source": [
    "function MoreThanHalfNum_Solution(numbers) {\n",
    "  if(numbers.length == 1)return numbers[0];\n",
    "  let myMap = new Map();\n",
    "  let mid = numbers.length/2;\n",
    "  for(let val of numbers){\n",
    "    if(myMap.has(val)){\n",
    "      let c = myMap.get(val);\n",
    "      if(c+1 > mid)return val;\n",
    "      myMap.set(val, c+1);\n",
    "    }else{\n",
    "      myMap.set(val, 1);\n",
    "    }\n",
    "  }\n",
    "  return;\n",
    "}"
   ]
  },
  {
   "cell_type": "code",
   "execution_count": 47,
   "metadata": {},
   "outputs": [
    {
     "name": "stdout",
     "output_type": "stream",
     "text": [
      "2\n",
      "3\n",
      "1\n"
     ]
    }
   ],
   "source": [
    "console.log(MoreThanHalfNum_Solution([1,2,3,2,2,2,5,4,2]));\n",
    "console.log(MoreThanHalfNum_Solution([3,3,3,3,2,2,2]));\n",
    "console.log(MoreThanHalfNum_Solution([1]));"
   ]
  },
  {
   "cell_type": "markdown",
   "metadata": {},
   "source": [
    "### JZ43 整数中1出现的次数（从1到n整数中1出现的次数）"
   ]
  },
  {
   "cell_type": "code",
   "execution_count": 63,
   "metadata": {},
   "outputs": [],
   "source": [
    "function NumberOf1Between1AndN_Solution(n) {\n",
    "  let count = 0;\n",
    "  for (let i = 1; i <= n; i *= 10) {\n",
    "      // 计算高位和低位\n",
    "      let a = Math.floor(n / i), b = n % i;\n",
    "      console.log(`a: ${a}, b: ${b}, pre: ${Math.floor((a + 8) / 10) * i}, last: ${Number(a % 10 == 1) * (b + 1)}`);\n",
    "      count += Math.floor((a + 8) / 10) * i + Number(a % 10 == 1) * (b + 1);\n",
    "  }\n",
    "  return count;\n",
    "}"
   ]
  },
  {
   "cell_type": "code",
   "execution_count": 65,
   "metadata": {},
   "outputs": [
    {
     "name": "stdout",
     "output_type": "stream",
     "text": [
      "a: 13, b: 0, pre: 2, last: 0\n",
      "a: 1, b: 3, pre: 0, last: 4\n",
      "6\n"
     ]
    }
   ],
   "source": [
    "console.log(NumberOf1Between1AndN_Solution(13));\n",
    "// console.log(NumberOf1Between1AndN_Solution(0));"
   ]
  },
  {
   "cell_type": "markdown",
   "metadata": {},
   "source": [
    "### JZ45 把数组排成最小的数"
   ]
  },
  {
   "cell_type": "code",
   "execution_count": 76,
   "metadata": {},
   "outputs": [],
   "source": [
    "// 最开始想复杂了，也许这就是贪心的魅力吧\n",
    "function PrintMinNumber(numbers) {\n",
    "  numbers.sort((a, b) => {\n",
    "    return parseInt(a.toString()+b.toString()) - parseInt(b.toString()+a.toString())\n",
    "  });\n",
    "  return numbers.join('');\n",
    "}"
   ]
  },
  {
   "cell_type": "code",
   "execution_count": 77,
   "metadata": {},
   "outputs": [
    {
     "name": "stdout",
     "output_type": "stream",
     "text": [
      "113\n",
      "\n",
      "321323\n"
     ]
    }
   ],
   "source": [
    "console.log(PrintMinNumber([11,3]));\n",
    "console.log(PrintMinNumber([]));\n",
    "console.log(PrintMinNumber([3,32,321]));"
   ]
  },
  {
   "cell_type": "markdown",
   "metadata": {},
   "source": [
    "### JZ49 丑数"
   ]
  },
  {
   "cell_type": "code",
   "execution_count": 89,
   "metadata": {},
   "outputs": [],
   "source": [
    "function GetUglyNumber_Solution(index) {\n",
    "  if (index <= 6) return index;\n",
    "  let i2 = 0, i3 = 0, i5 = 0;\n",
    "  let res = new Array(index);\n",
    "  res[0] = 1;\n",
    "  for (let i = 1; i < index; i++) {\n",
    "    res[i] = Math.min(res[i2] * 2, res[i3] * 3, res[i5] * 5);\n",
    "    if (res[i] == res[i2] * 2) i2++;\n",
    "    if (res[i] == res[i3] * 3) i3++;\n",
    "    if (res[i] == res[i5] * 5) i5++;\n",
    "  }\n",
    "  return res[index - 1]\n",
    "}"
   ]
  },
  {
   "cell_type": "code",
   "execution_count": 90,
   "metadata": {},
   "outputs": [
    {
     "name": "stdout",
     "output_type": "stream",
     "text": [
      "[\n",
      "  1, 2, 3, 4,\n",
      "  5, 6, 8\n",
      "]\n",
      "8\n"
     ]
    }
   ],
   "source": [
    "console.log(GetUglyNumber_Solution(7));"
   ]
  },
  {
   "cell_type": "markdown",
   "metadata": {},
   "source": [
    "### JZ74 和为S的连续正数序列"
   ]
  },
  {
   "cell_type": "code",
   "execution_count": 1,
   "metadata": {},
   "outputs": [],
   "source": [
    "// 1--n/2+1的范围进行滑动窗口，整体值大于target,就左指针移动，小于就右指针移动，等于就加入到res数组中\n",
    "function FindContinuousSequence(sum) {\n",
    "  // 代码可能有点冗余\n",
    "  let res = [];\n",
    "  let mid = Math.min(Math.ceil(sum / 2) + 1, sum - 1);\n",
    "  let left = 0, right = 1, sum_ = 0;\n",
    "  while (left < right) { \n",
    "    if (sum_ == sum && left!=0) {\n",
    "      let tmp = new Array(right - left).fill(left).map((v, i) => v + i);\n",
    "      res.push(tmp);\n",
    "      sum_ -= (left++);\n",
    "    } else if (sum_ < sum) {\n",
    "      sum_ += (right++);\n",
    "    } else {\n",
    "      sum_ -= (left++);\n",
    "    }\n",
    "  }\n",
    "  res.pop();\n",
    "  return res\n",
    "}"
   ]
  },
  {
   "cell_type": "code",
   "execution_count": 3,
   "metadata": {},
   "outputs": [
    {
     "name": "stdout",
     "output_type": "stream",
     "text": [
      "[ [ 2, 3, 4 ], [ 4, 5 ] ]\n",
      "[ [ 1, 2 ] ]\n"
     ]
    }
   ],
   "source": [
    "console.log(FindContinuousSequence(9));\n",
    "console.log(FindContinuousSequence(3));"
   ]
  },
  {
   "cell_type": "markdown",
   "metadata": {},
   "source": [
    "### JZ57 和为S的两个数字"
   ]
  },
  {
   "cell_type": "code",
   "execution_count": 6,
   "metadata": {},
   "outputs": [],
   "source": [
    "function FindNumbersWithSum(array, sum) {\n",
    "  let left = 0, right = array.length - 1;\n",
    "  while (left < right) {\n",
    "    let sum_ = array[left] + array[right];\n",
    "    if(sum_ > sum) right--;\n",
    "    else if(sum_ < sum) left++;\n",
    "    else return [array[left], array[right]]; \n",
    "  }\n",
    "  return [];\n",
    "}"
   ]
  },
  {
   "cell_type": "code",
   "execution_count": 7,
   "metadata": {},
   "outputs": [
    {
     "name": "stdout",
     "output_type": "stream",
     "text": [
      "[ 4, 11 ]\n"
     ]
    }
   ],
   "source": [
    "console.log(FindNumbersWithSum([1,2,4,7,11,15],15));"
   ]
  },
  {
   "cell_type": "markdown",
   "metadata": {},
   "source": [
    "### JZ58 左旋转字符串"
   ]
  },
  {
   "cell_type": "code",
   "execution_count": 11,
   "metadata": {},
   "outputs": [],
   "source": [
    "function LeftRotateString(str, n) {\n",
    "  if(!str)return '';\n",
    "  let pos = n % str.length;\n",
    "  return str.slice(pos)+str.slice(0,pos)\n",
    "}"
   ]
  },
  {
   "cell_type": "code",
   "execution_count": 12,
   "metadata": {},
   "outputs": [
    {
     "name": "stdout",
     "output_type": "stream",
     "text": [
      "defabcXYZ\n"
     ]
    }
   ],
   "source": [
    "console.log(LeftRotateString('XYZdefabc', 3));"
   ]
  },
  {
   "cell_type": "markdown",
   "metadata": {},
   "source": [
    "### JZ62 孩子们的游戏(圆圈中最后剩下的数)"
   ]
  },
  {
   "cell_type": "code",
   "execution_count": 1,
   "metadata": {},
   "outputs": [],
   "source": [
    "function LastRemaining_Solution(n, m) {\n",
    "  let arr = new Array(n).fill(0).map((v, i) => i);\n",
    "  m--;\n",
    "  let c = 0;\n",
    "  for (let i = 0; arr.length > 1;\n",
    "    i = i < arr.length ? i + 1 : i % arr.length) {\n",
    "      if(!(i%m)){  // remove\n",
    "        arr.splice(i--,1);\n",
    "      }\n",
    "  }\n",
    "  return arr[0];\n",
    "}"
   ]
  },
  {
   "cell_type": "code",
   "execution_count": 2,
   "metadata": {},
   "outputs": [
    {
     "name": "stdout",
     "output_type": "stream",
     "text": [
      "4\n"
     ]
    }
   ],
   "source": [
    "console.log(LastRemaining_Solution(5,3));"
   ]
  },
  {
   "cell_type": "code",
   "execution_count": 19,
   "metadata": {},
   "outputs": [
    {
     "data": {
      "text/plain": [
       "0"
      ]
     },
     "execution_count": 19,
     "metadata": {},
     "output_type": "execute_result"
    }
   ],
   "source": [
    "0%3"
   ]
  },
  {
   "cell_type": "code",
   "execution_count": null,
   "metadata": {},
   "outputs": [],
   "source": []
  }
 ],
 "metadata": {
  "kernelspec": {
   "display_name": "JavaScript (Node.js)",
   "language": "javascript",
   "name": "javascript"
  },
  "language_info": {
   "file_extension": ".js",
   "mimetype": "application/javascript",
   "name": "javascript",
   "version": "16.13.0"
  },
  "orig_nbformat": 4
 },
 "nbformat": 4,
 "nbformat_minor": 2
}
