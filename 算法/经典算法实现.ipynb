{
 "cells": [
  {
   "cell_type": "markdown",
   "metadata": {},
   "source": [
    "## 排序算法\n"
   ]
  },
  {
   "cell_type": "code",
   "execution_count": 4,
   "metadata": {},
   "outputs": [],
   "source": [
    "function swap(arr, pos1, pos2) {\n",
    "\tlet temp = arr[pos1];\n",
    "\tarr[pos1] = arr[pos2];\n",
    "\tarr[pos2] = temp;\n",
    "}\n"
   ]
  },
  {
   "cell_type": "markdown",
   "metadata": {},
   "source": [
    "### 选择排序\n"
   ]
  },
  {
   "cell_type": "code",
   "execution_count": 4,
   "metadata": {},
   "outputs": [],
   "source": [
    "// 通过min指针找到剩下区间的最小值，然后往有序区放置，第一次的时候就是与第一位进行交换\n",
    "function selectSort(arr) {\n",
    "\tfor (let i = 0; i < arr.length - 1; i++) {\n",
    "\t\tlet min = i; // min代表最小的元素索引\n",
    "\t\tfor (let j = i + 1; j < arr.length; j++) {\n",
    "\t\t\tif (arr[j] < arr[min]) {\n",
    "\t\t\t\tmin = j;\n",
    "\t\t\t}\n",
    "\t\t}\n",
    "\t\tswap(arr, i, min);\n",
    "\t}\n",
    "}\n"
   ]
  },
  {
   "cell_type": "code",
   "execution_count": 5,
   "metadata": {},
   "outputs": [
    {
     "name": "stdout",
     "output_type": "stream",
     "text": [
      "[\n",
      "  1, 2, 3, 4,\n",
      "  5, 6, 7, 8\n",
      "]\n"
     ]
    }
   ],
   "source": [
    "{\n",
    "\tconst testArr = [3, 2, 6, 8, 4, 7, 1, 5];\n",
    "\tselectSort(testArr);\n",
    "\tconsole.log(testArr);\n",
    "}\n"
   ]
  },
  {
   "cell_type": "markdown",
   "metadata": {},
   "source": [
    "### 冒泡排序\n"
   ]
  },
  {
   "cell_type": "code",
   "execution_count": 5,
   "metadata": {},
   "outputs": [],
   "source": [
    "function bubbleSort(arr) {\n",
    "\tfor (let i = 0; i < arr.length - 1; i++) {\n",
    "\t\t// 这里的i代表着后面有序区的长度\n",
    "\t\tfor (let j = 0; j < arr.length - 1 - i; j++) {\n",
    "\t\t\tif (arr[j + 1] < arr[j]) {\n",
    "\t\t\t\tswap(arr, j, j + 1); // 两两交换就可以把最大的交换到最后面去，第二次就是第二大的\n",
    "\t\t\t}\n",
    "\t\t}\n",
    "\t}\n",
    "}\n"
   ]
  },
  {
   "cell_type": "code",
   "execution_count": 6,
   "metadata": {},
   "outputs": [
    {
     "name": "stdout",
     "output_type": "stream",
     "text": [
      "[\n",
      "  1, 2, 3, 4,\n",
      "  5, 6, 7, 8\n",
      "]\n"
     ]
    }
   ],
   "source": [
    "{\n",
    "\tconst testArr = [3, 2, 6, 8, 4, 7, 1, 5];\n",
    "\tbubbleSort(testArr);\n",
    "\tconsole.log(testArr);\n",
    "}\n"
   ]
  },
  {
   "cell_type": "markdown",
   "metadata": {},
   "source": [
    "### 合并排序\n"
   ]
  },
  {
   "cell_type": "code",
   "execution_count": 30,
   "metadata": {},
   "outputs": [],
   "source": [
    "function merge(left, right) {\n",
    "\t// 将两个有序数组合并为一个有序数组\n",
    "\tconst res = [];\n",
    "\twhile (left.length && right.length) {\n",
    "\t\tif (left[0] < right[0]) {\n",
    "\t\t\tres.push(left.shift());\n",
    "\t\t} else {\n",
    "\t\t\tres.push(right.shift());\n",
    "\t\t}\n",
    "\t}\n",
    "\tif (left.length) res.push(...left);\n",
    "\tif (right.length) res.push(...right);\n",
    "\treturn res;\n",
    "}\n",
    "function mergeSort(arr) {\n",
    "\t// 利用递归实现分治的思想\n",
    "\tif (arr.length <= 1) return arr;\n",
    "\tlet mid = Math.floor(arr.length / 2);\n",
    "\tlet left = mergeSort(arr.slice(0, mid));\n",
    "\tlet right = mergeSort(arr.slice(mid, arr.length));\n",
    "\treturn merge(left, right);\n",
    "}\n"
   ]
  },
  {
   "cell_type": "code",
   "execution_count": 32,
   "metadata": {},
   "outputs": [
    {
     "name": "stdout",
     "output_type": "stream",
     "text": [
      "[\n",
      "  1, 2, 3, 4,\n",
      "  5, 6, 7, 8\n",
      "]\n"
     ]
    }
   ],
   "source": [
    "{\n",
    "\tconst testArr = [3, 2, 6, 8, 4, 7, 1, 5];\n",
    "\tlet res = mergeSort(testArr); // 注意并不是在原数组上操作的\n",
    "\tconsole.log(res);\n",
    "}\n"
   ]
  },
  {
   "cell_type": "markdown",
   "metadata": {},
   "source": [
    "### 快速排序\n"
   ]
  },
  {
   "cell_type": "code",
   "execution_count": 28,
   "metadata": {},
   "outputs": [],
   "source": [
    "function quickSort(arr) {\n",
    "\tif (arr.length <= 1) return arr;\n",
    "\tlet pivot = arr.splice(0, 1);\n",
    "\tlet less = arr.filter((val) => val < pivot);\n",
    "\tlet greater = arr.filter((val) => val > pivot);\n",
    "\treturn quickSort(less).concat(pivot, quickSort(greater));\n",
    "}\n"
   ]
  },
  {
   "cell_type": "code",
   "execution_count": 29,
   "metadata": {},
   "outputs": [
    {
     "name": "stdout",
     "output_type": "stream",
     "text": [
      "[\n",
      "  1, 2, 3, 4,\n",
      "  5, 6, 7, 8\n",
      "]\n"
     ]
    }
   ],
   "source": [
    "{\n",
    "\tconst testArr = [3, 2, 6, 8, 4, 7, 1, 5];\n",
    "\tlet res = quickSort(testArr); // 注意并不是在原数组上操作的\n",
    "\tconsole.log(res);\n",
    "}\n"
   ]
  },
  {
   "cell_type": "markdown",
   "metadata": {},
   "source": [
    "### 堆排序\n"
   ]
  },
  {
   "cell_type": "code",
   "execution_count": 1,
   "metadata": {},
   "outputs": [],
   "source": [
    "function heapSort(arr) {\n",
    "\tlet len = arr.length;\n",
    "\tfunction siftDown(start, end) {\n",
    "\t\t// 因为后续需要划分为有序区和无序区，end就是这条分界线\n",
    "\t\tlet root = start;\n",
    "\t\twhile (true) {\n",
    "\t\t\t// 这个while循环是为了解决你把父节点交换给子节点后，\n",
    "\t\t\t// 有可能子节点小于了孙子节点，所以为了保证大根堆的性质，就需要继续判断子节点与孙子节点的大小关系\n",
    "\t\t\tlet child = 2 * root + 1; // 选择左孩子\n",
    "\t\t\tif (child > end) break; // 是否有左孩子，左孩子没，右孩子肯定没，所以直接跳出\n",
    "\t\t\tif (\n",
    "\t\t\t\tchild + 1 <= end && // 是否有右孩子且如果大于左孩子就选择这个\n",
    "\t\t\t\tarr[child] < arr[child + 1]\n",
    "\t\t\t)\n",
    "\t\t\t\tchild++;\n",
    "\t\t\tif (arr[root] < arr[child]) {\n",
    "\t\t\t\t// 跟节点与较大孩子的比较\n",
    "\t\t\t\t[arr[root], arr[child]] = [arr[child], arr[root]];\n",
    "\t\t\t\troot = child; // 因为交换了，所以可能子节点可能不会保持大根堆的性质，所以继续判断子节点\n",
    "\t\t\t} else break;\n",
    "\t\t}\n",
    "\t}\n",
    "\t// 创建大根堆， 其中有一步是为了找到第一个非终端节点\n",
    "\tfor (let start = Math.floor((len - 2) / 2); start >= 0; start--) {\n",
    "\t\tsiftDown(start, len - 1);\n",
    "\t}\n",
    "\t// 堆排序-->逐渐扩大有序区\n",
    "\tfor (let end = len - 1; end > 0; end--) {\n",
    "\t\t[arr[0], arr[end]] = [arr[end], arr[0]];\n",
    "\t\tsiftDown(0, end - 1);\n",
    "\t}\n",
    "\treturn arr;\n",
    "}\n"
   ]
  },
  {
   "cell_type": "code",
   "execution_count": 3,
   "metadata": {},
   "outputs": [
    {
     "name": "stdout",
     "output_type": "stream",
     "text": [
      "[\n",
      "  1, 2, 3, 4,\n",
      "  5, 6, 7, 8\n",
      "]\n"
     ]
    }
   ],
   "source": [
    "{\n",
    "\tconst testArr = [3, 2, 6, 8, 4, 7, 1, 5];\n",
    "\tlet res = heapSort(testArr); // 注意并不是在原数组上操作的\n",
    "\tconsole.log(res);\n",
    "}\n"
   ]
  },
  {
   "cell_type": "markdown",
   "metadata": {},
   "source": [
    "### 插入排序\n"
   ]
  },
  {
   "cell_type": "code",
   "execution_count": 1,
   "metadata": {},
   "outputs": [],
   "source": [
    "function insertSort(arr) {\n",
    "\tfor (let k = 1; k < arr.length; k++) {\n",
    "\t\tlet cur = arr[k]; // 记录，之后会被改变需要重新赋值\n",
    "\t\tlet j = k;\n",
    "\t\twhile (j > 0 && arr[j - 1] > cur) {\n",
    "\t\t\tarr[j] = arr[j - 1];\n",
    "\t\t\tj--;\n",
    "\t\t}\n",
    "\t\tarr[j] = cur;\n",
    "\t}\n",
    "\treturn arr;\n",
    "}\n"
   ]
  },
  {
   "cell_type": "code",
   "execution_count": 2,
   "metadata": {},
   "outputs": [
    {
     "name": "stdout",
     "output_type": "stream",
     "text": [
      "[\n",
      "  1, 2, 3, 4,\n",
      "  5, 6, 7, 8\n",
      "]\n"
     ]
    }
   ],
   "source": [
    "{\n",
    "\tconst testArr = [3, 2, 6, 8, 4, 7, 1, 5];\n",
    "\tlet res = insertSort(testArr); // 注意并不是在原数组上操作的\n",
    "\tconsole.log(res);\n",
    "}\n"
   ]
  },
  {
   "cell_type": "markdown",
   "metadata": {},
   "source": [
    "### 希尔排序\n"
   ]
  },
  {
   "cell_type": "code",
   "execution_count": 1,
   "metadata": {},
   "outputs": [],
   "source": [
    "function shellSort(arr) {\n",
    "\tlet len = arr.length;\n",
    "\tlet gap = Math.floor(len / 2);\n",
    "\twhile (gap > 0) {\n",
    "\t\tfor (let i = gap; i < len; i++) {\n",
    "\t\t\tlet temp = arr[i];\n",
    "\t\t\tlet j = i;\n",
    "\t\t\twhile (j >= gap && arr[i - gap] > temp) {\n",
    "\t\t\t\tarr[j] = arr[j - gap];\n",
    "\t\t\t\tj -= gap;\n",
    "\t\t\t}\n",
    "\t\t\tarr[j] = temp;\n",
    "\t\t}\n",
    "\t\tgap = Math.floor(gap / 2);\n",
    "\t}\n",
    "\treturn arr;\n",
    "}\n"
   ]
  },
  {
   "cell_type": "code",
   "execution_count": 2,
   "metadata": {},
   "outputs": [
    {
     "name": "stdout",
     "output_type": "stream",
     "text": [
      "[\n",
      "  1, 2, 4, 3,\n",
      "  6, 5, 7, 8\n",
      "]\n"
     ]
    }
   ],
   "source": [
    "{\n",
    "\tconst testArr = [3, 2, 6, 8, 4, 7, 1, 5];\n",
    "\tlet res = shellSort(testArr); // 注意并不是在原数组上操作的\n",
    "\tconsole.log(res);\n",
    "}\n"
   ]
  },
  {
   "cell_type": "markdown",
   "metadata": {},
   "source": [
    "### 快速选择-选择第 K 小\n"
   ]
  },
  {
   "cell_type": "code",
   "execution_count": 1,
   "metadata": {},
   "outputs": [],
   "source": [
    "function LomutoPartition(A, l, r) {\n",
    "\tlet p = A[l];\n",
    "\tlet s = l;\n",
    "\t// 通过i指针遍历，每次找到比p小的数，就扩大s的范围，然后交换，所以就形成了我们想要的结果：[0,s]是小于p的，(s,len)是大于等于p的\n",
    "\tfor (let i = l + 1; i <= r; i++) {\n",
    "\t\tif (A[i] < p) {\n",
    "\t\t\ts++;\n",
    "\t\t\t[A[s], A[i]] = [A[i], A[s]];\n",
    "\t\t}\n",
    "\t}\n",
    "\t[A[s], A[l]] = [A[l], A[s]];\n",
    "\treturn s;\n",
    "}\n",
    "// A：数组， l,r：左右指针，k：选择的第k小\n",
    "function quickSelect(A, l, r, k) {\n",
    "\tlet s = LomutoPartition(A, l, r);\n",
    "\tif (s === l + k - 1) {\n",
    "\t\treturn A[s];\n",
    "\t} else if (s > l + k - 1) {\n",
    "\t\tA[s] = quickSelect(A, l, s - 1, k);\n",
    "\t\treturn A[s];\n",
    "\t} else {\n",
    "\t\tA[s] = quickSelect(A, s + 1, r, l + k - 1 - s);\n",
    "\t\treturn A[s];\n",
    "\t}\n",
    "}\n"
   ]
  },
  {
   "cell_type": "code",
   "execution_count": 8,
   "metadata": {},
   "outputs": [
    {
     "name": "stdout",
     "output_type": "stream",
     "text": [
      "[\n",
      "  1, 2, 3, 4,\n",
      "  5, 7, 6, 8\n",
      "]\n",
      "4\n"
     ]
    }
   ],
   "source": [
    "{\n",
    "\tlet res = quickSelect([3, 2, 6, 8, 4, 7, 1, 5], 0, 9, 4);\n",
    "\tconsole.log(res);\n",
    "}\n"
   ]
  },
  {
   "cell_type": "markdown",
   "metadata": {},
   "source": [
    "## 动态规划\n"
   ]
  },
  {
   "cell_type": "markdown",
   "metadata": {},
   "source": [
    "### 币值最大化\n"
   ]
  },
  {
   "cell_type": "code",
   "execution_count": 30,
   "metadata": {},
   "outputs": [],
   "source": [
    "function coinRow(coins) {\n",
    "\tconst F = [0];\n",
    "\tF.push(coins[0]);\n",
    "\tfor (let i = 1; i < coins.length; i++) {\n",
    "\t\tF.push(Math.max(coins[i] + F[i - 1], F[i]));\n",
    "\t}\n",
    "\treturn F[coins.length];\n",
    "}\n"
   ]
  },
  {
   "cell_type": "code",
   "execution_count": 31,
   "metadata": {},
   "outputs": [
    {
     "data": {
      "text/plain": [
       "17"
      ]
     },
     "execution_count": 31,
     "metadata": {},
     "output_type": "execute_result"
    }
   ],
   "source": [
    "testCoin = [5, 1, 2, 10, 6, 2];\n",
    "coinRow(testCoin);\n"
   ]
  },
  {
   "cell_type": "markdown",
   "metadata": {},
   "source": [
    "### 找零\n"
   ]
  },
  {
   "cell_type": "code",
   "execution_count": 39,
   "metadata": {},
   "outputs": [],
   "source": [
    "function changeMaking(D, n) {\n",
    "\tconst F = [0];\n",
    "\tfor (let i = 1; i <= n; i++) {\n",
    "\t\tlet temp = Number.MAX_VALUE;\n",
    "\t\tlet j = 0;\n",
    "\t\twhile (j < D.length && i >= D[j]) {\n",
    "\t\t\ttemp = Math.min(F[i - D[j]], temp); // 求的是下一张选择不同零钱的集合的最小值\n",
    "\t\t\tj++;\n",
    "\t\t}\n",
    "\t\tF.push(temp + 1);\n",
    "\t}\n",
    "\treturn F[n];\n",
    "}\n"
   ]
  },
  {
   "cell_type": "code",
   "execution_count": 40,
   "metadata": {},
   "outputs": [
    {
     "data": {
      "text/plain": [
       "2"
      ]
     },
     "execution_count": 40,
     "metadata": {},
     "output_type": "execute_result"
    }
   ],
   "source": [
    "changeMaking([1, 3, 4], 6);\n"
   ]
  },
  {
   "cell_type": "markdown",
   "metadata": {},
   "source": [
    "### 背包\n"
   ]
  },
  {
   "cell_type": "markdown",
   "metadata": {},
   "source": [
    "#### 基本背包问题解法\n"
   ]
  },
  {
   "cell_type": "code",
   "execution_count": 79,
   "metadata": {},
   "outputs": [],
   "source": [
    "function bag(n, c, w, v) {\n",
    "\t// 置零，表示初始状态，注意这里不能使用两个fill函数进行填充，否则会出现第二维都是指向一个数组，改一个而动全部\n",
    "  const value = new Array(n+1); \n",
    "  for(let i = 0;i < value.length; i++){\n",
    "\t\tvalue[i] = new Array(c+1).fill(0);\n",
    "  }\n",
    "\tfor (let i = 1; i <= n; i++) {\n",
    "\t\tfor (let j = 1; j <= c; j++) {\n",
    "\t\t\tvalue[i][j] = value[i - 1][j];  // 不包括第i个物品的情况\n",
    "\t\t\t// 包括第i个物品的情况与上面的作比较，取大（就是那个公式）\n",
    "\t\t\tif (j >= w[i - 1] && value[i][j] < value[i - 1][j - w[i - 1]] + v[i - 1])\n",
    "\t\t\t\tvalue[i][j] = value[i - 1][j - w[i - 1]] + v[i - 1];\n",
    "\t\t}\n",
    "\t}\n",
    "\treturn value;\n",
    "}\n"
   ]
  },
  {
   "cell_type": "code",
   "execution_count": 85,
   "metadata": {},
   "outputs": [
    {
     "name": "stdout",
     "output_type": "stream",
     "text": [
      "[\n",
      "  [ 0, 0, 0, 0, 0, 0 ],\n",
      "  [ 0, 0, 12, 12, 12, 12 ],\n",
      "  [ 0, 10, 12, 22, 22, 22 ],\n",
      "  [ 0, 10, 12, 22, 30, 32 ],\n",
      "  [ 0, 10, 15, 25, 30, 37 ]\n",
      "]\n",
      "37\n"
     ]
    }
   ],
   "source": [
    "{\n",
    "\tlet n = 4; // 物品的数量，\n",
    "\tlet c = 5; // 书包能承受的重量，\n",
    "\tlet w = [2, 1, 3, 2]; // 每个物品的重量，\n",
    "\tlet v = [12, 10, 20, 15]; // 每个物品的价值\n",
    "\tlet value = bag(n, c, w, v);\n",
    "\tconsole.log(value);  // 第零行列忽略，之后每一行代表每个物品，列代表承重量\n",
    "\tconsole.log(value[n][c]);  // n = 4, c = 5的最佳组合\n",
    "}\n"
   ]
  },
  {
   "cell_type": "markdown",
   "metadata": {},
   "source": [
    "#### 回溯找组合\n"
   ]
  },
  {
   "cell_type": "code",
   "execution_count": 89,
   "metadata": {},
   "outputs": [],
   "source": [
    "function show(n, c, w, value) {\n",
    "  console.log('最大价值为：', value[n][c]);\n",
    "  let x = new Array(n).fill(false);\n",
    "  // 回溯\n",
    "  for (let i = n, j = c; i > 0; i--) {\n",
    "    if (value[i][j] > value[i - 1][j]) {\n",
    "      x[i - 1] = true;  // 说明选了第i个\n",
    "      j -= w[i - 1];  // 减去对应选择的数量，注意这里w，n这些都是0开始的，而value数组是从1开始的\n",
    "    }\n",
    "  }\n",
    "  console.log('背包中所装物品为：');\n",
    "  for (let i = 0; i < n; i++) {\n",
    "    if (x[i]) console.log(`第${i + 1}个`);\n",
    "  }\n",
    "}"
   ]
  },
  {
   "cell_type": "code",
   "execution_count": 90,
   "metadata": {},
   "outputs": [
    {
     "name": "stdout",
     "output_type": "stream",
     "text": [
      "最大价值为： 37\n",
      "背包中所装物品为：\n",
      "第1个\n",
      "第2个\n",
      "第4个\n"
     ]
    }
   ],
   "source": [
    "{\n",
    "  let n = 4; // 物品的数量，\n",
    "\tlet c = 5; // 书包能承受的重量，\n",
    "\tlet w = [2, 1, 3, 2]; // 每个物品的重量，\n",
    "\tlet v = [12, 10, 20, 15]; // 每个物品的价值\n",
    "\tlet value = bag(n, c, w, v);\n",
    "  show(n, c, w, value)\n",
    "}"
   ]
  },
  {
   "cell_type": "markdown",
   "metadata": {},
   "source": [
    "#### 带记忆功能的背包问题解法\n"
   ]
  },
  {
   "cell_type": "code",
   "execution_count": 102,
   "metadata": {},
   "outputs": [],
   "source": [
    "function bagRemember(n, c, w, v) {\n",
    "  function getArr(n, c) {\n",
    "    // 生成第一列，第一行为0，其余为null(-1表示)的二维数组\n",
    "    let value = new Array(n + 1);\n",
    "    value[0] = new Array(c + 1).fill(0);\n",
    "    for (let i = 1; i <= n; i++) {\n",
    "      value[i] = new Array(c + 1).fill(-1);\n",
    "      value[i][0] = 0;\n",
    "    }\n",
    "    return value;\n",
    "  }\n",
    "  let value = getArr(n, c)\n",
    "  function bagCore(i, j, w, v) {\n",
    "    if (value[i][j] < 0) {  // 如果计算过了，那么就直接返回结果\n",
    "      let temp = 0;\n",
    "      if (j < w[i - 1]) temp = bagCore(i - 1, j, w, v);  // 剩余容量装不下当前物品了，只能不要当前物品\n",
    "      else temp = Math.max(bagCore(i - 1, j, w, v),  //也是要当前物品与不要当前物品作比较\n",
    "      bagCore(i - 1, j - w[i - 1], w, v) + v[i - 1])  \n",
    "      value[i][j] = temp;\n",
    "    }\n",
    "    return value[i][j];\n",
    "  }\n",
    "  return bagCore(n, c, w, v);\n",
    "}"
   ]
  },
  {
   "cell_type": "code",
   "execution_count": 103,
   "metadata": {},
   "outputs": [
    {
     "data": {
      "text/plain": [
       "37"
      ]
     },
     "execution_count": 103,
     "metadata": {},
     "output_type": "execute_result"
    }
   ],
   "source": [
    "{\n",
    "  let n = 4; // 物品的数量，\n",
    "\tlet c = 5; // 书包能承受的重量，\n",
    "\tlet w = [2, 1, 3, 2]; // 每个物品的重量，\n",
    "\tlet v = [12, 10, 20, 15]; // 每个物品的价值\n",
    "  bagRemember(n, c, w, v)\n",
    "}"
   ]
  },
  {
   "cell_type": "markdown",
   "metadata": {},
   "source": [
    "#### 优化空间的尾部迭代法\n"
   ]
  },
  {
   "cell_type": "code",
   "execution_count": 8,
   "metadata": {},
   "outputs": [],
   "source": [
    "// 仅仅使用一个一维数组保存最优解\n",
    "function bagImproveSpace(n, c, w, v) {\n",
    "  let values = new Array(c + 1).fill(0);\n",
    "  for (let i = 1; i <= n; i++) {\n",
    "    for (let j = c; j > 0; j--) {\n",
    "      if (j >= w[i - 1])\n",
    "        values[j] = Math.max(values[j - w[i - 1]] + v[i - 1], values[j])\n",
    "    }\n",
    "  }\n",
    "  return values;\n",
    "}"
   ]
  },
  {
   "cell_type": "code",
   "execution_count": 9,
   "metadata": {},
   "outputs": [
    {
     "data": {
      "text/plain": [
       "[ 0, 10, 15, 25, 30, 37 ]"
      ]
     },
     "execution_count": 9,
     "metadata": {},
     "output_type": "execute_result"
    }
   ],
   "source": [
    "{\n",
    "  let n = 4; // 物品的数量，\n",
    "\tlet c = 5; // 书包能承受的重量，\n",
    "\tlet w = [2, 1, 3, 2]; // 每个物品的重量，\n",
    "\tlet v = [12, 10, 20, 15]; // 每个物品的价值\n",
    "  bagImproveSpace(n, c, w, v)\n",
    "}"
   ]
  },
  {
   "cell_type": "markdown",
   "metadata": {},
   "source": [
    "## 顺序检索技术\n"
   ]
  },
  {
   "cell_type": "markdown",
   "metadata": {},
   "source": [
    "### BF(暴力)\n"
   ]
  },
  {
   "cell_type": "code",
   "execution_count": 9,
   "metadata": {},
   "outputs": [],
   "source": [
    "function BF(s, p) {\n",
    "\tconst indies = [];\n",
    "\tfor (let i = 0; i < s.length - p.length + 1; i++) {\n",
    "\t\tlet tempI = i;\n",
    "\t\tfor (let j = 0; j < p.length; j++) {\n",
    "\t\t\tif (s[tempI] === p[j]) tempI++;\n",
    "\t\t\telse break;\n",
    "\t\t}\n",
    "\t\tif (tempI - i === p.length) {\n",
    "\t\t\tindies.push(i);\n",
    "\t\t}\n",
    "\t}\n",
    "\treturn indies;\n",
    "}"
   ]
  },
  {
   "cell_type": "code",
   "execution_count": 10,
   "metadata": {},
   "outputs": [
    {
     "data": {
      "text/plain": [
       "[\n",
       "   8, 12, 16, 20,\n",
       "  24, 28, 32, 39\n",
       "]"
      ]
     },
     "execution_count": 10,
     "metadata": {},
     "output_type": "execute_result"
    }
   ],
   "source": [
    "BF(\"ddwyhdghwdghwdghwdghwdghwdghwdghwdwhdghwd\", \"wd\");"
   ]
  },
  {
   "cell_type": "markdown",
   "metadata": {},
   "source": [
    "### [🔗KMP](https://www.ruanyifeng.com/blog/2013/05/Knuth%E2%80%93Morris%E2%80%93Pratt_algorithm.html)\n"
   ]
  },
  {
   "cell_type": "code",
   "execution_count": 27,
   "metadata": {},
   "outputs": [
    {
     "data": {
      "text/plain": [
       "[\n",
       "  0, 0, 0, 0,\n",
       "  1, 2, 3\n",
       "]"
      ]
     },
     "execution_count": 27,
     "metadata": {},
     "output_type": "execute_result"
    }
   ],
   "source": [
    "function getNextList(s) {\n",
    "\tlet len = s.length;\n",
    "\tconst nextList = [0, 0];\n",
    "\tlet j = 0;\n",
    "\tfor (let i = 1; i < len; i++) {\n",
    "\t\twhile (j > 0 && s[i] !== s[j]) {\n",
    "\t\t\tj = nextList[j];\n",
    "\t\t}\n",
    "\t\tif (s[i] === s[j]) j++;\n",
    "\t\tnextList.push(j);\n",
    "\t}\n",
    "\treturn nextList;\n",
    "}\n",
    "getNextList(\"ABCABC\");"
   ]
  },
  {
   "cell_type": "code",
   "execution_count": 28,
   "metadata": {},
   "outputs": [
    {
     "data": {
      "text/plain": [
       "[\n",
       "   8, 12, 16, 20,\n",
       "  24, 28, 32, 39\n",
       "]"
      ]
     },
     "execution_count": 28,
     "metadata": {},
     "output_type": "execute_result"
    }
   ],
   "source": [
    "// KMP算法的优势就在于不用回溯j指针\n",
    "function KMP(s, p) {\n",
    "\tlenS = s.length;\n",
    "\tlenP = p.length;\n",
    "\tconst nextList = getNextList(p);\n",
    "\tconst indeis = [];\n",
    "\tlet j = 0;\n",
    "\tfor (let i = 0; i < lenS; i++) {\n",
    "\t\t// i仍然是在一步步移动，只不过通过j跳过不需要的字符串，变的是j；\n",
    "\t\twhile (s[i] !== p[j] && j > 0) j = nextList[j];\n",
    "\t\tif (s[i] === p[j]) {\n",
    "\t\t\tj++;\n",
    "\t\t\tif (j === lenP) {\n",
    "\t\t\t\tindeis.push(i - lenP + 1);\n",
    "\t\t\t\tj = nextList[j];\n",
    "\t\t\t}\n",
    "\t\t}\n",
    "\t}\n",
    "\treturn indeis;\n",
    "}\n",
    "KMP(\"ddwyhdghwdghwdghwdghwdghwdghwdghwdwhdghwd\", \"wd\");"
   ]
  },
  {
   "cell_type": "markdown",
   "metadata": {},
   "source": [
    "## 贪心算法"
   ]
  },
  {
   "cell_type": "markdown",
   "metadata": {},
   "source": [
    "### Prim"
   ]
  },
  {
   "cell_type": "code",
   "execution_count": 1,
   "metadata": {},
   "outputs": [
    {
     "name": "stdout",
     "output_type": "stream",
     "text": [
      "[\n",
      "  [ 'a', 'b' ],\n",
      "  [ 'b', 'c' ],\n",
      "  [ 'b', 'f' ],\n",
      "  [ 'e', 'f' ],\n",
      "  [ 'd', 'f' ]\n",
      "]\n",
      "[ [ 'a', 'e' ], [ 'b', 'e' ], [ 'c', 'e' ], [ 'c', 'd' ] ]\n"
     ]
    }
   ],
   "source": [
    "function cmp(key1, key2) {\n",
    "  return key1 < key2 ? [key1, key2] : [key2, key1]\n",
    "}\n",
    "\n",
    "function prim(graph, initNode) {\n",
    "  const visited = new Set(initNode);  // 已访问集\n",
    "  const candidate = new Set(Object.keys(graph));  // 候选集\n",
    "  candidate.delete(initNode);  // 添加所有除开始顶点的其他顶点\n",
    "  const tree = [];  //结果\n",
    "  while (candidate.size > 0) {\n",
    "    let edgeMap = new Map();\n",
    "    for (let node of visited) {  // 找到所有已访问节点\n",
    "      for (let [connectNode, weight] of Object.entries(graph[node])) {  // 拿到与该节点相连的节点\n",
    "        if (candidate.has(connectNode)) { // 没访问过就加入待选集\n",
    "          edgeMap.set(cmp(connectNode, node), weight);  \n",
    "        }\n",
    "      }\n",
    "    }\n",
    "    let minKey = null, minVal = Number.MAX_VALUE;\n",
    "    for (let [key, val] of edgeMap) {  //从待选集找到最小的权重路径\n",
    "      if (val < minVal) {\n",
    "        minKey = key;\n",
    "        minVal = val;\n",
    "      }\n",
    "    }\n",
    "    tree.push(minKey);\n",
    "    visited.add(minKey[0]); // 把选中的加入已访问集合\n",
    "    visited.add(minKey[1]);\n",
    "    candidate.delete(minKey[0]);  // 把选中的移除候选集合\n",
    "    candidate.delete(minKey[1]);\n",
    "\n",
    "  }\n",
    "  return tree;\n",
    "}\n",
    "let p_graph1 = {\n",
    "  'a': { 'b': 3, 'e': 6, 'f': 5 },\n",
    "  'b': { 'a': 3, 'c': 1, 'f': 4 },\n",
    "  'c': { 'b': 1, 'd': 6, 'f': 4 },\n",
    "  'd': { 'c': 6, 'e': 8, 'f': 5 },\n",
    "  'e': { 'a': 6, 'd': 8, 'f': 2 },\n",
    "  'f': { 'a': 5, 'b': 4, 'c': 4, 'd': 5, 'e': 2 }\n",
    "}\n",
    "let p_graph2 = {\n",
    "  'a': { 'b': 5, 'c': 7, 'e': 2 },\n",
    "  'b': { 'a': 5, 'd': 6, 'e': 3 },\n",
    "  'c': { 'a': 7, 'd': 4, 'e': 4 },\n",
    "  'd': { 'b': 6, 'c': 4, 'e': 5 },\n",
    "  'e': { 'a': 2, 'b': 3, 'c': 4, 'd': 5 }\n",
    "}\n",
    "console.log(prim(p_graph1, 'a'));\n",
    "console.log(prim(p_graph2, 'a'));"
   ]
  },
  {
   "cell_type": "markdown",
   "metadata": {},
   "source": [
    "### Kruskal"
   ]
  },
  {
   "cell_type": "code",
   "execution_count": null,
   "metadata": {},
   "outputs": [],
   "source": [
    "function cmp(){\n",
    "  \n",
    "}"
   ]
  },
  {
   "cell_type": "markdown",
   "metadata": {},
   "source": [
    "### Dijkstra"
   ]
  },
  {
   "cell_type": "code",
   "execution_count": 2,
   "metadata": {},
   "outputs": [
    {
     "name": "stdout",
     "output_type": "stream",
     "text": [
      "0\t\t0\n",
      "1\t\t2\n",
      "2\t\t4\n",
      "3\t\t6\n",
      "4\t\t4\n",
      "5\t\t6\n"
     ]
    }
   ],
   "source": [
    "const INF = Number.MAX_SAFE_INTEGER;\n",
    "// 查找最近的点\n",
    "const minDistance = (dist, visited) => {\n",
    "  let min = INF;\n",
    "  let minIndex = -1;\n",
    "  for (let v = 0; v < dist.length; v++) {\n",
    "    if (visited[v] === false && dist[v] <= min) {\n",
    "      min = dist[v];\n",
    "      minIndex = v;\n",
    "    }\n",
    "  }\n",
    "  return minIndex;\n",
    "};\n",
    "/** \n",
    " * @param {图：邻接矩阵} graph \n",
    " * @param {顶点索引} src \n",
    " */\n",
    "const dijkstra = (graph, src) => {\n",
    "  const dist = [];\n",
    "  // 用于标识顶点 src 至其他顶点的距离是否确定\n",
    "  const visited = [];\n",
    "  const { length } = graph; \n",
    "  for (let i = 0; i < length; i++) {\n",
    "    dist[i] = INF;\n",
    "    visited[i] = false;\n",
    "  }\n",
    "  dist[src] = 0;\n",
    "  for (let i = 0; i < length - 1; i++) {\n",
    "    const u = minDistance(dist, visited);\n",
    "    // 标识顶点 src 到此顶点的距离已经确认\n",
    "    visited[u] = true;\n",
    "    for (let v = 0; v < length; v++) {\n",
    "      if (!visited[v] && graph[u][v] !== 0 && dist[u] !== INF && dist[u] + graph[u][v] < dist[v]) {\n",
    "        // 更新 dist\n",
    "        dist[v] = dist[u] + graph[u][v];\n",
    "      }\n",
    "    }\n",
    "  }\n",
    "  return dist;\n",
    "};\n",
    "\n",
    "// test \n",
    "const graph = [\n",
    "    [0, 2, 4, 0, 0, 0],\n",
    "    [0, 0, 2, 4, 2, 0],\n",
    "    [0, 0, 0, 0, 3, 0],\n",
    "    [0, 0, 0, 0, 0, 2],\n",
    "    [0, 0, 0, 3, 0, 2],\n",
    "    [0, 0, 0, 0, 0, 0]\n",
    "];\n",
    "\n",
    "const dist = dijkstra(graph, 0);\n",
    "for (let i = 0; i < dist.length; i++) {\n",
    "    console.log(i + '\\t\\t' + dist[i]);\n",
    "}"
   ]
  },
  {
   "cell_type": "code",
   "execution_count": null,
   "metadata": {},
   "outputs": [],
   "source": []
  }
 ],
 "metadata": {
  "kernelspec": {
   "display_name": "JavaScript (Node.js)",
   "language": "javascript",
   "name": "javascript"
  },
  "language_info": {
   "file_extension": ".js",
   "mimetype": "application/javascript",
   "name": "javascript",
   "version": "16.13.0"
  },
  "orig_nbformat": 4
 },
 "nbformat": 4,
 "nbformat_minor": 2
}
